{
 "cells": [
  {
   "cell_type": "markdown",
   "metadata": {},
   "source": [
    "### 문제 1 - input, float()\n",
    "- 통계학과 재학중입니다.\n",
    "- 학점은 140학점을 이수해야 하며, 평점은 2.5이상이 되어야 졸업이 가능합니다.\n",
    "- if문과 A and B 연산자를 이용하여 졸업이 가능한지, 졸업이 안되는지 확인해보자.\n",
    "    * 학점과 평점을 입력받는다.\n",
    "    * 140이상, 2.5이상 졸업\n",
    "    * 그 외 조건은 졸업이 힘듭니다.\n",
    "    * 학점과 평점은 정수가 아니므로 float(input())의 형태로 입력받아야 합니다."
   ]
  },
  {
   "cell_type": "code",
   "execution_count": 3,
   "metadata": {},
   "outputs": [
    {
     "name": "stdin",
     "output_type": "stream",
     "text": [
      "Please enter your credits:  140\n",
      "Please enter your average score:  3.3\n"
     ]
    },
    {
     "name": "stdout",
     "output_type": "stream",
     "text": [
      "You are eligible for graduation\n"
     ]
    }
   ],
   "source": [
    "def graduate_classifier():\n",
    "    \n",
    "    credit = int(input(\"Please enter your credits: \"))\n",
    "    score = float(input(\"Please enter your average score: \"))\n",
    "    \n",
    "    if(credit >= 140 and score >= 2.5):\n",
    "        print(\"You are eligible for graduation\")\n",
    "    else:\n",
    "        print(\"You cannot graduate\")\n",
    "        \n",
    "graduate_classifier()"
   ]
  },
  {
   "cell_type": "markdown",
   "metadata": {},
   "source": [
    "### 문제 2 - 클래스\n",
    "- 아래 계산기 클래스에 곱하기 기능을 추가해주세요."
   ]
  },
  {
   "cell_type": "code",
   "execution_count": 8,
   "metadata": {},
   "outputs": [],
   "source": [
    "class CalFnc2:\n",
    "    def __init__(self, result):\n",
    "        self.result = result\n",
    " \n",
    "    def plus(self, num):\n",
    "        self.result += num\n",
    "        return self.result\n",
    " \n",
    "    def sub(self, num):\n",
    "        self.result -= num\n",
    "        return self.result\n",
    "        \n",
    "    def mlt(self, num):\n",
    "        self.result *= num\n",
    "        return self.result"
   ]
  },
  {
   "cell_type": "code",
   "execution_count": 10,
   "metadata": {},
   "outputs": [
    {
     "name": "stdout",
     "output_type": "stream",
     "text": [
      "0\n",
      "5\n",
      "10\n"
     ]
    }
   ],
   "source": [
    "a = CalFnc2(0)\n",
    "\n",
    "print(a.result)\n",
    "\n",
    "print(a.plus(5))\n",
    "\n",
    "print(a.mlt(2))"
   ]
  },
  {
   "cell_type": "markdown",
   "metadata": {},
   "source": [
    "### 문제 3 - while문을 이용하여 로그인\n",
    "- while 문을 이용하여 5번까지만 id가 있는지 확인하기\n",
    "    * 초기의 id는 사용자가 정한다.\n",
    "    * 매번 id를 입력받는다.\n",
    "    * 있으면 있어요. 없으면 id가 없어요. 매번 출력한다.\n",
    "    * id가 있는지 확인이 되면 break를 이용하여 벗어나기"
   ]
  },
  {
   "cell_type": "code",
   "execution_count": 14,
   "metadata": {},
   "outputs": [
    {
     "name": "stdin",
     "output_type": "stream",
     "text": [
      "Please enter your id:  toto\n"
     ]
    },
    {
     "name": "stdout",
     "output_type": "stream",
     "text": [
      "logged in successfully.\n"
     ]
    }
   ],
   "source": [
    "def loginpage():\n",
    "    ori_id = 'toto'\n",
    "    \n",
    "    num = 0\n",
    "    while num!=5:\n",
    "        input_id = input(\"Please enter your id: \")\n",
    "        if(input_id == ori_id):\n",
    "            print(\"logged in successfully.\")\n",
    "            break\n",
    "        else:\n",
    "            num += 1\n",
    "            print(\"invalid id.\")\n",
    "            \n",
    "loginpage()"
   ]
  },
  {
   "cell_type": "markdown",
   "metadata": {},
   "source": [
    "### 문제 4\n",
    "- 세 개의 단어를 입력받아, 맨 마지막에서 2번째 연결하는 문자열을 출력해주세요."
   ]
  },
  {
   "cell_type": "code",
   "execution_count": 19,
   "metadata": {},
   "outputs": [
    {
     "name": "stdin",
     "output_type": "stream",
     "text": [
      "Please enter 1st word:  apple\n",
      "Please enter 2nd word:  banana\n",
      "Please enter 3rd word:  charlie\n"
     ]
    },
    {
     "name": "stdout",
     "output_type": "stream",
     "text": [
      "ie\n"
     ]
    }
   ],
   "source": [
    "word1 = input(\"Please enter 1st word: \")\n",
    "word2 = input(\"Please enter 2nd word: \")\n",
    "word3 = input(\"Please enter 3rd word: \")\n",
    "\n",
    "temp_word = word1 + word2 + word3\n",
    "word_2nd = int(len(temp_word)) - 2\n",
    "print(temp_word[word_2nd:])"
   ]
  },
  {
   "cell_type": "markdown",
   "metadata": {},
   "source": [
    "### 문제 5\n",
    "- 세 개의 상품과 가격을 아래와 같이 입력하여 text파일을 만들자.\n",
    "- mydata.txt\n",
    "    - 상품1, 5000\n",
    "    - 상품2, 10000\n",
    "    - 상품3, 100000\n",
    "- 파일을 불러와서 전체 내용을 출력해주세요\n",
    "- open()함수 이용"
   ]
  },
  {
   "cell_type": "code",
   "execution_count": 24,
   "metadata": {},
   "outputs": [
    {
     "name": "stdout",
     "output_type": "stream",
     "text": [
      "good1, 5000\n",
      "good2, 10000\n",
      "good3, 100000\n"
     ]
    }
   ],
   "source": [
    "file = open(\"mydata.txt\", \"r\")\n",
    "\n",
    "s = file.read()\n",
    "print(s)\n",
    "file.close()"
   ]
  },
  {
   "cell_type": "markdown",
   "metadata": {},
   "source": [
    "### 문제 6\n",
    "- 위의 파일에 상품4와 가격을 써보자\n",
    "- (hint) 'a' 모드 이용"
   ]
  },
  {
   "cell_type": "code",
   "execution_count": 25,
   "metadata": {},
   "outputs": [
    {
     "name": "stdout",
     "output_type": "stream",
     "text": [
      "good1, 5000\n",
      "good2, 10000\n",
      "good3, 100000\n",
      "good4, 500000\n"
     ]
    }
   ],
   "source": [
    "file = open(\"mydata.txt\", 'a')\n",
    "\n",
    "file.write(\"\\ngood4, 500000\")\n",
    "file.close()\n",
    "\n",
    "file = open(\"mydata.txt\", \"r\")\n",
    "\n",
    "s = file.read()\n",
    "print(s)\n",
    "file.close()"
   ]
  },
  {
   "cell_type": "markdown",
   "metadata": {},
   "source": [
    "### 문제 7\n",
    "- 하나의 이미지를 복사하는 프로그램을 작성해보자.\n",
    "    - 복사된 이미지에 대한 파일을 올려보자."
   ]
  },
  {
   "cell_type": "code",
   "execution_count": 31,
   "metadata": {},
   "outputs": [
    {
     "name": "stdin",
     "output_type": "stream",
     "text": [
      "Please enter the original file name with extention:  ubq.jpg\n",
      "Please enter the copy file name wlith extention:  protein2.jpg\n"
     ]
    },
    {
     "name": "stdout",
     "output_type": "stream",
     "text": [
      "Complete!\n"
     ]
    }
   ],
   "source": [
    "import os\n",
    "\n",
    "file1 = input(\"Please enter the original file name with extention: \")\n",
    "file2 = input(\"Please enter the copy file name wlith extention: \")\n",
    "\n",
    "infile = open(file1, \"rb\")\n",
    "outfile = open(file2, \"wb\")\n",
    "\n",
    "while True:\n",
    "    copy_buffer = infile.read(1024)\n",
    "    if not copy_buffer:\n",
    "        break\n",
    "    outfile.write(copy_buffer)\n",
    "    \n",
    "infile.close()\n",
    "outfile.close()\n",
    "print(\"Complete!\")"
   ]
  },
  {
   "cell_type": "markdown",
   "metadata": {},
   "source": [
    "### 문제 8\n",
    "- 내가 방문하고 싶은 url을 리스트로 5개를 만들자.\n",
    "- 방문하고 싶은 사이트를 입력으로 받아서 이에 대한 웹 브라우저를 여는 프로그램을 만들어보자.\n",
    "- (예) 다음 중에 당신이 방문하고 싶은 사이트는?\n",
    "    - 네이버(1), 다음(2), 구글 논문(3), 네이버 영화(4), 네이버쇼핑(5): 1\n",
    "    - 네이버로 연결하는 웹브라우저 띄우기"
   ]
  },
  {
   "cell_type": "code",
   "execution_count": 57,
   "metadata": {},
   "outputs": [
    {
     "name": "stdout",
     "output_type": "stream",
     "text": [
      "Which site do your want to visit\n",
      "Youtube(1), Kaggle(2), Google Scholar(3), Tving(4), investing.com(5)\n"
     ]
    },
    {
     "name": "stdin",
     "output_type": "stream",
     "text": [
      " 3\n"
     ]
    },
    {
     "data": {
      "text/plain": [
       "'\\ndef set_my_weblist():\\n    global my_url = []\\n    s = True\\n    i = 0\\n        \\n    while(s):\\n        i += 1\\n        print(\"You can enter 5 urls. please enter your favorite url: \")\\n        temp = input()\\n        my_url.append(temp)\\n                    \\n        if(i == 5):\\n            s = False\\n            \\n    print(\"Your web list is :\")\\n    return(my_url)\\n\\ndef web_bookmark():\\n    print(\"Your web list\")\\n    print(\"select 1 : %c\" .format(my_url[0]))\\n    print(\"Which URL want to visit?: \")\\n\\nset_my_weblist()\\n'"
      ]
     },
     "execution_count": 57,
     "metadata": {},
     "output_type": "execute_result"
    }
   ],
   "source": [
    "import webbrowser\n",
    "\n",
    "url_list = ['https://www.youtube.com/',\n",
    "            'https://www.kaggle.com/',\n",
    "            'https://scholar.google.com/schhp?hl=en&as_sdt=0,5',\n",
    "            'http://www.tving.com/main.do?retRef=Y&source=https://www.google.com/',\n",
    "            'https://kr.investing.com/']\n",
    "\n",
    "url_name = ['Youtube', 'Kaggle', 'Google Scholar', 'Tving', 'investing.com']\n",
    "\n",
    "print(\"Which site do your want to visit\")\n",
    "print(\"Youtube(1), Kaggle(2), Google Scholar(3), Tving(4), investing.com(5)\")\n",
    "channel_num = int(input(\"\"))\n",
    "\n",
    "if(channel_num == 1):\n",
    "    webbrowser.open(url_list[0])\n",
    "elif(channel_num == 2):\n",
    "    webbrowser.open(url_list[1])\n",
    "elif(channel_num == 3):\n",
    "    webbrowser.open(url_list[2])\n",
    "elif(channel_num == 4):\n",
    "    webbrowser.open(url_list[3])\n",
    "else:\n",
    "    webbrowser.open(url_list[4])\n",
    "    \n",
    "\n",
    "\"\"\"\n",
    "def set_my_weblist():\n",
    "    global my_url = []\n",
    "    s = True\n",
    "    i = 0\n",
    "        \n",
    "    while(s):\n",
    "        i += 1\n",
    "        print(\"You can enter 5 urls. please enter your favorite url: \")\n",
    "        temp = input()\n",
    "        my_url.append(temp)\n",
    "                    \n",
    "        if(i == 5):\n",
    "            s = False\n",
    "            \n",
    "    print(\"Your web list is :\")\n",
    "    return(my_url)\n",
    "\n",
    "def web_bookmark():\n",
    "    print(\"Your web list\")\n",
    "    print(\"select 1 : %c\" .format(my_url[0]))\n",
    "    print(\"Which URL want to visit?: \")\n",
    "\n",
    "set_my_weblist()\n",
    "\"\"\"\n"
   ]
  },
  {
   "cell_type": "code",
   "execution_count": null,
   "metadata": {},
   "outputs": [],
   "source": []
  }
 ],
 "metadata": {
  "kernelspec": {
   "display_name": "Python 3",
   "language": "python",
   "name": "python3"
  },
  "language_info": {
   "codemirror_mode": {
    "name": "ipython",
    "version": 3
   },
   "file_extension": ".py",
   "mimetype": "text/x-python",
   "name": "python",
   "nbconvert_exporter": "python",
   "pygments_lexer": "ipython3",
   "version": "3.8.3"
  }
 },
 "nbformat": 4,
 "nbformat_minor": 4
}
