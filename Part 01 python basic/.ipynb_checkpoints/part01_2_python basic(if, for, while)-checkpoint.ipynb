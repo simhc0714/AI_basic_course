{
 "cells": [
  {
   "cell_type": "markdown",
   "metadata": {},
   "source": [
    "# 2020-09-22 (화) 수업\n",
    "\n",
    "### .ipynb : i-python-notebook\n",
    "\n",
    "- SHIFT + ENTER : 실행\n",
    "- CTRL + ENTER : 실행\n",
    "- ESC + M : 설명추가\n",
    "- ESC + A : 셀 추가\n",
    "- ESC + B : 셀 추가\n",
    "- ESC + X : 셀 삭제 (D, D)"
   ]
  },
  {
   "cell_type": "code",
   "execution_count": null,
   "metadata": {},
   "outputs": [],
   "source": [
    "'''\n",
    "def a():\n",
    "    pass\n",
    "    \n",
    "# 매개변수 전달 받아 기능 수행.\n",
    "def a(num1, num2):\n",
    "    rst = num1 + num2\n",
    "    print(rst)\n",
    "    \n",
    "# 매개변수 전달 받고 결과 반환.\n",
    "def a(num1, num2):\n",
    "    rst = num1 + num2\n",
    "    print(rst)\n",
    "    return rst\n",
    "    \n",
    "# 기본값은 매개변수가 부족할 경우 사용. 매개변수 받으면 기본값 사용하지 않음.\n",
    "def a(num1, num2=0, num3=0):\n",
    "    rst = num1 + num2 + num3\n",
    "    print(rst)\n",
    "    return rst\n",
    "    \n",
    "Ex) 코드 실행에서..\n",
    "a(2) 일 경우, 2 return\n",
    "a(2,3,4) 일 경우, 9 return\n",
    "    \n",
    "# 매개변수가 부족하면 error.\n",
    "'''"
   ]
  },
  {
   "cell_type": "code",
   "execution_count": 2,
   "metadata": {},
   "outputs": [
    {
     "name": "stdout",
     "output_type": "stream",
     "text": [
      "==================\n"
     ]
    }
   ],
   "source": [
    "# 한 줄을 출력해보자.\n",
    "def oneline():\n",
    "    print(\"==================\")\n",
    "    \n",
    "oneline()"
   ]
  },
  {
   "cell_type": "code",
   "execution_count": 4,
   "metadata": {},
   "outputs": [
    {
     "name": "stdout",
     "output_type": "stream",
     "text": [
      "3\n"
     ]
    }
   ],
   "source": [
    "# 두 개의 합\n",
    "def two_plus(a,b):\n",
    "    print(a+b)\n",
    "    \n",
    " # two_plus(1) 일 경우, two_plus() missing 1 required positional argument: 'b' error\n",
    "\n",
    "two_plus(1,2) # 3"
   ]
  },
  {
   "cell_type": "code",
   "execution_count": 6,
   "metadata": {},
   "outputs": [
    {
     "name": "stdout",
     "output_type": "stream",
     "text": [
      "6\n",
      "4\n"
     ]
    }
   ],
   "source": [
    "# 세 개의 합 (기본값 존재하는 경우)\n",
    "def three_plus(a,b,c=0):\n",
    "    print(a+b+c)\n",
    "    \n",
    "three_plus(1,2,3) # 6\n",
    "three_plus(1,3) # 4"
   ]
  },
  {
   "cell_type": "code",
   "execution_count": 12,
   "metadata": {},
   "outputs": [
    {
     "data": {
      "text/plain": [
       "-1"
      ]
     },
     "execution_count": 12,
     "metadata": {},
     "output_type": "execute_result"
    }
   ],
   "source": [
    "# (실습 4)\n",
    "def two_minus(num1=0, num2=0):\n",
    "    return(num1-num2)\n",
    "    \n",
    "two_minus(2,3) # -1"
   ]
  },
  {
   "cell_type": "code",
   "execution_count": 14,
   "metadata": {},
   "outputs": [
    {
     "data": {
      "text/plain": [
       "3"
      ]
     },
     "execution_count": 14,
     "metadata": {},
     "output_type": "execute_result"
    }
   ],
   "source": [
    "# 추가 실습 - 두 개의 값 중 (큰 수) 를 전달\n",
    "def two_minus(num1=0, num2=0):\n",
    "    if(num1>=num2):\n",
    "        return(num1)\n",
    "    else:\n",
    "        return(num2)\n",
    "    \n",
    "two_minus(2,3) # 3"
   ]
  },
  {
   "cell_type": "markdown",
   "metadata": {},
   "source": [
    "# 자료형\n",
    "* 문자열 - '', '''\n",
    "* 리스트 자료형\n",
    "* 튜플(tuple)\n",
    "* 딕셔너리\n",
    "* 집합"
   ]
  },
  {
   "cell_type": "code",
   "execution_count": 15,
   "metadata": {},
   "outputs": [],
   "source": [
    "# 문자열\n",
    "str1 = \"Hello World!\" # 문자가 여러개 모여있어서 '문자열'\n",
    "\n",
    "# 리스트 (수정 변경 가능)\n",
    "list1 = [1,2,3,4]\n",
    "\n",
    "# 튜플 (수정 변경 불가)\n",
    "tuple_dat = (1,2,3,4)\n",
    "\n",
    "# 딕셔너리 - {키:값, 키1:값1, 키2:값2}\n",
    "dict_dat = {\"a\":\"apple\", \"b\":\"banana\"}\n",
    "\n",
    "dict_dat = {\"a\":['apple', 'animal'], \"b\":['best', 'bike']} # 리스트도 포함할 수 있다."
   ]
  },
  {
   "cell_type": "markdown",
   "metadata": {},
   "source": [
    "### 문자열 값에 접근하는 방법?\n",
    "* 한 글자 가져오기 (인덱싱)\n",
    "* 여러글자 가져오기 (슬라이싱)"
   ]
  },
  {
   "cell_type": "code",
   "execution_count": 17,
   "metadata": {},
   "outputs": [
    {
     "name": "stdout",
     "output_type": "stream",
     "text": [
      "H\n",
      "e\n",
      "Hello\n"
     ]
    }
   ],
   "source": [
    "# 문자열\n",
    "str1 = \"Hello World!\"\n",
    "\n",
    "# 0 번째 문자 선택 (인덱싱)\n",
    "print(str1[0])\n",
    "# H\n",
    " \n",
    "# 1 번째 문자 선택\n",
    "print(str1[1])\n",
    "# E\n",
    "\n",
    "# 0 번째에서 5번째 앞까지 출력 (슬라이싱)\n",
    "print(str1[0:5])\n",
    "# Hello\n",
    "\n",
    "print(str1[:5]) # 앞에서 5번째 앞까지 출력, Hello\n",
    "print(str1[6:]) # 6번째에서 끝까지 출력, World!"
   ]
  },
  {
   "cell_type": "code",
   "execution_count": null,
   "metadata": {},
   "outputs": [],
   "source": []
  }
 ],
 "metadata": {
  "kernelspec": {
   "display_name": "Python 3",
   "language": "python",
   "name": "python3"
  },
  "language_info": {
   "codemirror_mode": {
    "name": "ipython",
    "version": 3
   },
   "file_extension": ".py",
   "mimetype": "text/x-python",
   "name": "python",
   "nbconvert_exporter": "python",
   "pygments_lexer": "ipython3",
   "version": "3.8.3"
  }
 },
 "nbformat": 4,
 "nbformat_minor": 4
}
