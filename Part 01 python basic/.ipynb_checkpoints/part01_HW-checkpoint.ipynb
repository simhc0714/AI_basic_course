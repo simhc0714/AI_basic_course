{
 "cells": [
  {
   "cell_type": "markdown",
   "metadata": {},
   "source": [
    "# 2020-09-22 과제\n",
    "\n",
    "## 문제 1.\n",
    "- 현재 기온을 입력받아, if 문을 이용하여\n",
    "    - 27도 이상이면 반바지를 입으세요.\n",
    "    - 27도 미만이면 긴바지를 입으세요. 출력하기"
   ]
  },
  {
   "cell_type": "code",
   "execution_count": 19,
   "metadata": {},
   "outputs": [
    {
     "name": "stdin",
     "output_type": "stream",
     "text": [
      "현재 기온은 몇 도 입니까?  22\n"
     ]
    },
    {
     "name": "stdout",
     "output_type": "stream",
     "text": [
      "긴바지를 입으세요.\n"
     ]
    }
   ],
   "source": [
    "def pants_rec():\n",
    "    temp = input(\"현재 기온은 몇 도 입니까? \")\n",
    "\n",
    "    if(float(temp)>=27):\n",
    "        print(\"반바지를 입으세요.\")\n",
    "    else:\n",
    "        print(\"긴바지를 입으세요.\")\n",
    "        \n",
    "pants_rec()"
   ]
  },
  {
   "cell_type": "markdown",
   "metadata": {},
   "source": [
    "## 문제 2.\n",
    "- 정수를 입력받아,\n",
    "    - 입력된 값이 짝수이면 짝수라고 출력\n",
    "    - 입력된 값이 홀수이면 홀수라고 출력\n",
    "- (Hint) % 연산자 이용해보기"
   ]
  },
  {
   "cell_type": "code",
   "execution_count": 20,
   "metadata": {},
   "outputs": [
    {
     "name": "stdin",
     "output_type": "stream",
     "text": [
      "정수를 입력하시오.  23\n"
     ]
    },
    {
     "name": "stdout",
     "output_type": "stream",
     "text": [
      "23 는 홀수입니다.\n"
     ]
    }
   ],
   "source": [
    "def Odd_classfy():\n",
    "    num = input(\"정수를 입력하시오. \")\n",
    "\n",
    "    if(int(num)%2==0):\n",
    "        print(\"%d 는 짝수입니다.\" %(int(num)))\n",
    "    else:\n",
    "        print(\"%d 는 홀수입니다.\" %(int(num)))\n",
    "        \n",
    "Odd_classfy()"
   ]
  },
  {
   "cell_type": "markdown",
   "metadata": {},
   "source": [
    "## 문제 3.\n",
    "- 성적을 입력받아,\n",
    "    - 95점 이상이면 그랜드 마스터\n",
    "    - 90점 이상이면 커널 마스터\n",
    "    - 80점 이상이면 익스퍼트\n",
    "    - 70점 이상이면 초심자\n",
    "    - 나머지는 해당하지 않음 출력하기\n",
    "- (Hint) elif 이용하기"
   ]
  },
  {
   "cell_type": "code",
   "execution_count": 21,
   "metadata": {},
   "outputs": [
    {
     "name": "stdin",
     "output_type": "stream",
     "text": [
      "성적을 입력하시오:  80\n"
     ]
    },
    {
     "data": {
      "text/plain": [
       "'Expert'"
      ]
     },
     "execution_count": 21,
     "metadata": {},
     "output_type": "execute_result"
    }
   ],
   "source": [
    "def grade_classfy():\n",
    "    \n",
    "    pt = input(\"성적을 입력하시오: \")\n",
    "    \n",
    "    if(int(pt)>100):\n",
    "        return(\"100 이하의 정수를 입력하시오.\")\n",
    "    elif(int(pt)>=95):\n",
    "        return(\"Grandmaster\")\n",
    "    elif(int(pt)>=90):\n",
    "        return(\"Kernelmaster\")\n",
    "    elif(int(pt)>=80):\n",
    "        return(\"Expert\")\n",
    "    elif(int(pt)>=70):\n",
    "        return(\"Beginner\")\n",
    "    else:\n",
    "        return(\"Unranked\")\n",
    "        \n",
    "grade_classfy()"
   ]
  },
  {
   "cell_type": "markdown",
   "metadata": {},
   "source": [
    "## 문제 4\n",
    "- for를 이용하여 10부터 20까지 정수합을 구하는 프로그램 만들기"
   ]
  },
  {
   "cell_type": "code",
   "execution_count": 65,
   "metadata": {},
   "outputs": [
    {
     "name": "stdout",
     "output_type": "stream",
     "text": [
      "145\n"
     ]
    }
   ],
   "source": [
    "def sum_integer():\n",
    "    nums = [10,11,12,13,14,15,16,17,18,19,20]\n",
    "\n",
    "    temp = 0\n",
    "    i = 0\n",
    "        \n",
    "    for num in nums:\n",
    "        temp = temp + num\n",
    "        i = i + 1\n",
    "    \n",
    "        if(i==10):\n",
    "            print(temp)\n",
    "        \n",
    "sum_integer()"
   ]
  },
  {
   "cell_type": "markdown",
   "metadata": {},
   "source": [
    "## 문제 5\n",
    "- 하나의 문자를 입력받아, 숫자를 제거하는 프로그램을 만들어보자."
   ]
  },
  {
   "cell_type": "code",
   "execution_count": 86,
   "metadata": {},
   "outputs": [
    {
     "name": "stdin",
     "output_type": "stream",
     "text": [
      "문자열을 입력하세요.  A1B2C3\n"
     ]
    },
    {
     "name": "stdout",
     "output_type": "stream",
     "text": [
      "['A', '1', 'B', '2', 'C', '3']\n"
     ]
    }
   ],
   "source": [
    "def num_del():\n",
    "    str1 = input(\"문자열을 입력하세요. \") #ABC123DEF\n",
    "    str2 = []\n",
    "    \n",
    "    str_len = len(str1)\n",
    "    i = 0\n",
    "    \n",
    "    for num in str1:\n",
    "        if(not(str1[i]) == False):\n",
    "            str2.append(str1[i])\n",
    "            i = i + 1\n",
    "            \n",
    "        if(i == str_len):\n",
    "            print(str2[0:])\n",
    "            \n",
    "num_del()"
   ]
  },
  {
   "cell_type": "code",
   "execution_count": null,
   "metadata": {},
   "outputs": [],
   "source": []
  }
 ],
 "metadata": {
  "kernelspec": {
   "display_name": "Python 3",
   "language": "python",
   "name": "python3"
  },
  "language_info": {
   "codemirror_mode": {
    "name": "ipython",
    "version": 3
   },
   "file_extension": ".py",
   "mimetype": "text/x-python",
   "name": "python",
   "nbconvert_exporter": "python",
   "pygments_lexer": "ipython3",
   "version": "3.8.3"
  }
 },
 "nbformat": 4,
 "nbformat_minor": 4
}
