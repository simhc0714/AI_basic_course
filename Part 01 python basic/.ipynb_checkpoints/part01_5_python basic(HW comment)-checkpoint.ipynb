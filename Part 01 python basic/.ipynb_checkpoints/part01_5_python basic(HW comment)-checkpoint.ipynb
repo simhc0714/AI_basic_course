{
 "cells": [
  {
   "cell_type": "markdown",
   "metadata": {},
   "source": [
    "수업 노트\n",
    "* 파이썬 기본 (Review, 내장함수, 라이브러리, 프로그래밍,, 기타)\n",
    "* 과제는 오늘 확인 후, Comment\n",
    "\n",
    "Part 01 파이썬 기본\n",
    "    - 9/28 (월) 파이썬 기본 - 모듈과 패키지, 업무 자동화\n",
    "    - 9/29 (화) 파이썬 기본\n",
    "        -파이썬 기본 (라이브러리 실습, 파이썬 프로그래밍)\n",
    "        - 기타 (GUI)\n",
    "        \n",
    "준비\n",
    "- Kaggle 사용자 가입\n",
    "- 책([도서] 파이썬 라이브러리를 활용한 머신러닝 : \n",
    "    - 사이킷런 핵심 개발자가 쓴 머신러닝과 데이터 과학 실무서(번역\n",
    "-\n",
    "\n",
    "시간이 되면 공부해 두기\n",
    "- HTML\n",
    "- BeautifulSoup\n",
    "- Selenium\n",
    "- numpy, pandas, matplotlib, seaborn\n",
    "\n",
    "======================================\n",
    "* 쉬는 시간을 통해 질문이나 에라 수정한 내용을 올려주세요.\n",
    "유형 1. 제목 : [파이썬기본] [질문] 제목\n",
    "유형 2. 제목 : [파이썬기본] [에러 및 해결] 한줄 에러 내용\n",
    "[소스코드]\n",
    "\n",
    "[해결]\n",
    "\n",
    "======================================\n",
    "# 과제 Comment\n",
    "======================================\n",
    "# 수업\n",
    "======================================"
   ]
  },
  {
   "cell_type": "markdown",
   "metadata": {},
   "source": [
    "## python을 초기 설치하면, 기본적으로 제공되는 함수(내장함수)\n",
    "\n",
    "### abs: 절대값"
   ]
  },
  {
   "cell_type": "code",
   "execution_count": 6,
   "metadata": {},
   "outputs": [
    {
     "data": {
      "text/plain": [
       "'0'"
      ]
     },
     "execution_count": 6,
     "metadata": {},
     "output_type": "execute_result"
    }
   ],
   "source": [
    "# chr(i)는 아스키코드(ASCII) 값을 입력받아 그 코드에 해당하는 문자를 출력하는 함수이다.\n",
    "chr(48)"
   ]
  },
  {
   "cell_type": "code",
   "execution_count": 7,
   "metadata": {},
   "outputs": [
    {
     "data": {
      "text/plain": [
       "['__abs__',\n",
       " '__add__',\n",
       " '__and__',\n",
       " '__bool__',\n",
       " '__ceil__',\n",
       " '__class__',\n",
       " '__delattr__',\n",
       " '__dir__',\n",
       " '__divmod__',\n",
       " '__doc__',\n",
       " '__eq__',\n",
       " '__float__',\n",
       " '__floor__',\n",
       " '__floordiv__',\n",
       " '__format__',\n",
       " '__ge__',\n",
       " '__getattribute__',\n",
       " '__getnewargs__',\n",
       " '__gt__',\n",
       " '__hash__',\n",
       " '__index__',\n",
       " '__init__',\n",
       " '__init_subclass__',\n",
       " '__int__',\n",
       " '__invert__',\n",
       " '__le__',\n",
       " '__lshift__',\n",
       " '__lt__',\n",
       " '__mod__',\n",
       " '__mul__',\n",
       " '__ne__',\n",
       " '__neg__',\n",
       " '__new__',\n",
       " '__or__',\n",
       " '__pos__',\n",
       " '__pow__',\n",
       " '__radd__',\n",
       " '__rand__',\n",
       " '__rdivmod__',\n",
       " '__reduce__',\n",
       " '__reduce_ex__',\n",
       " '__repr__',\n",
       " '__rfloordiv__',\n",
       " '__rlshift__',\n",
       " '__rmod__',\n",
       " '__rmul__',\n",
       " '__ror__',\n",
       " '__round__',\n",
       " '__rpow__',\n",
       " '__rrshift__',\n",
       " '__rshift__',\n",
       " '__rsub__',\n",
       " '__rtruediv__',\n",
       " '__rxor__',\n",
       " '__setattr__',\n",
       " '__sizeof__',\n",
       " '__str__',\n",
       " '__sub__',\n",
       " '__subclasshook__',\n",
       " '__truediv__',\n",
       " '__trunc__',\n",
       " '__xor__',\n",
       " 'as_integer_ratio',\n",
       " 'bit_length',\n",
       " 'conjugate',\n",
       " 'denominator',\n",
       " 'from_bytes',\n",
       " 'imag',\n",
       " 'numerator',\n",
       " 'real',\n",
       " 'to_bytes']"
      ]
     },
     "execution_count": 7,
     "metadata": {},
     "output_type": "execute_result"
    }
   ],
   "source": [
    "# dir 은 객체가 자체적으로 가지고 있는 변수나 함수를 보여준다.\n",
    "a = 3\n",
    "dir(a)\n",
    "# 문자열 처리를하는 수많은 함수들..."
   ]
  },
  {
   "cell_type": "code",
   "execution_count": 8,
   "metadata": {},
   "outputs": [
    {
     "name": "stdout",
     "output_type": "stream",
     "text": [
      "0 1\n",
      "1 2\n",
      "2 3\n",
      "3 4\n",
      "4 5\n"
     ]
    }
   ],
   "source": [
    "a2 = [1, 2, 3, 4, 5]\n",
    "for idx, val in enumerate(a2): # a2 라는 리스트의 인덱스와 값을 하나씩 뽑아주는 것\n",
    "    print(idx, val)"
   ]
  },
  {
   "cell_type": "markdown",
   "metadata": {},
   "source": [
    "### (실습 2-1) 리스트를 하나 만들고\n",
    "    * 리스트의 길이 출력하기\n",
    "    * 리스트의 idx와 val을 for문에서 뽑기"
   ]
  },
  {
   "cell_type": "code",
   "execution_count": 13,
   "metadata": {},
   "outputs": [
    {
     "name": "stdout",
     "output_type": "stream",
     "text": [
      "3\n",
      "0 빵\n",
      "1 고기\n",
      "2 사과\n"
     ]
    }
   ],
   "source": [
    "food = ['빵', '고기', '사과']\n",
    "print(len(food))\n",
    "for idx, val in enumerate(food):\n",
    "    print(idx, val)"
   ]
  },
  {
   "cell_type": "markdown",
   "metadata": {},
   "source": [
    "### (실습 3-1) spyder 사용하였음."
   ]
  },
  {
   "cell_type": "code",
   "execution_count": 14,
   "metadata": {},
   "outputs": [
    {
     "data": {
      "text/plain": [
       "'C:\\\\Users\\\\BCBL\\\\Documents\\\\COG AI basic\\\\Part 01 python basic'"
      ]
     },
     "execution_count": 14,
     "metadata": {},
     "output_type": "execute_result"
    }
   ],
   "source": [
    "# OS 환경변수 디렉터리 생성, 파일 등의 OS 자원을 제어할 수 있다.\n",
    "import os\n",
    "\n",
    "os.getcwd()"
   ]
  },
  {
   "cell_type": "code",
   "execution_count": 15,
   "metadata": {},
   "outputs": [
    {
     "data": {
      "text/plain": [
       "\" os. # '+ TAB'\""
      ]
     },
     "execution_count": 15,
     "metadata": {},
     "output_type": "execute_result"
    }
   ],
   "source": [
    "# 탭을 누르면 모듈에서 사용가능한 다양한 펑션을 볼 수 있다.\n",
    "\" os. # '+ TAB'\""
   ]
  },
  {
   "cell_type": "markdown",
   "metadata": {},
   "source": [
    "### Time()\n",
    "- 내가 작업하는 어떤 작업의 시간을 측정\n",
    "- 일정시간 지연을 둠."
   ]
  },
  {
   "cell_type": "code",
   "execution_count": 19,
   "metadata": {},
   "outputs": [
    {
     "name": "stdout",
     "output_type": "stream",
     "text": [
      "apple\n",
      "mandarine\n",
      "peach\n"
     ]
    }
   ],
   "source": [
    "import time\n",
    "\n",
    "for i in['apple', 'mandarine', 'peach']:\n",
    "    print(i)\n",
    "    time.sleep()"
   ]
  },
  {
   "cell_type": "code",
   "execution_count": 20,
   "metadata": {},
   "outputs": [
    {
     "name": "stdout",
     "output_type": "stream",
     "text": [
      "1601001639.5084522\n",
      "time.struct_time(tm_year=2020, tm_mon=9, tm_mday=25, tm_hour=11, tm_min=40, tm_sec=39, tm_wday=4, tm_yday=269, tm_isdst=0)\n"
     ]
    }
   ],
   "source": [
    "# UTC(표준시간대)를 사용하여 현재 시간을 실수 형태로 1970년 1월 1일 기준\n",
    "a = time.time()\n",
    "print(a)\n",
    "b = time.localtime(a)\n",
    "print(b)"
   ]
  },
  {
   "cell_type": "code",
   "execution_count": null,
   "metadata": {},
   "outputs": [],
   "source": [
    "'''\n",
    "a = time.time()\n",
    "for i in range(1, 1000000, 1):\n",
    "    sum = 1\n",
    "    \n",
    "b = time.time()\n",
    "sub= b - a\n",
    "\n",
    "t1 = time.localtime(sub)\n",
    "print(t1)\n",
    "\n",
    "print(sub)\n",
    "'''"
   ]
  },
  {
   "cell_type": "markdown",
   "metadata": {},
   "source": [
    "### 웹브라우저 자동 실행"
   ]
  },
  {
   "cell_type": "code",
   "execution_count": 23,
   "metadata": {},
   "outputs": [
    {
     "data": {
      "text/plain": [
       "True"
      ]
     },
     "execution_count": 23,
     "metadata": {},
     "output_type": "execute_result"
    }
   ],
   "source": [
    "import webbrowser\n",
    "\n",
    "webbrowser.open(\"https://google.com\")"
   ]
  },
  {
   "cell_type": "markdown",
   "metadata": {},
   "source": [
    "### (실습 3-3) 3개의 URL을 리스트로 저장하고, for 문으로 이를 돌려 열어보도록 하자."
   ]
  },
  {
   "cell_type": "code",
   "execution_count": 25,
   "metadata": {},
   "outputs": [],
   "source": [
    "import webbrowser\n",
    "\n",
    "url1 = \"https://www.cdc.gov/mmwr/Novel_Coronavirus_Reports.html\"\n",
    "url2 = \"https://scholar.google.com/schhp?hl=en&as_sdt=0,5\"\n",
    "url3 = \"https://www.youtube.com/\"\n",
    "\n",
    "url = [url1, url2, url3]\n",
    "\n",
    "for i in url:\n",
    "    webbrowser.open(i)"
   ]
  },
  {
   "cell_type": "markdown",
   "metadata": {},
   "source": [
    "### 정규표현식\n",
    "- 주민등록번호를 포함하고 있는 텍스트가 있다. 이 텍스트에 포함된 모든 주민등록번호의 뒷자리를 * 문자로 변경해 보자."
   ]
  },
  {
   "cell_type": "code",
   "execution_count": 44,
   "metadata": {},
   "outputs": [
    {
     "name": "stdout",
     "output_type": "stream",
     "text": [
      "\n",
      "park 800905-*******\n",
      "kim  700905-*******\n",
      "\n"
     ]
    }
   ],
   "source": [
    "# 일반적으로 구현한 코드(복잡하고 길다..)\n",
    "data = \"\"\"\n",
    "park 800905-1049118\n",
    "kim  700905-1059119\n",
    "\"\"\"\n",
    "\n",
    "result = []\n",
    "for line in data.split(\"\\n\"): # 줄 바꿈으로 구분\n",
    "    # ['park 800905-1049118', 'kim 700905-1059119']\n",
    "    \n",
    "    word_result = []\n",
    "    \n",
    "    for word in line.split(\" \"): # 한줄 데이터를 공백으로 나누기\n",
    "        # ['park', '800905-1049118', 'kim', '700905-1059119']\n",
    "        \n",
    "        if len(word) == 14 and word[:6].isdigit() and word[7:].isdigit():\n",
    "            # word(park과 주민번호)가 14자리 and 6번째까지 숫자 and 7번째부터 숫자라면\n",
    "            \n",
    "            word = word[:6] + \"-\" + \"*******\"\n",
    "            # word는 word의 앞 6자리를 쓰고, -(대쉬)를 붙이고 * 7개를 붙인다.\n",
    "            \n",
    "        word_result.append(word)\n",
    "        # word_result는 [] 공백 배열인데 위에서 연산한 word를 추가한다.\n",
    "        # ['park']\n",
    "        # ['park', '800905-*******'] 이런식으로 추가.\n",
    "        \n",
    "    result.append(\" \".join(word_result))\n",
    "    # [] 공백 배열인 result에 한칸씩 띄우며 문자열을 합친다.\n",
    "    # ['park 800905-1049118']\n",
    "    # for word in line.split(\" \")으로 돌아가 kim 데이터를 처리.\n",
    "    # ['park 800905-1049118', 'kim 700905-1059119']\n",
    "    \n",
    "print(\"\\n\".join(result))\n",
    "# 한 줄 띄워서 데이터를 합침\n",
    "# ['park 800905-1049118\\nkim 700905-1059119']"
   ]
  },
  {
   "cell_type": "code",
   "execution_count": 45,
   "metadata": {},
   "outputs": [
    {
     "name": "stdout",
     "output_type": "stream",
     "text": [
      "\n",
      "park 800905-*******\n",
      "kim  700905-*******\n",
      "\n"
     ]
    }
   ],
   "source": [
    "# 정규 표현식을 안다면?!!!\n",
    "import re \n",
    "\n",
    "data = \"\"\"\n",
    "park 800905-1049118\n",
    "kim  700905-1059119\n",
    "\"\"\"\n",
    "\n",
    "pat = re.compile(\"(\\d{6})[-]\\d{7}\")\n",
    "print(pat.sub(\"\\g<1>-*******\", data))"
   ]
  },
  {
   "cell_type": "code",
   "execution_count": null,
   "metadata": {},
   "outputs": [],
   "source": []
  }
 ],
 "metadata": {
  "kernelspec": {
   "display_name": "Python 3",
   "language": "python",
   "name": "python3"
  },
  "language_info": {
   "codemirror_mode": {
    "name": "ipython",
    "version": 3
   },
   "file_extension": ".py",
   "mimetype": "text/x-python",
   "name": "python",
   "nbconvert_exporter": "python",
   "pygments_lexer": "ipython3",
   "version": "3.8.3"
  }
 },
 "nbformat": 4,
 "nbformat_minor": 4
}
