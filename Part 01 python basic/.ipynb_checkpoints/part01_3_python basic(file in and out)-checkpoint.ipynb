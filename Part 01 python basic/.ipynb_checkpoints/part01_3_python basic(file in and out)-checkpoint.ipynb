{
 "cells": [
  {
   "cell_type": "markdown",
   "metadata": {},
   "source": [
    "# 2020-09-23 수업\n",
    "\n",
    "- 파이썬 기본(파일 읽고, 쓰기, 클래스)\n",
    "- 과제 (목요일 18시)"
   ]
  },
  {
   "cell_type": "markdown",
   "metadata": {},
   "source": [
    "### Review\n",
    "* 파일이름 .ipynb\n",
    "* While 문\n",
    "* i = i + 1 코드와 i += 1 코드는 같다."
   ]
  },
  {
   "cell_type": "code",
   "execution_count": 4,
   "metadata": {},
   "outputs": [
    {
     "name": "stdin",
     "output_type": "stream",
     "text": [
      "Enter the ID toto\n",
      "Enter the PW 1234\n"
     ]
    },
    {
     "name": "stdout",
     "output_type": "stream",
     "text": [
      "로그인 성공\n"
     ]
    }
   ],
   "source": [
    "# break 를 이용해 반복문에서 빠져나오는 것이 가능하다.\n",
    "id1 = 'toto'\n",
    "pwd = '1234'\n",
    "\n",
    "num = 0\n",
    "while num != 5:\n",
    "    yid = input(\"Enter the ID\")\n",
    "    ypwd = input(\"Enter the PW\")\n",
    "    \n",
    "    if(id1 == yid) and (pwd == ypwd):\n",
    "        print(\"로그인 성공\")\n",
    "        # num = 5\n",
    "        break\n",
    "    else:\n",
    "        print(\"로그인 실패\")\n",
    "        num += 1"
   ]
  },
  {
   "cell_type": "code",
   "execution_count": 5,
   "metadata": {},
   "outputs": [
    {
     "name": "stdout",
     "output_type": "stream",
     "text": [
      "0 1 2 3 4 5 6 7 8 9 "
     ]
    }
   ],
   "source": [
    "# for 문\n",
    "for i in range(0, 10, 1):\n",
    "    print(i, end=\" \")"
   ]
  },
  {
   "cell_type": "code",
   "execution_count": 7,
   "metadata": {},
   "outputs": [
    {
     "name": "stdout",
     "output_type": "stream",
     "text": [
      "12a4"
     ]
    }
   ],
   "source": [
    "# C 와는 다르게 파이썬에서 리스트에 자료형이 다른것이 들어간다.\n",
    "for i in [1, 2, 'a', 4]:\n",
    "    print(i, end =\" \") # end는 입력 후 뒤에 무엇을 추가로 출력할 것인지."
   ]
  },
  {
   "cell_type": "markdown",
   "metadata": {},
   "source": [
    "### 패스워드 생성기 함수 만들기"
   ]
  },
  {
   "cell_type": "code",
   "execution_count": 8,
   "metadata": {},
   "outputs": [
    {
     "name": "stdout",
     "output_type": "stream",
     "text": [
      "abcdefghijklmnopqrstuvwxyz"
     ]
    }
   ],
   "source": [
    "all_str =\"\" # 패스워드 문자열의 초기화!\n",
    "for x in range(97,123):\n",
    "    # 이유? ASCII 코드표에서 97부터 123까지가 영문 소문자 이기 때문.\n",
    "    print(chr(x), end=\"\")\n",
    "    all_str += chr(x) # 암호를 만들 대상 문자열 계속 붙여나감"
   ]
  },
  {
   "cell_type": "markdown",
   "metadata": {},
   "source": [
    "### 패스워드 생성기 함수 만들기 (랜덤 8자리 영소문자)"
   ]
  },
  {
   "cell_type": "code",
   "execution_count": 11,
   "metadata": {},
   "outputs": [
    {
     "data": {
      "text/plain": [
       "'tdjgbujc'"
      ]
     },
     "execution_count": 11,
     "metadata": {},
     "output_type": "execute_result"
    }
   ],
   "source": [
    "import random\n",
    "\n",
    "def passGen():\n",
    "    password = \"\"\n",
    "    \n",
    "    # 8글자 암호\n",
    "    for i in range(8):\n",
    "        idx = random.randrange(len(all_str))\n",
    "        password = password + all_str[idx]\n",
    "    return password\n",
    "\n",
    "passGen()"
   ]
  },
  {
   "cell_type": "markdown",
   "metadata": {},
   "source": [
    "### (실습 1-1) 10글자 암호, 대문자 A-Z"
   ]
  },
  {
   "cell_type": "code",
   "execution_count": 12,
   "metadata": {},
   "outputs": [
    {
     "data": {
      "text/plain": [
       "'IAHIVXTQKT'"
      ]
     },
     "execution_count": 12,
     "metadata": {},
     "output_type": "execute_result"
    }
   ],
   "source": [
    "import random\n",
    "\n",
    "def passGen():\n",
    "    password = \"\"\n",
    "    \n",
    "    # 8글자 암호\n",
    "    for i in range(10):\n",
    "        idx = random.randrange(len(all_str))\n",
    "        password = password + all_str[idx]\n",
    "    return password.upper()\n",
    "\n",
    "passGen()"
   ]
  },
  {
   "cell_type": "markdown",
   "metadata": {},
   "source": [
    "### (실습 1-1+) 10글자 암호, 대소문자+특문"
   ]
  },
  {
   "cell_type": "code",
   "execution_count": 21,
   "metadata": {},
   "outputs": [
    {
     "data": {
      "text/plain": [
       "'dqPuyHPO'"
      ]
     },
     "execution_count": 21,
     "metadata": {},
     "output_type": "execute_result"
    }
   ],
   "source": [
    "import random\n",
    "\n",
    "def passGen():\n",
    "    password = \"\"\n",
    "    all_str =\"\"\n",
    "    \n",
    "    for x in range(65,123):\n",
    "        all_str += chr(x)\n",
    "    \n",
    "    # 8글자 암호\n",
    "    for i in range(10):\n",
    "        idx = random.randrange(len(all_str))\n",
    "        password = password + all_str[idx]\n",
    "    return password\n",
    "\n",
    "passGen()"
   ]
  },
  {
   "cell_type": "markdown",
   "metadata": {},
   "source": [
    "### 지역변수와 전역변수 and global"
   ]
  },
  {
   "cell_type": "code",
   "execution_count": 23,
   "metadata": {},
   "outputs": [
    {
     "name": "stdout",
     "output_type": "stream",
     "text": [
      "지역 탑 :  toto\n"
     ]
    }
   ],
   "source": [
    "top = 'toto'\n",
    "def nameprint():\n",
    "    print(\"지역 탑 : \", top)\n",
    "    \n",
    "nameprint() # 출력"
   ]
  },
  {
   "cell_type": "code",
   "execution_count": 24,
   "metadata": {},
   "outputs": [
    {
     "name": "stdout",
     "output_type": "stream",
     "text": [
      "지역 탑 :  banana\n",
      "전국 탑:  toto\n"
     ]
    }
   ],
   "source": [
    "top = 'toto' # 전역변수\n",
    "def nameprint():\n",
    "    top = \"banana\" # 지역 변수. 함수 내에서만 동작.\n",
    "    print(\"지역 탑 : \", top)\n",
    "    \n",
    "nameprint() # 출력\n",
    "print(\"전국 탑: \",top) # nameprint 함수 밖에서 top은 toto가 된다."
   ]
  },
  {
   "cell_type": "code",
   "execution_count": 25,
   "metadata": {},
   "outputs": [
    {
     "name": "stdout",
     "output_type": "stream",
     "text": [
      "지역 탑 :  banana\n",
      "전국 탑:  banana\n"
     ]
    }
   ],
   "source": [
    "top = 'toto' # 전역변수\n",
    "def nameprint():\n",
    "    global top # 글로벌 변수\n",
    "    top = \"banana\"\n",
    "    print(\"지역 탑 : \", top)\n",
    "    \n",
    "nameprint()\n",
    "print(\"전국 탑: \",top)"
   ]
  },
  {
   "cell_type": "markdown",
   "metadata": {},
   "source": [
    "### 파일 읽어오기\n",
    "- 파일에는 2가지 종류가 있다.\n",
    "    * 텍스트 파일(text file): 사람이 읽을 수 있는 텍스트 포함\n",
    "    * 이진 파일(binary file): 사람이 읽을 수 없으나, 컴퓨터는 읽을 수 있는 파일\n",
    "    \n",
    "### 파일의 열기와 닫기\n",
    "- 파일을 여는 함수는 open()\n",
    "    * 파일이 열리면 데이터를 읽거나 쓸 수 있다.\n",
    "    * 파일과 관련된 것이 모두 종료되면 파일을 닫아야 한다. close()\n",
    "    * var = open(\"input.txt\", \"r\") # \"r\" 읽기모드(read mode)\n",
    "        * var: 파일 객체"
   ]
  },
  {
   "cell_type": "markdown",
   "metadata": {},
   "source": [
    "### (실습 2-2) 새로운 파일을 만들어서, 파일을 열고 출력, 그리고 닫기 해보기"
   ]
  },
  {
   "cell_type": "code",
   "execution_count": 5,
   "metadata": {},
   "outputs": [
    {
     "name": "stdout",
     "output_type": "stream",
     "text": [
      "fruit, 7000\n",
      "tv, 150000\n",
      "computer 890000\n"
     ]
    }
   ],
   "source": [
    "file = open(\"file01.txt\", \"r\")\n",
    "s = file.read() # 문자 10개를 읽어서 변수 s에 저장\n",
    "print(s)\n",
    "file.close()"
   ]
  },
  {
   "cell_type": "code",
   "execution_count": 8,
   "metadata": {},
   "outputs": [
    {
     "name": "stdout",
     "output_type": "stream",
     "text": [
      "fruit, 7000\n",
      "\n",
      "tv, 150000\n",
      "\n",
      "computer 890000\n"
     ]
    }
   ],
   "source": [
    "# readline 함수: 한줄 씩 읽어오기\n",
    "\n",
    "file = open(\"file01.txt\", \"r\")\n",
    "s = file.readline()\n",
    "print(s)\n",
    "s = file.readline()\n",
    "print(s)\n",
    "s = file.readline()\n",
    "print(s)\n",
    "file.close()"
   ]
  },
  {
   "cell_type": "code",
   "execution_count": null,
   "metadata": {},
   "outputs": [],
   "source": [
    "# file의 크기가 너무 클때.\n",
    "\n",
    "file = open(\"file01.txt\", \"r\")\n",
    "line = file.readline()\n",
    "\n",
    "w"
   ]
  },
  {
   "cell_type": "markdown",
   "metadata": {},
   "source": [
    "### (실습) 한줄씩 출력할 때, 한줄의 길이도 함께 출력해보세요."
   ]
  },
  {
   "cell_type": "code",
   "execution_count": 18,
   "metadata": {},
   "outputs": [
    {
     "name": "stdout",
     "output_type": "stream",
     "text": [
      "fruit, 7000\n",
      "length = 12\n",
      "tv, 150000\n",
      "length = 11\n",
      "computer 890000length = 15\n"
     ]
    }
   ],
   "source": [
    "file = open(\"file01.txt\", \"r\")\n",
    "s = file.readline()\n",
    "print(s+\"length = %d\" % len(s))\n",
    "s = file.readline()\n",
    "print(s+\"length = %d\" % len(s))\n",
    "s = file.readline()\n",
    "print(s+\"length = %d\" % len(s))\n",
    "file.close()"
   ]
  },
  {
   "cell_type": "code",
   "execution_count": 19,
   "metadata": {},
   "outputs": [],
   "source": [
    "f1 = open(\"file01.txt\", \"w\")\n",
    "f1.write(\"monitor, 200000\")\n",
    "f1.close()"
   ]
  },
  {
   "cell_type": "code",
   "execution_count": 21,
   "metadata": {},
   "outputs": [],
   "source": [
    "f2 = open(\"file01.txt\", 'a')\n",
    "f2.write(\"\\nmonitor2, 230000\")\n",
    "f2.close()"
   ]
  },
  {
   "cell_type": "code",
   "execution_count": 22,
   "metadata": {},
   "outputs": [
    {
     "name": "stdout",
     "output_type": "stream",
     "text": [
      "길이: 32 내용: monitor, 200000monitor2, 230000\n",
      "\n",
      "길이: 16 내용: monitor2, 230000\n"
     ]
    }
   ],
   "source": [
    "### read() : 전체 가져오기\n",
    "###\n",
    "file = open(\"file01.txt\", \"r\")\n",
    "line = file.readline()\n",
    "\n",
    "while line != \"\": # 파일 내용이 있으면, 다음 줄 읽어라\n",
    "    print(\"길이:\", len(line), \"내용:\",line)\n",
    "    line = file.readline()\n",
    "    \n",
    "file.close()"
   ]
  },
  {
   "cell_type": "markdown",
   "metadata": {},
   "source": [
    "### 이미지 파일 복사하기"
   ]
  },
  {
   "cell_type": "code",
   "execution_count": 23,
   "metadata": {},
   "outputs": [],
   "source": [
    "# os 폴더 생성, 폴더에 파일 확인, 폴더 위치 확인...\n",
    "import os\n",
    "\n",
    "# 현재 작업 위치를 알고 싶다.\n",
    "loc = print(os.getcwd()) # 현재 작업 폴더의 디렉터리를 표시한다."
   ]
  },
  {
   "cell_type": "code",
   "execution_count": 28,
   "metadata": {},
   "outputs": [
    {
     "data": {
      "text/plain": [
       "['.ipynb_checkpoints',\n",
       " 'file01.txt',\n",
       " 'part01_2_python basic(if, for, while).ipynb',\n",
       " 'part01_3_python basic(file in and out).ipynb',\n",
       " 'part01_HW1_submitted.ipynb',\n",
       " 'ubq.jpg']"
      ]
     },
     "execution_count": 28,
     "metadata": {},
     "output_type": "execute_result"
    }
   ],
   "source": [
    "# listdir() 함수는 해당 위치의 파일 및 폴더를 보여준다.\n",
    "file_list = os.listdir()\n",
    "file_list"
   ]
  },
  {
   "cell_type": "code",
   "execution_count": 29,
   "metadata": {},
   "outputs": [
    {
     "name": "stdout",
     "output_type": "stream",
     "text": [
      "successful\n"
     ]
    }
   ],
   "source": [
    "file1 = 'ubq.jpg' # 원본 파일 입력\n",
    "backup = \"protein1.jpg\" # 복사 파일 입력\n",
    "\n",
    "infile = open(file1, 'rb')\n",
    "outfile = open(backup, 'wb')\n",
    "\n",
    "while True:\n",
    "    copy_buffer = infile.read(1024) # 1024 바이트 만큼 끊어서 계속 읽어온다.\n",
    "    if not copy_buffer: # 읽어올 내용이 없으면. 이미지의 읽어올 내용이 없다. 다 읽어왔다.\n",
    "        break\n",
    "    outfile.write(copy_buffer) # 여기다가 씀.\n",
    "    \n",
    "infile.close()\n",
    "outfile.close()\n",
    "print(\"successful\")"
   ]
  },
  {
   "cell_type": "markdown",
   "metadata": {},
   "source": [
    "### 일부의 이미지 읽어오기. 01"
   ]
  },
  {
   "cell_type": "code",
   "execution_count": 31,
   "metadata": {},
   "outputs": [
    {
     "name": "stdout",
     "output_type": "stream",
     "text": [
      "successful\n"
     ]
    }
   ],
   "source": [
    "file1 = 'ubq.jpg' # 원본 파일 입력\n",
    "backup = \"protein1.jpg\" # 복사 파일 입력\n",
    "\n",
    "infile = open(file1, 'rb')\n",
    "outfile = open(backup, 'wb')\n",
    "\n",
    "copy_buffer = infile.read(1024) # 1024 바이트 만큼 끊어서 계속 읽어온다.\n",
    "outfile.write(copy_buffer) # 여기다가 씀.\n",
    "    \n",
    "infile.close()\n",
    "outfile.close()\n",
    "print(\"successful\")"
   ]
  },
  {
   "cell_type": "markdown",
   "metadata": {},
   "source": [
    "### 일부의 이미지 읽어오기. 02"
   ]
  },
  {
   "cell_type": "code",
   "execution_count": 33,
   "metadata": {},
   "outputs": [
    {
     "name": "stdout",
     "output_type": "stream",
     "text": [
      "successful\n"
     ]
    }
   ],
   "source": [
    "file1 = 'ubq.jpg' # 원본 파일 입력\n",
    "backup = \"protein1.jpg\" # 복사 파일 입력\n",
    "\n",
    "infile = open(file1, 'rb')\n",
    "outfile = open(backup, 'wb')\n",
    "\n",
    "for i in range(4):\n",
    "    copy_buffer = infile.read(1024) # 1024 바이트 만큼 끊어서 계속 읽어온다.\n",
    "    outfile.write(copy_buffer) # 여기다가 씀.\n",
    "    \n",
    "infile.close()\n",
    "outfile.close()\n",
    "print(\"successful\")"
   ]
  },
  {
   "cell_type": "markdown",
   "metadata": {},
   "source": [
    "### 문자열 처리\n",
    "- [].split(구분자) : 구분자로 구분하여 리스트를 출력한다."
   ]
  },
  {
   "cell_type": "code",
   "execution_count": 35,
   "metadata": {},
   "outputs": [
    {
     "name": "stdout",
     "output_type": "stream",
     "text": [
      "['Bad', ' news', ' travels', ' fast.']\n"
     ]
    }
   ],
   "source": [
    "# split() 함수는 문자열에서 해당 구분 문자를 이용하여 리스트 형태로 값을 반환.\n",
    "line = \"Bad: news: travels: fast.\"\n",
    "word_list = line.split(\":\") # 문자열에서 ':' 콜론을 찾으면 append.\n",
    "print(word_list)"
   ]
  },
  {
   "cell_type": "markdown",
   "metadata": {},
   "source": [
    "### (실습 3-1) \",\" 구분으로 구분시켜보기"
   ]
  },
  {
   "cell_type": "code",
   "execution_count": 37,
   "metadata": {},
   "outputs": [
    {
     "name": "stdout",
     "output_type": "stream",
     "text": [
      "['Bad', ' news', ' travels', ' fast.']\n"
     ]
    }
   ],
   "source": [
    "line = \"Bad, news, travels, fast.\"\n",
    "word_list = line.split(\",\")\n",
    "print(word_list)"
   ]
  },
  {
   "cell_type": "markdown",
   "metadata": {},
   "source": [
    "### (실습 3-2) 파일을 줄로 불러와서 해당 줄에서 ','를 구분으로 리스트로 구분하기"
   ]
  },
  {
   "cell_type": "code",
   "execution_count": 41,
   "metadata": {},
   "outputs": [
    {
     "name": "stdout",
     "output_type": "stream",
     "text": [
      "['monitor', ' 200000\\n']\n"
     ]
    }
   ],
   "source": [
    "file = open(\"file01.txt\", \"r\")\n",
    "s1 = file.readline()\n",
    "word_list = s1.split(\",\")\n",
    "print(word_list)\n",
    "file.close()"
   ]
  },
  {
   "cell_type": "markdown",
   "metadata": {},
   "source": [
    "## 객체, 클래스와 인스턴스\n",
    "\n",
    "- 객체는 상태와 동작을 가지고 있다.\n",
    "- 객체의 상태(state)는 객체의 속성.\n",
    "- 텔레비전의 객체의 경우 상태는 채널번호, 볼륨, 전원상태 등이다.\n",
    "- 객체의 동작(behavior)은 객체가 취할 수 있는 동작(가능)\n",
    "    * 텔레비젼의 경우, 켜기, 끄기, 채널변경, 볼륨변경 등\n",
    "    \n",
    "## 객체의 변수\n",
    "- 객체 안의 변수를 인스턴스 변수(Instance variable)이라 함.\n",
    "- 객체의 동작을 나타내는 부분을 메소드(method)라 함.\n",
    "- 즉, 객체는 인스턴스 변수와 메소드로 이루어진 소프트웨어 묶음\n",
    "\n",
    "## 클래스, class\n",
    "- 객체에 대한 설계도\n",
    "- 특정한 종류를 찍어내는 형틀(template)\n",
    "\n",
    "## 인스턴스, instance\n",
    "- 클래스로부터 만들어지는 각각의 객체"
   ]
  },
  {
   "cell_type": "code",
   "execution_count": 3,
   "metadata": {},
   "outputs": [
    {
     "data": {
      "text/plain": [
       "'\\ndef Cal():\\n    pass\\n\\n\\n# 클래스의 기본 선언 형태\\n\\nclass Cal:\\n        pass\\n'"
      ]
     },
     "execution_count": 3,
     "metadata": {},
     "output_type": "execute_result"
    }
   ],
   "source": [
    "# 함수의 기본 선언 형태\n",
    "'''\n",
    "def Cal():\n",
    "    pass\n",
    "\n",
    "\n",
    "# 클래스의 기본 선언 형태\n",
    "\n",
    "class Cal:\n",
    "        pass\n",
    "'''"
   ]
  },
  {
   "cell_type": "markdown",
   "metadata": {},
   "source": [
    "### 계산기 하나 만들기\n",
    "- 추가해서 값을 더해 준다."
   ]
  },
  {
   "cell_type": "code",
   "execution_count": 16,
   "metadata": {},
   "outputs": [
    {
     "name": "stdout",
     "output_type": "stream",
     "text": [
      "5\n",
      "9\n"
     ]
    }
   ],
   "source": [
    "# 첫번째 계산기\n",
    "result = 0 # initialize\n",
    "def plus1(num):\n",
    "    global result1\n",
    "    result1 += num\n",
    "    return result1\n",
    "\n",
    "print(plus1(3))\n",
    "print(plus1(4))"
   ]
  },
  {
   "cell_type": "code",
   "execution_count": 9,
   "metadata": {},
   "outputs": [],
   "source": [
    "# 1번째 계산기\n",
    "result1 = 0\n",
    "def plus1(num):\n",
    "    global result1\n",
    "    result1 += num\n",
    "    return result1\n",
    "\n",
    "# 2번째 계산기\n",
    "result2 = 0\n",
    "def plus2(num):\n",
    "    global result2\n",
    "    result2 += num\n",
    "    return result2\n",
    "\n",
    "# 3번째 계산기\n",
    "result3 = 0\n",
    "def plus3(num):\n",
    "    global result3\n",
    "    result3 += num\n",
    "    return result3\n",
    "\n",
    "# 별개의 함수로 동작하는 계산기 100개를 하면 저런 def 함수를 100개를 만들어야함.\n",
    "# 클래스 하나로 100개의 역할을 가능."
   ]
  },
  {
   "cell_type": "code",
   "execution_count": 10,
   "metadata": {},
   "outputs": [
    {
     "data": {
      "text/plain": [
       "2"
      ]
     },
     "execution_count": 10,
     "metadata": {},
     "output_type": "execute_result"
    }
   ],
   "source": [
    "plus1(2)"
   ]
  },
  {
   "cell_type": "code",
   "execution_count": 11,
   "metadata": {},
   "outputs": [
    {
     "data": {
      "text/plain": [
       "2"
      ]
     },
     "execution_count": 11,
     "metadata": {},
     "output_type": "execute_result"
    }
   ],
   "source": [
    "plus2(2)"
   ]
  },
  {
   "cell_type": "code",
   "execution_count": 12,
   "metadata": {},
   "outputs": [
    {
     "data": {
      "text/plain": [
       "4"
      ]
     },
     "execution_count": 12,
     "metadata": {},
     "output_type": "execute_result"
    }
   ],
   "source": [
    "plus2(2)"
   ]
  },
  {
   "cell_type": "code",
   "execution_count": 13,
   "metadata": {},
   "outputs": [],
   "source": [
    "class Cal:\n",
    "    result = 0\n",
    "    \n",
    "    def plus(self, num): # 매개변수 self 는 뜻대로 '그 자신'을 나타내게됨. 어떤 객체가 이 클래스를 할당 받았다면, self=객체\n",
    "        self.result += num\n",
    "        return self.result        "
   ]
  },
  {
   "cell_type": "code",
   "execution_count": 14,
   "metadata": {},
   "outputs": [
    {
     "name": "stdout",
     "output_type": "stream",
     "text": [
      "10\n",
      "10\n"
     ]
    }
   ],
   "source": [
    "# 함수가 늘어나는것을 막고 인스턴스(객체)만 늘었음.\n",
    "a = Cal()\n",
    "b = Cal()\n",
    "print(a.plus(10)) # 여기서, 객체 'a' 가 Cal 클래스의 plus 함수의 매개변수인 self 이다.\n",
    "print(b.plus(10))"
   ]
  },
  {
   "cell_type": "code",
   "execution_count": 15,
   "metadata": {},
   "outputs": [
    {
     "name": "stdout",
     "output_type": "stream",
     "text": [
      "20\n",
      "30\n"
     ]
    }
   ],
   "source": [
    "print(a.plus(10))\n",
    "print(b.plus(20))"
   ]
  },
  {
   "cell_type": "markdown",
   "metadata": {},
   "source": [
    "### (실습 4-1) 계산기 클래스 만들기"
   ]
  },
  {
   "cell_type": "code",
   "execution_count": 2,
   "metadata": {},
   "outputs": [],
   "source": [
    "class Cal:\n",
    "    result = 1\n",
    "    \n",
    "    def plus(self, num):\n",
    "        self.result += num\n",
    "        return self.result\n",
    "    \n",
    "    def minus(self, num):\n",
    "        self.result -= num\n",
    "        return self.result"
   ]
  },
  {
   "cell_type": "code",
   "execution_count": 5,
   "metadata": {},
   "outputs": [],
   "source": [
    "# 아무것도 없다.\n",
    "# 어떤 클래스를 상속 받아서, 해당 클래스가 가진 변수 및 메소드를 사용 가능하다.\n",
    "class Cal_change(Cal):\n",
    "    pass"
   ]
  },
  {
   "cell_type": "code",
   "execution_count": 6,
   "metadata": {},
   "outputs": [],
   "source": [
    "# 오버라이딩\n",
    "# 상속받아서 사용하는데, 기존에 상속받은, 존재하는 메소드를 변경하는 것.\n",
    "# 부모 클래스와 상속 클래스에 같은 메소드가 있으면, 부모클래스 메서드 대신 상속해서 재정의한 메서드롤 사용함.\n",
    "# 상속 클래스에서 정의 또는 재정의한 메소드 뿐만아니라 부모클래스 메서드도 사용가능함.\n",
    "class Cal_change(Cal):\n",
    "    def divide(self, num):\n",
    "        if num==0:\n",
    "            return \"invalid\"\n",
    "        else:\n",
    "            self.result /= num\n",
    "            return self.result"
   ]
  },
  {
   "cell_type": "code",
   "execution_count": 7,
   "metadata": {},
   "outputs": [
    {
     "name": "stdout",
     "output_type": "stream",
     "text": [
      "0.5\n",
      "invalid\n"
     ]
    }
   ],
   "source": [
    "c = Cal_change()\n",
    "\n",
    "print(c.divide(2))\n",
    "print(c.divide(0))"
   ]
  },
  {
   "cell_type": "markdown",
   "metadata": {},
   "source": [
    "### (실습 4-2) Cal 클래스를 상속받아서\n",
    "- 해당 클래스에 하나의 메소드(곱하기)를 추가해보자.\n",
    "- 그리고 계산기에 C의 기능(0으로 초기화하는)추가해보자."
   ]
  },
  {
   "cell_type": "code",
   "execution_count": 3,
   "metadata": {},
   "outputs": [],
   "source": [
    "# 계산기로 더하기 10, 나누기 0, 곱하기 5를 계산하고 \n",
    "# C를 눌러 초기화 하고 5를 더해보자.\n",
    "\n",
    "class Cal_change2(Cal):\n",
    "    def Czero(self, num):\n",
    "        self.result = 0\n",
    "        return self.result\n",
    "    \n",
    "    def mpl(self, num):\n",
    "        self.result *= num\n",
    "        return self.result\n",
    "            \n",
    "    def divide(self, num):\n",
    "        if num==0:\n",
    "            return \"invalid\"\n",
    "        else:\n",
    "            self.result /= num\n",
    "            return self.result"
   ]
  },
  {
   "cell_type": "code",
   "execution_count": 4,
   "metadata": {},
   "outputs": [
    {
     "name": "stdout",
     "output_type": "stream",
     "text": [
      "11\n",
      "invalid\n",
      "55\n",
      "0\n"
     ]
    }
   ],
   "source": [
    "c = Cal_change2()\n",
    "\n",
    "print(c.plus(10))\n",
    "print(c.divide(0))\n",
    "print(c.mpl(5))\n",
    "print(c.Czero(0))"
   ]
  },
  {
   "cell_type": "code",
   "execution_count": null,
   "metadata": {},
   "outputs": [],
   "source": []
  }
 ],
 "metadata": {
  "kernelspec": {
   "display_name": "Python 3",
   "language": "python",
   "name": "python3"
  },
  "language_info": {
   "codemirror_mode": {
    "name": "ipython",
    "version": 3
   },
   "file_extension": ".py",
   "mimetype": "text/x-python",
   "name": "python",
   "nbconvert_exporter": "python",
   "pygments_lexer": "ipython3",
   "version": "3.8.3"
  }
 },
 "nbformat": 4,
 "nbformat_minor": 4
}
