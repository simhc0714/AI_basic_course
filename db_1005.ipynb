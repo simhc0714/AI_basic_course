{
 "cells": [
  {
   "cell_type": "markdown",
   "metadata": {},
   "source": [
    "## 1-8-2 SQLite 가볍게 파일 하나로 사용할 수 있는 데이터베이스\n",
    "\n",
    "### DB연결"
   ]
  },
  {
   "cell_type": "code",
   "execution_count": 6,
   "metadata": {},
   "outputs": [],
   "source": [
    "import sqlite3"
   ]
  },
  {
   "cell_type": "code",
   "execution_count": 9,
   "metadata": {},
   "outputs": [
    {
     "data": {
      "text/plain": [
       "<sqlite3.Connection at 0x24c105327b0>"
      ]
     },
     "execution_count": 9,
     "metadata": {},
     "output_type": "execute_result"
    }
   ],
   "source": [
    "# 'student.db'라는 db파일 connect 하기. 이 db는 새로운 파일이라 데이터가 없음.\n",
    "# 파일명 - DB명, 시트 - Table, 행, 열 - record, column\n",
    "conn = sqlite3.connect('student.db')\n",
    "conn"
   ]
  },
  {
   "cell_type": "code",
   "execution_count": 13,
   "metadata": {},
   "outputs": [],
   "source": [
    "# SQL문\n",
    "# name(이름), no(번호), addr(주소), gender(성별)\n",
    "sql = \"\"\"\n",
    "CREATE TABLE student\n",
    " (\n",
    " name text,\n",
    " no integer,\n",
    " addr text,\n",
    " gender text\n",
    " )\n",
    "\"\"\"\n",
    "# 테이블 생성하기\n",
    "c = conn.cursor() # Connetion 객체를 이용하여 cursor를 만든다.\n",
    "c.execute(\"DROP TABLE IF EXISTS student\") # student가 있으면 삭제해라.\n",
    "c.execute(sql) # 테이블 생성.\n",
    "c.close()"
   ]
  },
  {
   "cell_type": "markdown",
   "metadata": {},
   "source": [
    "### 데이터 넣기"
   ]
  },
  {
   "cell_type": "code",
   "execution_count": 15,
   "metadata": {},
   "outputs": [],
   "source": [
    "sql = \"\"\"\n",
    "INSERT INTO student VALUES\n",
    " ('학생1', 1, \"서울 강남구 일원동\", 'male')\n",
    "\"\"\"\n",
    "c = conn.cursor() # 객체 생성\n",
    "c.execute(sql)\n",
    "c.close()\n",
    "conn.commit()"
   ]
  },
  {
   "cell_type": "markdown",
   "metadata": {},
   "source": [
    "### 데이터 조회"
   ]
  },
  {
   "cell_type": "code",
   "execution_count": 16,
   "metadata": {},
   "outputs": [
    {
     "name": "stdout",
     "output_type": "stream",
     "text": [
      "('학생1', 1, '서울 강남구 일원동', 'male')\n"
     ]
    }
   ],
   "source": [
    "sql = 'select * from student'\n",
    "c = conn.cursor()\n",
    "c.execute(sql)\n",
    "# 하나의 데이터\n",
    "print(c.fetchone())"
   ]
  },
  {
   "cell_type": "markdown",
   "metadata": {},
   "source": [
    "### 실습 2-3 table을 하나 만들고, 데이터를 넣고 불러오기\n",
    "- 테이블 명: student1\n",
    "- 컬럼 name(text), korean(정수), math, english\n",
    "- 데이터를 하나 넣고\n",
    "- 불러오기"
   ]
  },
  {
   "cell_type": "code",
   "execution_count": 17,
   "metadata": {},
   "outputs": [],
   "source": [
    "conn = sqlite3.connect('student1.db')\n",
    "conn\n",
    "\n",
    "sql = \"\"\"\n",
    "CREATE TABLE student\n",
    " (\n",
    " name text,\n",
    " korean integer,\n",
    " math integer,\n",
    " english integer\n",
    " )\n",
    "\"\"\"\n",
    "# 테이블 생성하기\n",
    "c = conn.cursor() # Connetion 객체를 이용하여 cursor를 만든다.\n",
    "c.execute(\"DROP TABLE IF EXISTS student\") # student가 있으면 삭제해라.\n",
    "c.execute(sql) # 테이블 생성.\n",
    "c.close()"
   ]
  },
  {
   "cell_type": "code",
   "execution_count": 18,
   "metadata": {},
   "outputs": [],
   "source": [
    "sql = \"\"\"\n",
    "INSERT INTO student VALUES\n",
    " ('학생1', \"80\", \"90\", \"100\")\n",
    "\"\"\"\n",
    "c = conn.cursor() # 객체 생성\n",
    "c.execute(sql)\n",
    "c.close()\n",
    "conn.commit()"
   ]
  },
  {
   "cell_type": "code",
   "execution_count": 19,
   "metadata": {},
   "outputs": [
    {
     "name": "stdout",
     "output_type": "stream",
     "text": [
      "('학생1', 80, 90, 100)\n"
     ]
    }
   ],
   "source": [
    "sql = 'select * from student'\n",
    "c = conn.cursor()\n",
    "c.execute(sql)\n",
    "# 하나의 데이터\n",
    "print(c.fetchone())"
   ]
  },
  {
   "cell_type": "code",
   "execution_count": null,
   "metadata": {},
   "outputs": [],
   "source": []
  }
 ],
 "metadata": {
  "kernelspec": {
   "display_name": "Python 3",
   "language": "python",
   "name": "python3"
  },
  "language_info": {
   "codemirror_mode": {
    "name": "ipython",
    "version": 3
   },
   "file_extension": ".py",
   "mimetype": "text/x-python",
   "name": "python",
   "nbconvert_exporter": "python",
   "pygments_lexer": "ipython3",
   "version": "3.8.3"
  }
 },
 "nbformat": 4,
 "nbformat_minor": 4
}
