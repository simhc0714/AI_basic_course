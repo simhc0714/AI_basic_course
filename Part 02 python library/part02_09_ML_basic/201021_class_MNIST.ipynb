{
 "cells": [
  {
   "cell_type": "markdown",
   "metadata": {},
   "source": [
    "# MNIST 데이터베이스\n",
    "MNIST 데이터베이스 (Modified National Institute of Standards and Technology database)는 손으로 쓴 숫자들로 이루어진 대형 데이터베이스이며, 다양한 화상 처리 시스템을 트레이닝하기 위해 일반적으로 사용 ... wikipedia"
   ]
  },
  {
   "cell_type": "code",
   "execution_count": 1,
   "metadata": {
    "executionInfo": {
     "elapsed": 3276,
     "status": "ok",
     "timestamp": 1603250166928,
     "user": {
      "displayName": "Hyunchae Sim",
      "photoUrl": "https://lh3.googleusercontent.com/a-/AOh14GhouD_5xMvAduMDYMPRh0Kn1ORaBKSWgJYvvVayMg=s64",
      "userId": "14567056481965386125"
     },
     "user_tz": -540
    },
    "id": "5bB1Y2A7J4xg"
   },
   "outputs": [],
   "source": [
    "## 00. 사용할 패키지 불러오기\n",
    "from keras.datasets import mnist "
   ]
  },
  {
   "cell_type": "code",
   "execution_count": 2,
   "metadata": {
    "executionInfo": {
     "elapsed": 1215,
     "status": "ok",
     "timestamp": 1603250169033,
     "user": {
      "displayName": "Hyunchae Sim",
      "photoUrl": "https://lh3.googleusercontent.com/a-/AOh14GhouD_5xMvAduMDYMPRh0Kn1ORaBKSWgJYvvVayMg=s64",
      "userId": "14567056481965386125"
     },
     "user_tz": -540
    },
    "id": "wFMy0HJ5J-Zs"
   },
   "outputs": [],
   "source": [
    "# 데이터 셋 불러오기\n",
    "from keras.models import Sequential        \n",
    "from keras.layers import Dense, Activation \n",
    "from keras.utils import np_utils"
   ]
  },
  {
   "cell_type": "code",
   "execution_count": 3,
   "metadata": {
    "colab": {
     "base_uri": "https://localhost:8080/",
     "height": 53
    },
    "executionInfo": {
     "elapsed": 2268,
     "status": "ok",
     "timestamp": 1603250177257,
     "user": {
      "displayName": "Hyunchae Sim",
      "photoUrl": "https://lh3.googleusercontent.com/a-/AOh14GhouD_5xMvAduMDYMPRh0Kn1ORaBKSWgJYvvVayMg=s64",
      "userId": "14567056481965386125"
     },
     "user_tz": -540
    },
    "id": "x4T1ArJWKB-_",
    "outputId": "8bb4969c-c9f6-45d8-8a7e-2f147a78710b"
   },
   "outputs": [
    {
     "name": "stdout",
     "output_type": "stream",
     "text": [
      "Downloading data from https://storage.googleapis.com/tensorflow/tf-keras-datasets/mnist.npz\n",
      "11493376/11490434 [==============================] - 0s 0us/step\n"
     ]
    }
   ],
   "source": [
    "### 데이터 셋 불러오기\n",
    "(X_train, y_train), (X_test, y_test) = mnist.load_data()\n"
   ]
  },
  {
   "cell_type": "code",
   "execution_count": 4,
   "metadata": {
    "executionInfo": {
     "elapsed": 886,
     "status": "ok",
     "timestamp": 1603250261272,
     "user": {
      "displayName": "Hyunchae Sim",
      "photoUrl": "https://lh3.googleusercontent.com/a-/AOh14GhouD_5xMvAduMDYMPRh0Kn1ORaBKSWgJYvvVayMg=s64",
      "userId": "14567056481965386125"
     },
     "user_tz": -540
    },
    "id": "D_elm1KQKDvP"
   },
   "outputs": [],
   "source": [
    "X_train = X_train.reshape(60000, 784).astype('float32') / 255.0\n",
    "X_test = X_test.reshape(10000, 784).astype('float32') / 255.0\n",
    "y_train = np_utils.to_categorical(y_train)\n",
    "y_test = np_utils.to_categorical(y_test)"
   ]
  },
  {
   "cell_type": "code",
   "execution_count": 5,
   "metadata": {
    "executionInfo": {
     "elapsed": 749,
     "status": "ok",
     "timestamp": 1603250268675,
     "user": {
      "displayName": "Hyunchae Sim",
      "photoUrl": "https://lh3.googleusercontent.com/a-/AOh14GhouD_5xMvAduMDYMPRh0Kn1ORaBKSWgJYvvVayMg=s64",
      "userId": "14567056481965386125"
     },
     "user_tz": -540
    },
    "id": "fk1vyfT0KYlQ"
   },
   "outputs": [],
   "source": [
    "model = Sequential()\n",
    "model.add( Dense(units=16, input_dim=28*28, activation='tanh'))  # 입력층(28*28=784노드) - 은닉층(64개노드)\n",
    "model.add(Dense(units=10, activation='softmax'))                # 출력층(10개 노드) "
   ]
  },
  {
   "cell_type": "code",
   "execution_count": 6,
   "metadata": {
    "executionInfo": {
     "elapsed": 783,
     "status": "ok",
     "timestamp": 1603250282107,
     "user": {
      "displayName": "Hyunchae Sim",
      "photoUrl": "https://lh3.googleusercontent.com/a-/AOh14GhouD_5xMvAduMDYMPRh0Kn1ORaBKSWgJYvvVayMg=s64",
      "userId": "14567056481965386125"
     },
     "user_tz": -540
    },
    "id": "P2wqIuzBKabX"
   },
   "outputs": [],
   "source": [
    "model.compile(loss='categorical_crossentropy', \n",
    "              optimizer='sgd', metrics=['accuracy'])"
   ]
  },
  {
   "cell_type": "code",
   "execution_count": 7,
   "metadata": {
    "colab": {
     "base_uri": "https://localhost:8080/",
     "height": 377
    },
    "executionInfo": {
     "elapsed": 19401,
     "status": "ok",
     "timestamp": 1603250321546,
     "user": {
      "displayName": "Hyunchae Sim",
      "photoUrl": "https://lh3.googleusercontent.com/a-/AOh14GhouD_5xMvAduMDYMPRh0Kn1ORaBKSWgJYvvVayMg=s64",
      "userId": "14567056481965386125"
     },
     "user_tz": -540
    },
    "id": "PbhDXVSjKdsp",
    "outputId": "de5f4e38-73ad-4bdf-fdf0-400fb50ba164"
   },
   "outputs": [
    {
     "name": "stdout",
     "output_type": "stream",
     "text": [
      "Epoch 1/10\n",
      "1875/1875 [==============================] - 2s 993us/step - loss: 0.8550 - accuracy: 0.8052\n",
      "Epoch 2/10\n",
      "1875/1875 [==============================] - 2s 968us/step - loss: 0.4346 - accuracy: 0.8910\n",
      "Epoch 3/10\n",
      "1875/1875 [==============================] - 2s 961us/step - loss: 0.3560 - accuracy: 0.9054\n",
      "Epoch 4/10\n",
      "1875/1875 [==============================] - 2s 996us/step - loss: 0.3188 - accuracy: 0.9129\n",
      "Epoch 5/10\n",
      "1875/1875 [==============================] - 2s 996us/step - loss: 0.2954 - accuracy: 0.9182\n",
      "Epoch 6/10\n",
      "1875/1875 [==============================] - 2s 948us/step - loss: 0.2783 - accuracy: 0.9218\n",
      "Epoch 7/10\n",
      "1875/1875 [==============================] - 2s 962us/step - loss: 0.2652 - accuracy: 0.9248\n",
      "Epoch 8/10\n",
      "1875/1875 [==============================] - 2s 953us/step - loss: 0.2546 - accuracy: 0.9277\n",
      "Epoch 9/10\n",
      "1875/1875 [==============================] - 2s 991us/step - loss: 0.2456 - accuracy: 0.9301\n",
      "Epoch 10/10\n",
      "1875/1875 [==============================] - 2s 957us/step - loss: 0.2379 - accuracy: 0.9327\n"
     ]
    }
   ],
   "source": [
    "# hist = model.fit(x_train, y_train, epochs=5, batch_size=32)\n",
    "hist = model.fit(X_train, y_train, epochs=10, batch_size=32)"
   ]
  },
  {
   "cell_type": "code",
   "execution_count": 8,
   "metadata": {
    "colab": {
     "base_uri": "https://localhost:8080/",
     "height": 71
    },
    "executionInfo": {
     "elapsed": 1027,
     "status": "ok",
     "timestamp": 1603250354549,
     "user": {
      "displayName": "Hyunchae Sim",
      "photoUrl": "https://lh3.googleusercontent.com/a-/AOh14GhouD_5xMvAduMDYMPRh0Kn1ORaBKSWgJYvvVayMg=s64",
      "userId": "14567056481965386125"
     },
     "user_tz": -540
    },
    "id": "nN7KalAXKiyD",
    "outputId": "cb70ba18-bd9f-4d8a-cf1b-50e616a625c5"
   },
   "outputs": [
    {
     "name": "stdout",
     "output_type": "stream",
     "text": [
      "313/313 [==============================] - 0s 797us/step - loss: 0.2388 - accuracy: 0.9324\n",
      "## evaluation loss and_metrics ##\n",
      "[0.2388443648815155, 0.9323999881744385]\n"
     ]
    }
   ],
   "source": [
    "loss_and_metrics = model.evaluate(X_test, y_test, batch_size=32)\n",
    "print('## evaluation loss and_metrics ##')\n",
    "print(loss_and_metrics)  # 최종 데이터 loss와 정확도(accuracy)"
   ]
  },
  {
   "cell_type": "markdown",
   "metadata": {
    "id": "ZlUq7kztK_bp"
   },
   "source": [
    "## 첫 모델: 93.26%"
   ]
  },
  {
   "cell_type": "markdown",
   "metadata": {
    "id": "WEd6e6RvLF74"
   },
   "source": [
    "## 두번째 모델 - 은닉층 2개 더 늘려보기 94.29%"
   ]
  },
  {
   "cell_type": "code",
   "execution_count": 9,
   "metadata": {
    "executionInfo": {
     "elapsed": 798,
     "status": "ok",
     "timestamp": 1603250476899,
     "user": {
      "displayName": "Hyunchae Sim",
      "photoUrl": "https://lh3.googleusercontent.com/a-/AOh14GhouD_5xMvAduMDYMPRh0Kn1ORaBKSWgJYvvVayMg=s64",
      "userId": "14567056481965386125"
     },
     "user_tz": -540
    },
    "id": "9NW40miwLKfC"
   },
   "outputs": [],
   "source": [
    "model = Sequential()\n",
    "model.add( Dense(units=16, input_dim=28*28, activation='tanh'))  # 입력층(28*28=784노드) - 은닉층(64개노드)\n",
    "model.add( Dense(16, activation='tanh'))\n",
    "model.add( Dense(16, activation='tanh'))\n",
    "model.add(Dense(units=10, activation='softmax'))                # 출력층(10개 노드) "
   ]
  },
  {
   "cell_type": "code",
   "execution_count": 10,
   "metadata": {
    "colab": {
     "base_uri": "https://localhost:8080/",
     "height": 377
    },
    "executionInfo": {
     "elapsed": 19905,
     "status": "ok",
     "timestamp": 1603250505110,
     "user": {
      "displayName": "Hyunchae Sim",
      "photoUrl": "https://lh3.googleusercontent.com/a-/AOh14GhouD_5xMvAduMDYMPRh0Kn1ORaBKSWgJYvvVayMg=s64",
      "userId": "14567056481965386125"
     },
     "user_tz": -540
    },
    "id": "yPMQZr4eLNPh",
    "outputId": "5e9432a6-d0bf-4f2c-ec57-d9f794c534da"
   },
   "outputs": [
    {
     "name": "stdout",
     "output_type": "stream",
     "text": [
      "Epoch 1/10\n",
      "1875/1875 [==============================] - 2s 1ms/step - loss: 0.9285 - accuracy: 0.7734\n",
      "Epoch 2/10\n",
      "1875/1875 [==============================] - 2s 998us/step - loss: 0.4141 - accuracy: 0.8932\n",
      "Epoch 3/10\n",
      "1875/1875 [==============================] - 2s 1ms/step - loss: 0.3272 - accuracy: 0.9114\n",
      "Epoch 4/10\n",
      "1875/1875 [==============================] - 2s 1ms/step - loss: 0.2831 - accuracy: 0.9212\n",
      "Epoch 5/10\n",
      "1875/1875 [==============================] - 2s 995us/step - loss: 0.2541 - accuracy: 0.9288\n",
      "Epoch 6/10\n",
      "1875/1875 [==============================] - 2s 985us/step - loss: 0.2338 - accuracy: 0.9338\n",
      "Epoch 7/10\n",
      "1875/1875 [==============================] - 2s 1ms/step - loss: 0.2176 - accuracy: 0.9384\n",
      "Epoch 8/10\n",
      "1875/1875 [==============================] - 2s 1ms/step - loss: 0.2040 - accuracy: 0.9423\n",
      "Epoch 9/10\n",
      "1875/1875 [==============================] - 2s 1ms/step - loss: 0.1930 - accuracy: 0.9446\n",
      "Epoch 10/10\n",
      "1875/1875 [==============================] - 2s 1ms/step - loss: 0.1841 - accuracy: 0.9475\n"
     ]
    }
   ],
   "source": [
    "model.compile(loss='categorical_crossentropy', \n",
    "              optimizer='sgd', metrics=['accuracy'])\n",
    "hist = model.fit(X_train, y_train, epochs=10, batch_size=32)"
   ]
  },
  {
   "cell_type": "code",
   "execution_count": 11,
   "metadata": {
    "colab": {
     "base_uri": "https://localhost:8080/",
     "height": 71
    },
    "executionInfo": {
     "elapsed": 979,
     "status": "ok",
     "timestamp": 1603250510910,
     "user": {
      "displayName": "Hyunchae Sim",
      "photoUrl": "https://lh3.googleusercontent.com/a-/AOh14GhouD_5xMvAduMDYMPRh0Kn1ORaBKSWgJYvvVayMg=s64",
      "userId": "14567056481965386125"
     },
     "user_tz": -540
    },
    "id": "6w2p_JsXLPeM",
    "outputId": "4f1697c2-7d88-485c-cc34-d9a700ae45d5"
   },
   "outputs": [
    {
     "name": "stdout",
     "output_type": "stream",
     "text": [
      "313/313 [==============================] - 0s 873us/step - loss: 0.1977 - accuracy: 0.9429\n",
      "## evaluation loss and_metrics ##\n",
      "[0.19768249988555908, 0.9429000020027161]\n"
     ]
    }
   ],
   "source": [
    "loss_and_metrics = model.evaluate(X_test, y_test, batch_size=32)\n",
    "print('## evaluation loss and_metrics ##')\n",
    "print(loss_and_metrics)  # 최종 데이터 loss와 정확도(accuracy)"
   ]
  },
  {
   "cell_type": "markdown",
   "metadata": {
    "id": "kZ5sMw0vMFq_"
   },
   "source": [
    "### 세번째 모델 - 활성화 함수 Tanh -> Relu 95.00%\n",
    "\n"
   ]
  },
  {
   "cell_type": "code",
   "execution_count": 12,
   "metadata": {
    "executionInfo": {
     "elapsed": 737,
     "status": "ok",
     "timestamp": 1603250772104,
     "user": {
      "displayName": "Hyunchae Sim",
      "photoUrl": "https://lh3.googleusercontent.com/a-/AOh14GhouD_5xMvAduMDYMPRh0Kn1ORaBKSWgJYvvVayMg=s64",
      "userId": "14567056481965386125"
     },
     "user_tz": -540
    },
    "id": "ZlDy52caMNvc"
   },
   "outputs": [],
   "source": [
    "model = Sequential()\n",
    "model.add( Dense(units=16, input_dim=28*28, activation='relu'))  # 입력층(28*28=784노드) - 은닉층(64개노드)\n",
    "model.add( Dense(16, activation='relu'))\n",
    "model.add( Dense(16, activation='relu'))\n",
    "model.add(Dense(units=10, activation='softmax'))                # 출력층(10개 노드) "
   ]
  },
  {
   "cell_type": "code",
   "execution_count": 13,
   "metadata": {
    "colab": {
     "base_uri": "https://localhost:8080/",
     "height": 377
    },
    "executionInfo": {
     "elapsed": 20745,
     "status": "ok",
     "timestamp": 1603250799737,
     "user": {
      "displayName": "Hyunchae Sim",
      "photoUrl": "https://lh3.googleusercontent.com/a-/AOh14GhouD_5xMvAduMDYMPRh0Kn1ORaBKSWgJYvvVayMg=s64",
      "userId": "14567056481965386125"
     },
     "user_tz": -540
    },
    "id": "QSHYaXBpMVVY",
    "outputId": "70f04a7c-c800-48b6-84e0-4f51c182cecf"
   },
   "outputs": [
    {
     "name": "stdout",
     "output_type": "stream",
     "text": [
      "Epoch 1/10\n",
      "1875/1875 [==============================] - 2s 1ms/step - loss: 1.1123 - accuracy: 0.6240\n",
      "Epoch 2/10\n",
      "1875/1875 [==============================] - 2s 1ms/step - loss: 0.4137 - accuracy: 0.8798\n",
      "Epoch 3/10\n",
      "1875/1875 [==============================] - 2s 1ms/step - loss: 0.3156 - accuracy: 0.9081\n",
      "Epoch 4/10\n",
      "1875/1875 [==============================] - 2s 1ms/step - loss: 0.2605 - accuracy: 0.9257\n",
      "Epoch 5/10\n",
      "1875/1875 [==============================] - 2s 1ms/step - loss: 0.2241 - accuracy: 0.9355\n",
      "Epoch 6/10\n",
      "1875/1875 [==============================] - 2s 1ms/step - loss: 0.2011 - accuracy: 0.9417\n",
      "Epoch 7/10\n",
      "1875/1875 [==============================] - 2s 1ms/step - loss: 0.1864 - accuracy: 0.9454\n",
      "Epoch 8/10\n",
      "1875/1875 [==============================] - 2s 1ms/step - loss: 0.1743 - accuracy: 0.9488\n",
      "Epoch 9/10\n",
      "1875/1875 [==============================] - 2s 1ms/step - loss: 0.1656 - accuracy: 0.9513\n",
      "Epoch 10/10\n",
      "1875/1875 [==============================] - 2s 1ms/step - loss: 0.1573 - accuracy: 0.9536\n"
     ]
    }
   ],
   "source": [
    "model.compile(loss='categorical_crossentropy', \n",
    "              optimizer='sgd', metrics=['accuracy'])\n",
    "hist = model.fit(X_train, y_train, epochs=10, batch_size=32)"
   ]
  },
  {
   "cell_type": "code",
   "execution_count": 14,
   "metadata": {
    "colab": {
     "base_uri": "https://localhost:8080/",
     "height": 71
    },
    "executionInfo": {
     "elapsed": 1014,
     "status": "ok",
     "timestamp": 1603250808461,
     "user": {
      "displayName": "Hyunchae Sim",
      "photoUrl": "https://lh3.googleusercontent.com/a-/AOh14GhouD_5xMvAduMDYMPRh0Kn1ORaBKSWgJYvvVayMg=s64",
      "userId": "14567056481965386125"
     },
     "user_tz": -540
    },
    "id": "eGsNpr8sMXMv",
    "outputId": "1927447a-29fd-4977-c567-a80915c5d17d"
   },
   "outputs": [
    {
     "name": "stdout",
     "output_type": "stream",
     "text": [
      "313/313 [==============================] - 0s 853us/step - loss: 0.1643 - accuracy: 0.9500\n",
      "## evaluation loss and_metrics ##\n",
      "[0.16434569656848907, 0.949999988079071]\n"
     ]
    }
   ],
   "source": [
    "loss_and_metrics = model.evaluate(X_test, y_test, batch_size=32)\n",
    "print('## evaluation loss and_metrics ##')\n",
    "print(loss_and_metrics)  # 최종 데이터 loss와 정확도(accuracy)"
   ]
  },
  {
   "cell_type": "markdown",
   "metadata": {
    "id": "Ck_bSDF8NT4I"
   },
   "source": [
    "## 네번째 모델. 노드수 (16 -> 32)"
   ]
  },
  {
   "cell_type": "code",
   "execution_count": 15,
   "metadata": {
    "colab": {
     "base_uri": "https://localhost:8080/",
     "height": 377
    },
    "executionInfo": {
     "elapsed": 21148,
     "status": "ok",
     "timestamp": 1603251108479,
     "user": {
      "displayName": "Hyunchae Sim",
      "photoUrl": "https://lh3.googleusercontent.com/a-/AOh14GhouD_5xMvAduMDYMPRh0Kn1ORaBKSWgJYvvVayMg=s64",
      "userId": "14567056481965386125"
     },
     "user_tz": -540
    },
    "id": "GY7gIY6pMeJH",
    "outputId": "f9d9aa18-447b-497e-d785-190ede3d01c2"
   },
   "outputs": [
    {
     "name": "stdout",
     "output_type": "stream",
     "text": [
      "Epoch 1/10\n",
      "1875/1875 [==============================] - 2s 1ms/step - loss: 0.8635 - accuracy: 0.7380\n",
      "Epoch 2/10\n",
      "1875/1875 [==============================] - 2s 1ms/step - loss: 0.3162 - accuracy: 0.9077\n",
      "Epoch 3/10\n",
      "1875/1875 [==============================] - 2s 1ms/step - loss: 0.2504 - accuracy: 0.9264\n",
      "Epoch 4/10\n",
      "1875/1875 [==============================] - 2s 1ms/step - loss: 0.2119 - accuracy: 0.9383\n",
      "Epoch 5/10\n",
      "1875/1875 [==============================] - 2s 1ms/step - loss: 0.1841 - accuracy: 0.9471\n",
      "Epoch 6/10\n",
      "1875/1875 [==============================] - 2s 1ms/step - loss: 0.1652 - accuracy: 0.9517\n",
      "Epoch 7/10\n",
      "1875/1875 [==============================] - 2s 1ms/step - loss: 0.1502 - accuracy: 0.9560\n",
      "Epoch 8/10\n",
      "1875/1875 [==============================] - 2s 1ms/step - loss: 0.1383 - accuracy: 0.9596\n",
      "Epoch 9/10\n",
      "1875/1875 [==============================] - 2s 1ms/step - loss: 0.1284 - accuracy: 0.9618\n",
      "Epoch 10/10\n",
      "1875/1875 [==============================] - 2s 1ms/step - loss: 0.1203 - accuracy: 0.9645\n"
     ]
    }
   ],
   "source": [
    "model = Sequential()\n",
    "model.add( Dense(units=32, input_dim=28*28, activation='relu'))  # 입력층(28*28=784노드) - 은닉층(64개노드)\n",
    "model.add( Dense(32, activation='relu'))\n",
    "model.add( Dense(32, activation='relu'))\n",
    "model.add(Dense(units=10, activation='softmax'))                # 출력층(10개 노드) \n",
    "\n",
    "model.compile(loss='categorical_crossentropy', \n",
    "              optimizer='sgd', metrics=['accuracy'])\n",
    "hist = model.fit(X_train, y_train, epochs=10, batch_size=32)"
   ]
  },
  {
   "cell_type": "code",
   "execution_count": 16,
   "metadata": {
    "colab": {
     "base_uri": "https://localhost:8080/",
     "height": 71
    },
    "executionInfo": {
     "elapsed": 1131,
     "status": "ok",
     "timestamp": 1603251155100,
     "user": {
      "displayName": "Hyunchae Sim",
      "photoUrl": "https://lh3.googleusercontent.com/a-/AOh14GhouD_5xMvAduMDYMPRh0Kn1ORaBKSWgJYvvVayMg=s64",
      "userId": "14567056481965386125"
     },
     "user_tz": -540
    },
    "id": "z2zigLahNwyw",
    "outputId": "9d97ffa0-d840-4a0f-d1f6-3972e1e448d1"
   },
   "outputs": [
    {
     "name": "stdout",
     "output_type": "stream",
     "text": [
      "313/313 [==============================] - 0s 870us/step - loss: 0.1372 - accuracy: 0.9578\n",
      "## evaluation loss and_metrics ##\n",
      "[0.13721048831939697, 0.9577999711036682]\n"
     ]
    }
   ],
   "source": [
    "loss_and_metrics = model.evaluate(X_test, y_test, batch_size=32)\n",
    "print('## evaluation loss and_metrics ##')\n",
    "print(loss_and_metrics)  # 최종 데이터 loss와 정확도(accuracy)"
   ]
  },
  {
   "cell_type": "markdown",
   "metadata": {
    "id": "CHQXg5UyNS1z"
   },
   "source": [
    "## 5번째 모델. 노드수 (32 -> 64)"
   ]
  },
  {
   "cell_type": "code",
   "execution_count": 17,
   "metadata": {
    "colab": {
     "base_uri": "https://localhost:8080/",
     "height": 377
    },
    "executionInfo": {
     "elapsed": 38612,
     "status": "ok",
     "timestamp": 1603251218877,
     "user": {
      "displayName": "Hyunchae Sim",
      "photoUrl": "https://lh3.googleusercontent.com/a-/AOh14GhouD_5xMvAduMDYMPRh0Kn1ORaBKSWgJYvvVayMg=s64",
      "userId": "14567056481965386125"
     },
     "user_tz": -540
    },
    "id": "BPexXgPANvYh",
    "outputId": "d1246046-5120-4e17-fccc-8d157d137913"
   },
   "outputs": [
    {
     "name": "stdout",
     "output_type": "stream",
     "text": [
      "Epoch 1/10\n",
      "1875/1875 [==============================] - 3s 2ms/step - loss: 0.6195 - accuracy: 0.8310\n",
      "Epoch 2/10\n",
      "1875/1875 [==============================] - 3s 2ms/step - loss: 0.2646 - accuracy: 0.9235\n",
      "Epoch 3/10\n",
      "1875/1875 [==============================] - 3s 2ms/step - loss: 0.2073 - accuracy: 0.9404\n",
      "Epoch 4/10\n",
      "1875/1875 [==============================] - 3s 2ms/step - loss: 0.1713 - accuracy: 0.9510\n",
      "Epoch 5/10\n",
      "1875/1875 [==============================] - 5s 3ms/step - loss: 0.1470 - accuracy: 0.9576\n",
      "Epoch 6/10\n",
      "1875/1875 [==============================] - 6s 3ms/step - loss: 0.1292 - accuracy: 0.9631\n",
      "Epoch 7/10\n",
      "1875/1875 [==============================] - 3s 2ms/step - loss: 0.1138 - accuracy: 0.9672\n",
      "Epoch 8/10\n",
      "1875/1875 [==============================] - 3s 2ms/step - loss: 0.1029 - accuracy: 0.9705\n",
      "Epoch 9/10\n",
      "1875/1875 [==============================] - 3s 2ms/step - loss: 0.0928 - accuracy: 0.9728\n",
      "Epoch 10/10\n",
      "1875/1875 [==============================] - 3s 2ms/step - loss: 0.0838 - accuracy: 0.9752\n"
     ]
    }
   ],
   "source": [
    "model = Sequential()\n",
    "model.add( Dense(units=128, input_dim=28*28, activation='relu'))  # 입력층(28*28=784노드) - 은닉층(64개노드)\n",
    "model.add( Dense(128, activation='relu'))\n",
    "model.add( Dense(128, activation='relu'))\n",
    "model.add(Dense(units=10, activation='softmax'))                # 출력층(10개 노드) \n",
    "\n",
    "model.compile(loss='categorical_crossentropy', \n",
    "              optimizer='sgd', metrics=['accuracy'])\n",
    "hist = model.fit(X_train, y_train, epochs=10, batch_size=32)"
   ]
  },
  {
   "cell_type": "code",
   "execution_count": 18,
   "metadata": {
    "colab": {
     "base_uri": "https://localhost:8080/",
     "height": 71
    },
    "executionInfo": {
     "elapsed": 927,
     "status": "ok",
     "timestamp": 1603251221091,
     "user": {
      "displayName": "Hyunchae Sim",
      "photoUrl": "https://lh3.googleusercontent.com/a-/AOh14GhouD_5xMvAduMDYMPRh0Kn1ORaBKSWgJYvvVayMg=s64",
      "userId": "14567056481965386125"
     },
     "user_tz": -540
    },
    "id": "I8MqqAU8N5Kt",
    "outputId": "725129d6-8e27-461c-f979-ff3e8d5cd2b2"
   },
   "outputs": [
    {
     "name": "stdout",
     "output_type": "stream",
     "text": [
      "313/313 [==============================] - 0s 1ms/step - loss: 0.0974 - accuracy: 0.9693\n",
      "## evaluation loss and_metrics ##\n",
      "[0.09744150191545486, 0.9692999720573425]\n"
     ]
    }
   ],
   "source": [
    "loss_and_metrics = model.evaluate(X_test, y_test, batch_size=32)\n",
    "print('## evaluation loss and_metrics ##')\n",
    "print(loss_and_metrics)  # 최종 데이터 loss와 정확도(accuracy)"
   ]
  },
  {
   "cell_type": "markdown",
   "metadata": {
    "id": "E0-yyPhyONJ4"
   },
   "source": [
    "## 과제. 정확도 올리기\n",
    "* epochs, batch_size 변경\n",
    "* optimizer 변경"
   ]
  },
  {
   "cell_type": "code",
   "execution_count": 24,
   "metadata": {
    "colab": {
     "base_uri": "https://localhost:8080/",
     "height": 431
    },
    "executionInfo": {
     "elapsed": 169664,
     "status": "ok",
     "timestamp": 1603251789177,
     "user": {
      "displayName": "Hyunchae Sim",
      "photoUrl": "https://lh3.googleusercontent.com/a-/AOh14GhouD_5xMvAduMDYMPRh0Kn1ORaBKSWgJYvvVayMg=s64",
      "userId": "14567056481965386125"
     },
     "user_tz": -540
    },
    "id": "izwzBnL7OC5R",
    "outputId": "602f696e-3c8c-488e-8de5-847ad9f93a1a"
   },
   "outputs": [
    {
     "name": "stdout",
     "output_type": "stream",
     "text": [
      "Epoch 1/10\n",
      "3750/3750 [==============================] - 16s 4ms/step - loss: 0.4875 - accuracy: 0.8577\n",
      "Epoch 2/10\n",
      "3750/3750 [==============================] - 17s 5ms/step - loss: 0.1729 - accuracy: 0.9479\n",
      "Epoch 3/10\n",
      "3750/3750 [==============================] - 17s 4ms/step - loss: 0.1233 - accuracy: 0.9625\n",
      "Epoch 4/10\n",
      "3750/3750 [==============================] - 17s 5ms/step - loss: 0.0956 - accuracy: 0.9712\n",
      "Epoch 5/10\n",
      "3750/3750 [==============================] - 17s 4ms/step - loss: 0.0780 - accuracy: 0.9760\n",
      "Epoch 6/10\n",
      "3750/3750 [==============================] - 17s 4ms/step - loss: 0.0636 - accuracy: 0.9801\n",
      "Epoch 7/10\n",
      "3750/3750 [==============================] - 17s 5ms/step - loss: 0.0534 - accuracy: 0.9838\n",
      "Epoch 8/10\n",
      "3750/3750 [==============================] - 17s 4ms/step - loss: 0.0457 - accuracy: 0.9864\n",
      "Epoch 9/10\n",
      "3750/3750 [==============================] - 17s 4ms/step - loss: 0.0389 - accuracy: 0.9877\n",
      "Epoch 10/10\n",
      "3750/3750 [==============================] - 17s 4ms/step - loss: 0.0322 - accuracy: 0.9906\n",
      "313/313 [==============================] - 1s 2ms/step - loss: 0.0779 - accuracy: 0.9776\n",
      "## evaluation loss and_metrics ##\n",
      "[0.07793478667736053, 0.9775999784469604]\n"
     ]
    }
   ],
   "source": [
    "model = Sequential()\n",
    "model.add( Dense(units=128, input_dim=28*28, activation='relu'))  # 입력층(28*28=784노드) - 은닉층(64개노드)\n",
    "model.add( Dense(256, activation='relu'))\n",
    "model.add( Dense(521, activation='relu'))\n",
    "model.add( Dense(256, activation='relu'))\n",
    "model.add( Dense(128, activation='relu'))\n",
    "model.add(Dense(units=10, activation='softmax'))                # 출력층(10개 노드) \n",
    "\n",
    "model.compile(loss='categorical_crossentropy', \n",
    "              optimizer='sgd', metrics=['accuracy'])\n",
    "hist = model.fit(X_train, y_train, epochs=10, batch_size=16)\n",
    "\n",
    "loss_and_metrics = model.evaluate(X_test, y_test, batch_size=32)\n",
    "print('## evaluation loss and_metrics ##')\n",
    "print(loss_and_metrics)  # 최종 데이터 loss와 정확도(accuracy)"
   ]
  },
  {
   "cell_type": "code",
   "execution_count": null,
   "metadata": {
    "id": "AMDT9kgWOoe0"
   },
   "outputs": [],
   "source": []
  }
 ],
 "metadata": {
  "colab": {
   "authorship_tag": "ABX9TyM2HOAPFH42plp7gfOyASFy",
   "name": "201021(4)-SHC.ipynb",
   "provenance": []
  },
  "kernelspec": {
   "display_name": "Python 3",
   "language": "python",
   "name": "python3"
  },
  "language_info": {
   "codemirror_mode": {
    "name": "ipython",
    "version": 3
   },
   "file_extension": ".py",
   "mimetype": "text/x-python",
   "name": "python",
   "nbconvert_exporter": "python",
   "pygments_lexer": "ipython3",
   "version": "3.8.3"
  }
 },
 "nbformat": 4,
 "nbformat_minor": 4
}
