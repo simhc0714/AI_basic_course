{
  "nbformat": 4,
  "nbformat_minor": 0,
  "metadata": {
    "colab": {
      "name": "2010121-SHC.ipynb의 사본",
      "provenance": [],
      "toc_visible": true
    },
    "kernelspec": {
      "name": "python3",
      "display_name": "Python 3"
    }
  },
  "cells": [
    {
      "cell_type": "markdown",
      "metadata": {
        "id": "Fg6j4qcDm6lM"
      },
      "source": [
        "### 간단한 딥러닝 구현하기"
      ]
    },
    {
      "cell_type": "markdown",
      "metadata": {
        "id": "oUznTynbm6Ol"
      },
      "source": [
        ""
      ]
    },
    {
      "cell_type": "code",
      "metadata": {
        "id": "tVyyT1aajEU8"
      },
      "source": [
        "import tensorflow as tf\n",
        "import keras\n",
        "import numpy as np\n",
        "import sys\n",
        "import pandas as pd"
      ],
      "execution_count": null,
      "outputs": []
    },
    {
      "cell_type": "code",
      "metadata": {
        "id": "oo4kN4p7kajk",
        "outputId": "a7cfe0f9-e7e2-447a-ae04-72e6788821de",
        "colab": {
          "base_uri": "https://localhost:8080/",
          "height": 89
        }
      },
      "source": [
        "print(tf.__version__)\n",
        "print(keras.__version__)\n",
        "print(sys.version)"
      ],
      "execution_count": null,
      "outputs": [
        {
          "output_type": "stream",
          "text": [
            "2.3.0\n",
            "2.4.3\n",
            "3.6.9 (default, Jul 17 2020, 12:50:27) \n",
            "[GCC 8.4.0]\n"
          ],
          "name": "stdout"
        }
      ]
    },
    {
      "cell_type": "code",
      "metadata": {
        "id": "sleC9G1Tku-D"
      },
      "source": [
        "train = pd.read_csv(\"train.csv\", parse_dates=['datetime'])\n",
        "test = pd.read_csv(\"test.csv\", parse_dates=['datetime'])\n",
        "sub = pd.read_csv(\"sampleSubmission.csv\")"
      ],
      "execution_count": null,
      "outputs": []
    },
    {
      "cell_type": "code",
      "metadata": {
        "id": "jw7DiCHmlQbQ"
      },
      "source": [
        "input_col = ['temp', 'atemp'] # 온도, 체감온도\n",
        "X = train[input_col] # 학습 데이터의 입력\n",
        "y = train['count'] # 학습 데이터의 출력\n",
        "\n",
        "# 새로운 데이터\n",
        "X_test = test[input_col]"
      ],
      "execution_count": null,
      "outputs": []
    },
    {
      "cell_type": "markdown",
      "metadata": {
        "id": "FYs-ftajo4H0"
      },
      "source": [
        "## 딥러닝 구조 결정\n",
        "* 케라스 라이브러리 중에서 Sequential 함수는 딥러닝의 구조를 한층 한층 쉽게 쌓아올릴 수 있다.\n",
        "* Sequential() 함수 선언 후, model.add()함수를 사용한다.\n",
        "* input_dim 입력층 노드\n",
        "* activation - 활성화 함수 선언(ReLu, Sigmoid)\n",
        "* Dense() 함수를 이용하여 각 층에 세부 내용을 설정해준다."
      ]
    },
    {
      "cell_type": "code",
      "metadata": {
        "id": "FDPXmFRgnMs8"
      },
      "source": [
        "from keras.models import Sequential\n",
        "from keras.layers import Dense"
      ],
      "execution_count": null,
      "outputs": []
    },
    {
      "cell_type": "code",
      "metadata": {
        "id": "gjkoLIYTn6KF"
      },
      "source": [
        "model = Sequential()\n",
        "\n",
        "# input_dim : 입력층의 노드수\n",
        "# 30 : 입력층 다음의 노드수\n",
        "\n",
        "model.add(Dense(30, input_dim=2, activation='relu'))\n",
        "model.add(Dense(15, activation='relu'))\n",
        "model.add(Dense(15, activation='relu'))\n",
        "model.add(Dense(1))"
      ],
      "execution_count": null,
      "outputs": []
    },
    {
      "cell_type": "code",
      "metadata": {
        "id": "8rmzcBdVowMD",
        "outputId": "d6dc3a3b-e91e-46fa-da7e-206709019ced",
        "colab": {
          "base_uri": "https://localhost:8080/",
          "height": 395
        }
      },
      "source": [
        "# 오차함수, 최적화 함수\n",
        "model.compile(loss='mean_squared_error', optimizer='rmsprop')\n",
        "\n",
        "# 데이터가 만개가 있다면 몇 번 훈련시킬 것인가 epochs\n",
        "# 한번 훈련시킬 때, 데이터를 몇개씩 할것인가? batch_size\n",
        "model.fit(X, y, epochs=10, batch_size=10)"
      ],
      "execution_count": null,
      "outputs": [
        {
          "output_type": "stream",
          "text": [
            "Epoch 1/10\n",
            "1089/1089 [==============================] - 1s 1ms/step - loss: 33075.3438\n",
            "Epoch 2/10\n",
            "1089/1089 [==============================] - 1s 1ms/step - loss: 27809.6992\n",
            "Epoch 3/10\n",
            "1089/1089 [==============================] - 1s 1ms/step - loss: 27796.1367\n",
            "Epoch 4/10\n",
            "1089/1089 [==============================] - 1s 1ms/step - loss: 27805.9727\n",
            "Epoch 5/10\n",
            "1089/1089 [==============================] - 1s 1ms/step - loss: 27782.0430\n",
            "Epoch 6/10\n",
            "1089/1089 [==============================] - 1s 1ms/step - loss: 27802.9355\n",
            "Epoch 7/10\n",
            "1089/1089 [==============================] - 1s 1ms/step - loss: 27806.0332\n",
            "Epoch 8/10\n",
            "1089/1089 [==============================] - 1s 1ms/step - loss: 27802.5820\n",
            "Epoch 9/10\n",
            "1089/1089 [==============================] - 1s 1ms/step - loss: 27793.9141\n",
            "Epoch 10/10\n",
            "1089/1089 [==============================] - 1s 1ms/step - loss: 27788.0820\n"
          ],
          "name": "stdout"
        },
        {
          "output_type": "execute_result",
          "data": {
            "text/plain": [
              "<tensorflow.python.keras.callbacks.History at 0x7fe152fc7d30>"
            ]
          },
          "metadata": {
            "tags": []
          },
          "execution_count": 11
        }
      ]
    },
    {
      "cell_type": "code",
      "metadata": {
        "id": "phGpXrqmxkvx",
        "outputId": "49ec6513-118a-46f2-eed3-8eb82e518b40",
        "colab": {
          "base_uri": "https://localhost:8080/",
          "height": 53
        }
      },
      "source": [
        "# 평가\n",
        "model.evaluate(X, y)"
      ],
      "execution_count": null,
      "outputs": [
        {
          "output_type": "stream",
          "text": [
            "341/341 [==============================] - 0s 840us/step - loss: 27764.5566\n"
          ],
          "name": "stdout"
        },
        {
          "output_type": "execute_result",
          "data": {
            "text/plain": [
              "27764.556640625"
            ]
          },
          "metadata": {
            "tags": []
          },
          "execution_count": 12
        }
      ]
    },
    {
      "cell_type": "code",
      "metadata": {
        "id": "4Jdvu0eSxvjb"
      },
      "source": [
        "pred = model.predict(X_test)"
      ],
      "execution_count": null,
      "outputs": []
    },
    {
      "cell_type": "code",
      "metadata": {
        "id": "zOqv1faqyJEa"
      },
      "source": [
        "sub=pd.read_csv(\"sampleSubmission.csv\")\n",
        "sub['count'] = pred\n",
        "\n",
        "sub.loc[sub['count']<0, 'count'] = 0"
      ],
      "execution_count": null,
      "outputs": []
    },
    {
      "cell_type": "code",
      "metadata": {
        "id": "mKACQS-myeMT"
      },
      "source": [
        "sub.to_csv(\"NNSub01.csv\", index=False)"
      ],
      "execution_count": null,
      "outputs": []
    },
    {
      "cell_type": "markdown",
      "metadata": {
        "id": "OVMDtp4gy-W4"
      },
      "source": [
        "## 실습 2-1\n",
        "* 1. 은닉층을 하나로 만들어서 돌려본다(노드수는 10) model.evaluate 확인\n",
        "* 2. 은닉층을 두개로 만든다.(노드수는 10, 10)\n",
        "* 3. 은닉층 2개의 노드수를(32,32)개로 늘려본다\n",
        "* 결과 확인해보기"
      ]
    },
    {
      "cell_type": "code",
      "metadata": {
        "id": "Thg85f8LzijQ",
        "outputId": "d39ece5a-301e-41fb-f483-1d2e41ff8530",
        "colab": {
          "base_uri": "https://localhost:8080/",
          "height": 395
        }
      },
      "source": [
        "model = Sequential()\n",
        "\n",
        "# input_dim : 입력층의 노드수\n",
        "# 30 : 입력층 다음의 노드수\n",
        "\n",
        "model.add(Dense(32, input_dim=2, activation='relu'))\n",
        "# model.add(Dense(15, activation='relu'))\n",
        "model.add(Dense(32, activation='relu'))\n",
        "model.add(Dense(1))\n",
        "\n",
        "# 오차함수, 최적화 함수\n",
        "model.compile(loss='mean_squared_error', optimizer='rmsprop')\n",
        "\n",
        "# 데이터가 만개가 있다면 몇 번 훈련시킬 것인가 epochs\n",
        "# 한번 훈련시킬 때, 데이터를 몇개씩 할것인가? batch_size\n",
        "model.fit(X, y, epochs=10, batch_size=20)\n",
        "\n",
        "# 평가\n",
        "model.evaluate(X, y)\n",
        "\n",
        "# 모델 예측\n",
        "pred = model.predict(X_test)\n",
        "\n",
        "# submission 파일에 데이터 할당\n",
        "sub=pd.read_csv(\"sampleSubmission.csv\")\n",
        "sub['count'] = pred\n",
        "\n",
        "sub.loc[sub['count']<0, 'count'] = 0\n",
        "\n",
        "# Submission 파일 만들기\n",
        "sub.to_csv(\"NNSub03.csv\", index=False)"
      ],
      "execution_count": null,
      "outputs": [
        {
          "output_type": "stream",
          "text": [
            "Epoch 1/10\n",
            "545/545 [==============================] - 1s 1ms/step - loss: 36131.0430\n",
            "Epoch 2/10\n",
            "545/545 [==============================] - 1s 1ms/step - loss: 27751.0645\n",
            "Epoch 3/10\n",
            "545/545 [==============================] - 1s 1ms/step - loss: 27757.1953\n",
            "Epoch 4/10\n",
            "545/545 [==============================] - 1s 993us/step - loss: 27765.1875\n",
            "Epoch 5/10\n",
            "545/545 [==============================] - 1s 1ms/step - loss: 27757.3457\n",
            "Epoch 6/10\n",
            "545/545 [==============================] - 1s 993us/step - loss: 27754.0859\n",
            "Epoch 7/10\n",
            "545/545 [==============================] - 1s 1ms/step - loss: 27739.9590\n",
            "Epoch 8/10\n",
            "545/545 [==============================] - 1s 1ms/step - loss: 27756.7227\n",
            "Epoch 9/10\n",
            "545/545 [==============================] - 1s 1ms/step - loss: 27750.5176\n",
            "Epoch 10/10\n",
            "545/545 [==============================] - 1s 1ms/step - loss: 27752.0859\n",
            "341/341 [==============================] - 0s 812us/step - loss: 27720.7363\n"
          ],
          "name": "stdout"
        }
      ]
    },
    {
      "cell_type": "code",
      "metadata": {
        "id": "d5WGyWCk0CLu",
        "outputId": "596ea9cb-82bc-45af-f3f8-7460d41981b6",
        "colab": {
          "base_uri": "https://localhost:8080/",
          "height": 35
        }
      },
      "source": [
        "train.shape"
      ],
      "execution_count": null,
      "outputs": [
        {
          "output_type": "execute_result",
          "data": {
            "text/plain": [
              "(10886, 12)"
            ]
          },
          "metadata": {
            "tags": []
          },
          "execution_count": 21
        }
      ]
    },
    {
      "cell_type": "markdown",
      "metadata": {
        "id": "mI_GMSl_1Fty"
      },
      "source": [
        "## 실습 2-2\n",
        "* 변수를 더 추가해서 4개로 해보자"
      ]
    },
    {
      "cell_type": "code",
      "metadata": {
        "id": "BznCmQW00Vf3",
        "outputId": "285452a2-90c2-4ec5-b7f2-02ce98f40e00",
        "colab": {
          "base_uri": "https://localhost:8080/",
          "height": 1000
        }
      },
      "source": [
        "# input, output setting\n",
        "input_col = ['season', 'weather', 'holiday', 'temp'] # 온도, 체감온도\n",
        "X = train[input_col] # 학습 데이터의 입력\n",
        "y = train['count'] # 학습 데이터의 출력\n",
        "\n",
        "# 새로운 데이터\n",
        "X_test = test[input_col]\n",
        "\n",
        "model = Sequential()\n",
        "\n",
        "# input_dim : 입력층의 노드수\n",
        "\n",
        "model.add(Dense(5, input_dim=4, activation='relu'))\n",
        "model.add(Dense(10, activation='relu'))\n",
        "model.add(Dense(10, activation='relu'))\n",
        "model.add(Dense(5, activation='sigmoid'))\n",
        "model.add(Dense(1))\n",
        "\n",
        "# 오차함수, 최적화 함수\n",
        "model.compile(loss='mean_squared_error', optimizer='rmsprop')\n",
        "\n",
        "# 데이터가 만개가 있다면 몇 번 훈련시킬 것인가 epochs\n",
        "# 한번 훈련시킬 때, 데이터를 몇개씩 할것인가? batch_size\n",
        "model.fit(X, y, epochs=20, batch_size=5)\n",
        "\n",
        "# 평가\n",
        "model.evaluate(X, y)\n",
        "\n",
        "# 모델 예측\n",
        "pred = model.predict(X_test)\n",
        "\n",
        "# submission 파일에 데이터 할당\n",
        "sub=pd.read_csv(\"sampleSubmission.csv\")\n",
        "sub['count'] = pred\n",
        "\n",
        "sub.loc[sub['count']<0, 'count'] = 0\n",
        "\n",
        "# Submission 파일 만들기\n",
        "sub.to_csv(\"NNSub04.csv\", index=False)"
      ],
      "execution_count": null,
      "outputs": [
        {
          "output_type": "stream",
          "text": [
            "Epoch 1/50\n",
            "2178/2178 [==============================] - 2s 969us/step - loss: 68370.9922\n",
            "Epoch 2/50\n",
            "2178/2178 [==============================] - 2s 973us/step - loss: 66883.3047\n",
            "Epoch 3/50\n",
            "2178/2178 [==============================] - 2s 966us/step - loss: 65435.1797\n",
            "Epoch 4/50\n",
            "2178/2178 [==============================] - 2s 1ms/step - loss: 64027.7617\n",
            "Epoch 5/50\n",
            "2178/2178 [==============================] - 2s 990us/step - loss: 62648.6562\n",
            "Epoch 6/50\n",
            "2178/2178 [==============================] - 2s 1ms/step - loss: 61307.8711\n",
            "Epoch 7/50\n",
            "2178/2178 [==============================] - 2s 968us/step - loss: 60001.6328\n",
            "Epoch 8/50\n",
            "2178/2178 [==============================] - 2s 984us/step - loss: 58754.6680\n",
            "Epoch 9/50\n",
            "2178/2178 [==============================] - 2s 972us/step - loss: 57523.6289\n",
            "Epoch 10/50\n",
            "2178/2178 [==============================] - 2s 971us/step - loss: 56318.4258\n",
            "Epoch 11/50\n",
            "2178/2178 [==============================] - 2s 1ms/step - loss: 55167.1523\n",
            "Epoch 12/50\n",
            "2178/2178 [==============================] - 2s 969us/step - loss: 54042.2695\n",
            "Epoch 13/50\n",
            "2178/2178 [==============================] - 2s 983us/step - loss: 52965.8008\n",
            "Epoch 14/50\n",
            "2178/2178 [==============================] - 2s 969us/step - loss: 51914.4180\n",
            "Epoch 15/50\n",
            "2178/2178 [==============================] - 2s 1ms/step - loss: 50903.4414\n",
            "Epoch 16/50\n",
            "2178/2178 [==============================] - 2s 1ms/step - loss: 49912.2227\n",
            "Epoch 17/50\n",
            "2178/2178 [==============================] - 3s 1ms/step - loss: 48981.9844\n",
            "Epoch 18/50\n",
            "2178/2178 [==============================] - 3s 1ms/step - loss: 48079.3750\n",
            "Epoch 19/50\n",
            "2178/2178 [==============================] - 2s 1ms/step - loss: 47198.8906\n",
            "Epoch 20/50\n",
            "2178/2178 [==============================] - 2s 960us/step - loss: 46358.4766\n",
            "Epoch 21/50\n",
            "2178/2178 [==============================] - 2s 975us/step - loss: 45547.9141\n",
            "Epoch 22/50\n",
            "2178/2178 [==============================] - 2s 986us/step - loss: 44755.9453\n",
            "Epoch 23/50\n",
            "2178/2178 [==============================] - 2s 968us/step - loss: 44004.3281\n",
            "Epoch 24/50\n",
            "2178/2178 [==============================] - 2s 977us/step - loss: 43271.1055\n",
            "Epoch 25/50\n",
            "2178/2178 [==============================] - 2s 1ms/step - loss: 42580.0039\n",
            "Epoch 26/50\n",
            "2178/2178 [==============================] - 2s 966us/step - loss: 41926.8516\n",
            "Epoch 27/50\n",
            "2178/2178 [==============================] - 2s 1ms/step - loss: 41269.1250\n",
            "Epoch 28/50\n",
            "2178/2178 [==============================] - 2s 1ms/step - loss: 40670.4570\n",
            "Epoch 29/50\n",
            "2178/2178 [==============================] - 2s 986us/step - loss: 40083.0703\n",
            "Epoch 30/50\n",
            "2178/2178 [==============================] - 2s 985us/step - loss: 39516.1797\n",
            "Epoch 31/50\n",
            "2178/2178 [==============================] - 2s 972us/step - loss: 38959.2305\n",
            "Epoch 32/50\n",
            "2178/2178 [==============================] - 2s 996us/step - loss: 38448.9453\n",
            "Epoch 33/50\n",
            "2178/2178 [==============================] - 2s 983us/step - loss: 37942.1172\n",
            "Epoch 34/50\n",
            "2178/2178 [==============================] - 2s 981us/step - loss: 37461.6055\n",
            "Epoch 35/50\n",
            "2178/2178 [==============================] - 2s 961us/step - loss: 37031.6602\n",
            "Epoch 36/50\n",
            "2178/2178 [==============================] - 2s 984us/step - loss: 36596.5547\n",
            "Epoch 37/50\n",
            "2178/2178 [==============================] - 2s 1ms/step - loss: 36191.2422\n",
            "Epoch 38/50\n",
            "2178/2178 [==============================] - 2s 1ms/step - loss: 35777.4531\n",
            "Epoch 39/50\n",
            "2178/2178 [==============================] - 2s 1ms/step - loss: 35406.3086\n",
            "Epoch 40/50\n",
            "2178/2178 [==============================] - 2s 961us/step - loss: 35053.9844\n",
            "Epoch 41/50\n",
            "2178/2178 [==============================] - 2s 1ms/step - loss: 34700.7539\n",
            "Epoch 42/50\n",
            "2178/2178 [==============================] - 2s 1ms/step - loss: 34379.2422\n",
            "Epoch 43/50\n",
            "2178/2178 [==============================] - 2s 1ms/step - loss: 34075.8867\n",
            "Epoch 44/50\n",
            "2178/2178 [==============================] - 2s 988us/step - loss: 33747.9648\n",
            "Epoch 45/50\n",
            "2178/2178 [==============================] - 2s 1ms/step - loss: 33479.2773\n",
            "Epoch 46/50\n",
            "2178/2178 [==============================] - 2s 993us/step - loss: 33220.4453\n",
            "Epoch 47/50\n",
            "2178/2178 [==============================] - 3s 1ms/step - loss: 32969.2305\n",
            "Epoch 48/50\n",
            "2178/2178 [==============================] - 4s 2ms/step - loss: 32724.5215\n",
            "Epoch 49/50\n",
            "2178/2178 [==============================] - 4s 2ms/step - loss: 32499.0898\n",
            "Epoch 50/50\n",
            "2178/2178 [==============================] - 4s 2ms/step - loss: 32287.0879\n",
            "341/341 [==============================] - 0s 838us/step - loss: 32157.7168\n"
          ],
          "name": "stdout"
        }
      ]
    },
    {
      "cell_type": "markdown",
      "metadata": {
        "id": "RlIs3F_m4osD"
      },
      "source": [
        "### MNIST 데이터 셋을 이용"
      ]
    },
    {
      "cell_type": "code",
      "metadata": {
        "id": "m8A4zWMI1ioE",
        "outputId": "8ff84bba-079e-48ee-9c56-ef814127e66e",
        "colab": {
          "base_uri": "https://localhost:8080/",
          "height": 388
        }
      },
      "source": [
        "import tensorflow as tf\n",
        "import keras\n",
        "import numpy as np\n",
        "import matplotlib\n",
        "from keras.models import Sequencial\n",
        "from keras.layers import Dense\n",
        "from keras.utils import np_utils # 십진 숫자를 2진수로\n",
        "from keras.datasets import mnist"
      ],
      "execution_count": null,
      "outputs": [
        {
          "output_type": "error",
          "ename": "ImportError",
          "evalue": "ignored",
          "traceback": [
            "\u001b[0;31m---------------------------------------------------------------------------\u001b[0m",
            "\u001b[0;31mImportError\u001b[0m                               Traceback (most recent call last)",
            "\u001b[0;32m<ipython-input-42-1122d6c71a52>\u001b[0m in \u001b[0;36m<module>\u001b[0;34m()\u001b[0m\n\u001b[1;32m      3\u001b[0m \u001b[0;32mimport\u001b[0m \u001b[0mnumpy\u001b[0m \u001b[0;32mas\u001b[0m \u001b[0mnp\u001b[0m\u001b[0;34m\u001b[0m\u001b[0;34m\u001b[0m\u001b[0m\n\u001b[1;32m      4\u001b[0m \u001b[0;32mimport\u001b[0m \u001b[0mmatplotlib\u001b[0m\u001b[0;34m\u001b[0m\u001b[0;34m\u001b[0m\u001b[0m\n\u001b[0;32m----> 5\u001b[0;31m \u001b[0;32mfrom\u001b[0m \u001b[0mkeras\u001b[0m\u001b[0;34m.\u001b[0m\u001b[0mmodels\u001b[0m \u001b[0;32mimport\u001b[0m \u001b[0mSequencial\u001b[0m\u001b[0;34m\u001b[0m\u001b[0;34m\u001b[0m\u001b[0m\n\u001b[0m\u001b[1;32m      6\u001b[0m \u001b[0;32mfrom\u001b[0m \u001b[0mkeras\u001b[0m\u001b[0;34m.\u001b[0m\u001b[0mlayers\u001b[0m \u001b[0;32mimport\u001b[0m \u001b[0mDense\u001b[0m\u001b[0;34m\u001b[0m\u001b[0;34m\u001b[0m\u001b[0m\n\u001b[1;32m      7\u001b[0m \u001b[0;32mfrom\u001b[0m \u001b[0mkeras\u001b[0m\u001b[0;34m.\u001b[0m\u001b[0mutils\u001b[0m \u001b[0;32mimport\u001b[0m \u001b[0mnp_utils\u001b[0m \u001b[0;31m# 십진 숫자를 2진수로\u001b[0m\u001b[0;34m\u001b[0m\u001b[0;34m\u001b[0m\u001b[0m\n",
            "\u001b[0;31mImportError\u001b[0m: cannot import name 'Sequencial'",
            "",
            "\u001b[0;31m---------------------------------------------------------------------------\u001b[0;32m\nNOTE: If your import is failing due to a missing package, you can\nmanually install dependencies using either !pip or !apt.\n\nTo view examples of installing some common dependencies, click the\n\"Open Examples\" button below.\n\u001b[0;31m---------------------------------------------------------------------------\u001b[0m\n"
          ]
        }
      ]
    },
    {
      "cell_type": "code",
      "metadata": {
        "id": "S6SJXe1O5ffu"
      },
      "source": [
        ""
      ],
      "execution_count": null,
      "outputs": []
    }
  ]
}