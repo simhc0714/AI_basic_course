{
 "cells": [
  {
   "cell_type": "markdown",
   "metadata": {},
   "source": [
    "### stratify (계층화, 계층추출)\n",
    "랜덤하게 데이터를 뽑을때 각각의 데이터 셋들이 다른 비율의 케이스를 가지는 것을 개선.\n",
    "데이터를 훈련용과 테스트용을 나눠주는데, 각 케이스별 데이터를 동등한 비율로 나눌수 있도록 한다.\n",
    "\n",
    "Ex) 어떤 데이터에, 악성종양 10개, 양성종양 490개의 총 500개의 데이터 있다.\n",
    "* 비-계층적 구조일때. (size=0.5)\n",
    "    - train[악성 5, 양성 240] / test[악성 5, 양성 250]\n",
    "    - train[악성 2, 양성 239] / test[악성 8, 양성 251]\n",
    "\n",
    "* 계층적 구조일때. (size=0.5)\n",
    "    - train[악성 5, 양성 245] / test[악성 5, 양성 245]"
   ]
  },
  {
   "cell_type": "markdown",
   "metadata": {},
   "source": [
    "# 선형모델 (Linear Model)\n",
    "수업노트 : ch02_01_02_linear_code_v10.html\n",
    "* 특성(feature) 하나이면 -> 직선(line)\n",
    "* 특성 2개이면 -> 면(plane)\n",
    "* 특성 3개이면 -> 초평면(hyperplane)"
   ]
  },
  {
   "cell_type": "markdown",
   "metadata": {},
   "source": [
    "### 학습을 통해 정해지는 값\n",
    "* 특성이 1 개이면 -> y=w1*x+b\n",
    "* 특성이 2 개이면 -> y=w1*x1 + w2*x2 + b...\n",
    "* 모델이 예측하는 값은 : w1, w2, ... , b"
   ]
  },
  {
   "cell_type": "markdown",
   "metadata": {},
   "source": [
    "### \"보스턴 데이터 셋을 활용한 회귀 모델 만들기\""
   ]
  },
  {
   "cell_type": "code",
   "execution_count": 11,
   "metadata": {},
   "outputs": [],
   "source": [
    "from sklearn.linear_model import LinearRegression\n",
    "from sklearn.model_selection import train_test_split\n",
    "from sklearn.datasets import load_boston"
   ]
  },
  {
   "cell_type": "code",
   "execution_count": 12,
   "metadata": {},
   "outputs": [
    {
     "name": "stdout",
     "output_type": "stream",
     "text": [
      "(506, 13) (506,)\n",
      "['CRIM' 'ZN' 'INDUS' 'CHAS' 'NOX' 'RM' 'AGE' 'DIS' 'RAD' 'TAX' 'PTRATIO'\n",
      " 'B' 'LSTAT']\n"
     ]
    }
   ],
   "source": [
    "boston = load_boston()\n",
    "X = boston.data # input\n",
    "y = boston.target # output\n",
    "\n",
    "print(X.shape, y.shape) # show X and y shapes\n",
    "# (506, 13) (506) row=506, column=13\n",
    "\n",
    "print(boston['feature_names'])\n",
    "# ['CRIM' 'ZN' 'INDUS' 'CHAS' 'NOX' 'RM' 'AGE' 'DIS' 'RAD' 'TAX' 'PTRATIO' 'B' 'LSTAT']"
   ]
  },
  {
   "cell_type": "code",
   "execution_count": 13,
   "metadata": {},
   "outputs": [
    {
     "data": {
      "text/plain": [
       "array([28.83885359, 36.00783288, 15.08324755, 25.23090886, 18.87864064])"
      ]
     },
     "execution_count": 13,
     "metadata": {},
     "output_type": "execute_result"
    }
   ],
   "source": [
    "X_train, X_test, y_train, y_test = train_test_split(X, y, random_state=42)\n",
    "\n",
    "model = LinearRegression()\n",
    "model.fit(X_train, y_train)\n",
    "pred = model.predict(X_test)\n",
    "pred[:5]"
   ]
  },
  {
   "cell_type": "code",
   "execution_count": 14,
   "metadata": {},
   "outputs": [],
   "source": [
    "import pandas as pd\n",
    "import numpy as np"
   ]
  },
  {
   "cell_type": "code",
   "execution_count": 18,
   "metadata": {},
   "outputs": [
    {
     "data": {
      "text/html": [
       "<div>\n",
       "<style scoped>\n",
       "    .dataframe tbody tr th:only-of-type {\n",
       "        vertical-align: middle;\n",
       "    }\n",
       "\n",
       "    .dataframe tbody tr th {\n",
       "        vertical-align: top;\n",
       "    }\n",
       "\n",
       "    .dataframe thead th {\n",
       "        text-align: right;\n",
       "    }\n",
       "</style>\n",
       "<table border=\"1\" class=\"dataframe\">\n",
       "  <thead>\n",
       "    <tr style=\"text-align: right;\">\n",
       "      <th></th>\n",
       "      <th>실제값</th>\n",
       "      <th>예측값</th>\n",
       "      <th>오차</th>\n",
       "      <th>Absolute Error</th>\n",
       "      <th>Squared Error</th>\n",
       "    </tr>\n",
       "  </thead>\n",
       "  <tbody>\n",
       "    <tr>\n",
       "      <th>0</th>\n",
       "      <td>23.6</td>\n",
       "      <td>28.838854</td>\n",
       "      <td>-5.238854</td>\n",
       "      <td>5.238854</td>\n",
       "      <td>27.445587</td>\n",
       "    </tr>\n",
       "    <tr>\n",
       "      <th>1</th>\n",
       "      <td>32.4</td>\n",
       "      <td>36.007833</td>\n",
       "      <td>-3.607833</td>\n",
       "      <td>3.607833</td>\n",
       "      <td>13.016458</td>\n",
       "    </tr>\n",
       "    <tr>\n",
       "      <th>2</th>\n",
       "      <td>13.6</td>\n",
       "      <td>15.083248</td>\n",
       "      <td>-1.483248</td>\n",
       "      <td>1.483248</td>\n",
       "      <td>2.200023</td>\n",
       "    </tr>\n",
       "    <tr>\n",
       "      <th>3</th>\n",
       "      <td>22.8</td>\n",
       "      <td>25.230909</td>\n",
       "      <td>-2.430909</td>\n",
       "      <td>2.430909</td>\n",
       "      <td>5.909318</td>\n",
       "    </tr>\n",
       "    <tr>\n",
       "      <th>4</th>\n",
       "      <td>16.1</td>\n",
       "      <td>18.878641</td>\n",
       "      <td>-2.778641</td>\n",
       "      <td>2.778641</td>\n",
       "      <td>7.720844</td>\n",
       "    </tr>\n",
       "    <tr>\n",
       "      <th>...</th>\n",
       "      <td>...</td>\n",
       "      <td>...</td>\n",
       "      <td>...</td>\n",
       "      <td>...</td>\n",
       "      <td>...</td>\n",
       "    </tr>\n",
       "    <tr>\n",
       "      <th>122</th>\n",
       "      <td>8.8</td>\n",
       "      <td>3.284209</td>\n",
       "      <td>5.515791</td>\n",
       "      <td>5.515791</td>\n",
       "      <td>30.423951</td>\n",
       "    </tr>\n",
       "    <tr>\n",
       "      <th>123</th>\n",
       "      <td>19.2</td>\n",
       "      <td>23.798796</td>\n",
       "      <td>-4.598796</td>\n",
       "      <td>4.598796</td>\n",
       "      <td>21.148926</td>\n",
       "    </tr>\n",
       "    <tr>\n",
       "      <th>124</th>\n",
       "      <td>25.3</td>\n",
       "      <td>25.733299</td>\n",
       "      <td>-0.433299</td>\n",
       "      <td>0.433299</td>\n",
       "      <td>0.187748</td>\n",
       "    </tr>\n",
       "    <tr>\n",
       "      <th>125</th>\n",
       "      <td>20.4</td>\n",
       "      <td>23.048156</td>\n",
       "      <td>-2.648156</td>\n",
       "      <td>2.648156</td>\n",
       "      <td>7.012731</td>\n",
       "    </tr>\n",
       "    <tr>\n",
       "      <th>126</th>\n",
       "      <td>23.1</td>\n",
       "      <td>24.730468</td>\n",
       "      <td>-1.630468</td>\n",
       "      <td>1.630468</td>\n",
       "      <td>2.658427</td>\n",
       "    </tr>\n",
       "  </tbody>\n",
       "</table>\n",
       "<p>127 rows × 5 columns</p>\n",
       "</div>"
      ],
      "text/plain": [
       "      실제값        예측값        오차  Absolute Error  Squared Error\n",
       "0    23.6  28.838854 -5.238854        5.238854      27.445587\n",
       "1    32.4  36.007833 -3.607833        3.607833      13.016458\n",
       "2    13.6  15.083248 -1.483248        1.483248       2.200023\n",
       "3    22.8  25.230909 -2.430909        2.430909       5.909318\n",
       "4    16.1  18.878641 -2.778641        2.778641       7.720844\n",
       "..    ...        ...       ...             ...            ...\n",
       "122   8.8   3.284209  5.515791        5.515791      30.423951\n",
       "123  19.2  23.798796 -4.598796        4.598796      21.148926\n",
       "124  25.3  25.733299 -0.433299        0.433299       0.187748\n",
       "125  20.4  23.048156 -2.648156        2.648156       7.012731\n",
       "126  23.1  24.730468 -1.630468        1.630468       2.658427\n",
       "\n",
       "[127 rows x 5 columns]"
      ]
     },
     "execution_count": 18,
     "metadata": {},
     "output_type": "execute_result"
    }
   ],
   "source": [
    "dict_dat = {\"실제값\":y_test,\n",
    "           \"예측값\":pred,\n",
    "           \"오차\":y_test - pred,\n",
    "           \"Absolute Error\": np.abs(y_test - pred),\n",
    "           \"Squared Error\": (y_test - pred)**2,}\n",
    "\n",
    "dat = pd.DataFrame(dict_dat)\n",
    "dat"
   ]
  },
  {
   "cell_type": "code",
   "execution_count": 17,
   "metadata": {},
   "outputs": [],
   "source": [
    "### 3-3 추가 : MAE, MSE, RMSE"
   ]
  },
  {
   "cell_type": "code",
   "execution_count": 19,
   "metadata": {},
   "outputs": [
    {
     "data": {
      "text/html": [
       "<div>\n",
       "<style scoped>\n",
       "    .dataframe tbody tr th:only-of-type {\n",
       "        vertical-align: middle;\n",
       "    }\n",
       "\n",
       "    .dataframe tbody tr th {\n",
       "        vertical-align: top;\n",
       "    }\n",
       "\n",
       "    .dataframe thead th {\n",
       "        text-align: right;\n",
       "    }\n",
       "</style>\n",
       "<table border=\"1\" class=\"dataframe\">\n",
       "  <thead>\n",
       "    <tr style=\"text-align: right;\">\n",
       "      <th></th>\n",
       "      <th>실제값</th>\n",
       "      <th>예측값</th>\n",
       "      <th>오차</th>\n",
       "      <th>Absolute Error</th>\n",
       "      <th>Squared Error</th>\n",
       "      <th>MAE</th>\n",
       "      <th>MSE</th>\n",
       "      <th>RMSE</th>\n",
       "    </tr>\n",
       "  </thead>\n",
       "  <tbody>\n",
       "    <tr>\n",
       "      <th>0</th>\n",
       "      <td>23.6</td>\n",
       "      <td>28.838854</td>\n",
       "      <td>-5.238854</td>\n",
       "      <td>5.238854</td>\n",
       "      <td>27.445587</td>\n",
       "      <td>3.06094</td>\n",
       "      <td>22.098695</td>\n",
       "      <td>4.700925</td>\n",
       "    </tr>\n",
       "    <tr>\n",
       "      <th>1</th>\n",
       "      <td>32.4</td>\n",
       "      <td>36.007833</td>\n",
       "      <td>-3.607833</td>\n",
       "      <td>3.607833</td>\n",
       "      <td>13.016458</td>\n",
       "      <td>3.06094</td>\n",
       "      <td>22.098695</td>\n",
       "      <td>4.700925</td>\n",
       "    </tr>\n",
       "    <tr>\n",
       "      <th>2</th>\n",
       "      <td>13.6</td>\n",
       "      <td>15.083248</td>\n",
       "      <td>-1.483248</td>\n",
       "      <td>1.483248</td>\n",
       "      <td>2.200023</td>\n",
       "      <td>3.06094</td>\n",
       "      <td>22.098695</td>\n",
       "      <td>4.700925</td>\n",
       "    </tr>\n",
       "    <tr>\n",
       "      <th>3</th>\n",
       "      <td>22.8</td>\n",
       "      <td>25.230909</td>\n",
       "      <td>-2.430909</td>\n",
       "      <td>2.430909</td>\n",
       "      <td>5.909318</td>\n",
       "      <td>3.06094</td>\n",
       "      <td>22.098695</td>\n",
       "      <td>4.700925</td>\n",
       "    </tr>\n",
       "    <tr>\n",
       "      <th>4</th>\n",
       "      <td>16.1</td>\n",
       "      <td>18.878641</td>\n",
       "      <td>-2.778641</td>\n",
       "      <td>2.778641</td>\n",
       "      <td>7.720844</td>\n",
       "      <td>3.06094</td>\n",
       "      <td>22.098695</td>\n",
       "      <td>4.700925</td>\n",
       "    </tr>\n",
       "    <tr>\n",
       "      <th>...</th>\n",
       "      <td>...</td>\n",
       "      <td>...</td>\n",
       "      <td>...</td>\n",
       "      <td>...</td>\n",
       "      <td>...</td>\n",
       "      <td>...</td>\n",
       "      <td>...</td>\n",
       "      <td>...</td>\n",
       "    </tr>\n",
       "    <tr>\n",
       "      <th>122</th>\n",
       "      <td>8.8</td>\n",
       "      <td>3.284209</td>\n",
       "      <td>5.515791</td>\n",
       "      <td>5.515791</td>\n",
       "      <td>30.423951</td>\n",
       "      <td>3.06094</td>\n",
       "      <td>22.098695</td>\n",
       "      <td>4.700925</td>\n",
       "    </tr>\n",
       "    <tr>\n",
       "      <th>123</th>\n",
       "      <td>19.2</td>\n",
       "      <td>23.798796</td>\n",
       "      <td>-4.598796</td>\n",
       "      <td>4.598796</td>\n",
       "      <td>21.148926</td>\n",
       "      <td>3.06094</td>\n",
       "      <td>22.098695</td>\n",
       "      <td>4.700925</td>\n",
       "    </tr>\n",
       "    <tr>\n",
       "      <th>124</th>\n",
       "      <td>25.3</td>\n",
       "      <td>25.733299</td>\n",
       "      <td>-0.433299</td>\n",
       "      <td>0.433299</td>\n",
       "      <td>0.187748</td>\n",
       "      <td>3.06094</td>\n",
       "      <td>22.098695</td>\n",
       "      <td>4.700925</td>\n",
       "    </tr>\n",
       "    <tr>\n",
       "      <th>125</th>\n",
       "      <td>20.4</td>\n",
       "      <td>23.048156</td>\n",
       "      <td>-2.648156</td>\n",
       "      <td>2.648156</td>\n",
       "      <td>7.012731</td>\n",
       "      <td>3.06094</td>\n",
       "      <td>22.098695</td>\n",
       "      <td>4.700925</td>\n",
       "    </tr>\n",
       "    <tr>\n",
       "      <th>126</th>\n",
       "      <td>23.1</td>\n",
       "      <td>24.730468</td>\n",
       "      <td>-1.630468</td>\n",
       "      <td>1.630468</td>\n",
       "      <td>2.658427</td>\n",
       "      <td>3.06094</td>\n",
       "      <td>22.098695</td>\n",
       "      <td>4.700925</td>\n",
       "    </tr>\n",
       "  </tbody>\n",
       "</table>\n",
       "<p>127 rows × 8 columns</p>\n",
       "</div>"
      ],
      "text/plain": [
       "      실제값        예측값        오차  Absolute Error  Squared Error      MAE  \\\n",
       "0    23.6  28.838854 -5.238854        5.238854      27.445587  3.06094   \n",
       "1    32.4  36.007833 -3.607833        3.607833      13.016458  3.06094   \n",
       "2    13.6  15.083248 -1.483248        1.483248       2.200023  3.06094   \n",
       "3    22.8  25.230909 -2.430909        2.430909       5.909318  3.06094   \n",
       "4    16.1  18.878641 -2.778641        2.778641       7.720844  3.06094   \n",
       "..    ...        ...       ...             ...            ...      ...   \n",
       "122   8.8   3.284209  5.515791        5.515791      30.423951  3.06094   \n",
       "123  19.2  23.798796 -4.598796        4.598796      21.148926  3.06094   \n",
       "124  25.3  25.733299 -0.433299        0.433299       0.187748  3.06094   \n",
       "125  20.4  23.048156 -2.648156        2.648156       7.012731  3.06094   \n",
       "126  23.1  24.730468 -1.630468        1.630468       2.658427  3.06094   \n",
       "\n",
       "           MSE      RMSE  \n",
       "0    22.098695  4.700925  \n",
       "1    22.098695  4.700925  \n",
       "2    22.098695  4.700925  \n",
       "3    22.098695  4.700925  \n",
       "4    22.098695  4.700925  \n",
       "..         ...       ...  \n",
       "122  22.098695  4.700925  \n",
       "123  22.098695  4.700925  \n",
       "124  22.098695  4.700925  \n",
       "125  22.098695  4.700925  \n",
       "126  22.098695  4.700925  \n",
       "\n",
       "[127 rows x 8 columns]"
      ]
     },
     "execution_count": 19,
     "metadata": {},
     "output_type": "execute_result"
    }
   ],
   "source": [
    "dict_dat = {\"실제값\":y_test,\n",
    "           \"예측값\":pred,\n",
    "           \"오차\":y_test - pred,\n",
    "           \"Absolute Error\": np.abs(y_test - pred),\n",
    "           \"Squared Error\": (y_test - pred)**2,\n",
    "           \"MAE\": np.abs(y_test - pred).sum() / len(pred),\n",
    "           \"MSE\": ((y_test - pred)**2).sum()/len(pred) ,\n",
    "           \"RMSE\":(((y_test - pred)**2).sum()/len(pred))**0.5}\n",
    "\n",
    "dat = pd.DataFrame(dict_dat)\n",
    "dat"
   ]
  },
  {
   "cell_type": "code",
   "execution_count": 29,
   "metadata": {},
   "outputs": [
    {
     "name": "stdout",
     "output_type": "stream",
     "text": [
      "test_size :  0.1\n",
      "MAE : 2.834\n",
      "MSE : 14.996\n",
      "RMSE : 3.872\n",
      "\n",
      "test_size :  0.2\n",
      "MAE : 3.189\n",
      "MSE : 24.291\n",
      "RMSE : 4.929\n",
      "\n",
      "test_size :  0.3\n",
      "MAE : 3.163\n",
      "MSE : 21.517\n",
      "RMSE : 4.639\n",
      "\n",
      "test_size :  0.4\n",
      "MAE : 3.298\n",
      "MSE : 21.833\n",
      "RMSE : 4.673\n",
      "\n",
      "test_size :  0.5\n",
      "MAE : 3.398\n",
      "MSE : 25.175\n",
      "RMSE : 5.018\n",
      "\n"
     ]
    }
   ],
   "source": [
    "# 3-4 추가 : 데이터 분리 비율 (9:1, 8:2, 7:3)\n",
    "\n",
    "for i in range(1, 6, 1):\n",
    "    X_train, X_test, y_train, y_test = train_test_split(X, y, test_size=(i/10), random_state=42)\n",
    "\n",
    "    model = LinearRegression()\n",
    "    model.fit(X_train, y_train)\n",
    "    pred = model.predict(X_test)\n",
    "    pred[:5]\n",
    "    \n",
    "    mae = np.abs(y_test - pred).sum() / len(pred)\n",
    "    mse = ((y_test - pred)**2).sum()/len(pred)\n",
    "    rmse = (((y_test - pred)**2).sum()/len(pred))**0.5\n",
    "    \n",
    "    print(\"test_size : \",(i/10))\n",
    "    print(\"MAE : {:.3f}\".format(mae))\n",
    "    print(\"MSE : {:.3f}\".format(mse))\n",
    "    print(\"RMSE : {:.3f}\".format(rmse))\n",
    "    print(\"\")"
   ]
  },
  {
   "cell_type": "markdown",
   "metadata": {},
   "source": [
    "### 회귀모델에서 score는 결정계수라는 것을 의미한다.\n",
    "* 결정계수는 회귀모델에서 모델의 적합도를 의미하는 것으로 0~1 사이의 값을 갖는다.\n",
    "* 1에 가까울수록 모델이 잘 fitting 되었다. 라고 할 수 있다."
   ]
  },
  {
   "cell_type": "markdown",
   "metadata": {},
   "source": [
    "### 과적합. Over Fitting\n",
    "* 데이터에 대해서는 잘 훈련된 모델이지만 새로운 데이터에의 예측은 꽝.\n",
    "\n",
    "* 대안 2가지\n",
    "    - LASSO 회귀\n",
    "    - Ridge 회귀"
   ]
  },
  {
   "cell_type": "code",
   "execution_count": 32,
   "metadata": {},
   "outputs": [],
   "source": [
    "import mglearn\n",
    "from sklearn.datasets import load_boston\n",
    "from sklearn.model_selection import train_test_split\n",
    "\n",
    "from sklearn.preprocessing import MinMaxScaler, PolynomialFeatures\n",
    "\n",
    "from sklearn.linear_model import Ridge   # 릿지회귀\n",
    "import pandas as pd"
   ]
  },
  {
   "cell_type": "code",
   "execution_count": 35,
   "metadata": {},
   "outputs": [
    {
     "name": "stdout",
     "output_type": "stream",
     "text": [
      "(506, 13) (506,)\n"
     ]
    }
   ],
   "source": [
    "boston = load_boston()\n",
    "X = boston.data # input\n",
    "y = boston.target # output\n",
    "\n",
    "print(X.shape, y.shape) # show X and y shapes\n",
    "# (506, 13) (506) row=506, column=13"
   ]
  },
  {
   "cell_type": "markdown",
   "metadata": {},
   "source": [
    "### PolynomialFeatures 메서드\n",
    "- boston dataset의 13개 columns을 가지고 랜덤한 여러개의 변수 만들기"
   ]
  },
  {
   "cell_type": "code",
   "execution_count": 37,
   "metadata": {},
   "outputs": [],
   "source": [
    "# 한글\n",
    "import matplotlib\n",
    "from matplotlib import font_manager, rc\n",
    "font_loc = \"C:/Windows/Fonts/malgunbd.ttf\"\n",
    "font_name = font_manager.FontProperties(fname=font_loc).get_name()\n",
    "matplotlib.rc('font', family=font_name)\n",
    "matplotlib.rcParams['axes.unicode_minus'] = False\n",
    "\n",
    "%matplotlib inline"
   ]
  },
  {
   "cell_type": "code",
   "execution_count": 38,
   "metadata": {},
   "outputs": [
    {
     "name": "stdout",
     "output_type": "stream",
     "text": [
      "<class 'numpy.ndarray'> <class 'numpy.ndarray'>\n",
      "(506,) (506, 13)\n"
     ]
    },
    {
     "data": {
      "text/html": [
       "<div>\n",
       "<style scoped>\n",
       "    .dataframe tbody tr th:only-of-type {\n",
       "        vertical-align: middle;\n",
       "    }\n",
       "\n",
       "    .dataframe tbody tr th {\n",
       "        vertical-align: top;\n",
       "    }\n",
       "\n",
       "    .dataframe thead th {\n",
       "        text-align: right;\n",
       "    }\n",
       "</style>\n",
       "<table border=\"1\" class=\"dataframe\">\n",
       "  <thead>\n",
       "    <tr style=\"text-align: right;\">\n",
       "      <th></th>\n",
       "      <th>CRIM</th>\n",
       "      <th>ZN</th>\n",
       "      <th>INDUS</th>\n",
       "      <th>CHAS</th>\n",
       "      <th>NOX</th>\n",
       "      <th>RM</th>\n",
       "      <th>AGE</th>\n",
       "      <th>DIS</th>\n",
       "      <th>RAD</th>\n",
       "      <th>TAX</th>\n",
       "      <th>PTRATIO</th>\n",
       "      <th>B</th>\n",
       "      <th>LSTAT</th>\n",
       "      <th>target</th>\n",
       "    </tr>\n",
       "  </thead>\n",
       "  <tbody>\n",
       "    <tr>\n",
       "      <th>0</th>\n",
       "      <td>0.00632</td>\n",
       "      <td>18.0</td>\n",
       "      <td>2.31</td>\n",
       "      <td>0.0</td>\n",
       "      <td>0.538</td>\n",
       "      <td>6.575</td>\n",
       "      <td>65.2</td>\n",
       "      <td>4.0900</td>\n",
       "      <td>1.0</td>\n",
       "      <td>296.0</td>\n",
       "      <td>15.3</td>\n",
       "      <td>396.90</td>\n",
       "      <td>4.98</td>\n",
       "      <td>24.0</td>\n",
       "    </tr>\n",
       "    <tr>\n",
       "      <th>1</th>\n",
       "      <td>0.02731</td>\n",
       "      <td>0.0</td>\n",
       "      <td>7.07</td>\n",
       "      <td>0.0</td>\n",
       "      <td>0.469</td>\n",
       "      <td>6.421</td>\n",
       "      <td>78.9</td>\n",
       "      <td>4.9671</td>\n",
       "      <td>2.0</td>\n",
       "      <td>242.0</td>\n",
       "      <td>17.8</td>\n",
       "      <td>396.90</td>\n",
       "      <td>9.14</td>\n",
       "      <td>21.6</td>\n",
       "    </tr>\n",
       "    <tr>\n",
       "      <th>2</th>\n",
       "      <td>0.02729</td>\n",
       "      <td>0.0</td>\n",
       "      <td>7.07</td>\n",
       "      <td>0.0</td>\n",
       "      <td>0.469</td>\n",
       "      <td>7.185</td>\n",
       "      <td>61.1</td>\n",
       "      <td>4.9671</td>\n",
       "      <td>2.0</td>\n",
       "      <td>242.0</td>\n",
       "      <td>17.8</td>\n",
       "      <td>392.83</td>\n",
       "      <td>4.03</td>\n",
       "      <td>34.7</td>\n",
       "    </tr>\n",
       "    <tr>\n",
       "      <th>3</th>\n",
       "      <td>0.03237</td>\n",
       "      <td>0.0</td>\n",
       "      <td>2.18</td>\n",
       "      <td>0.0</td>\n",
       "      <td>0.458</td>\n",
       "      <td>6.998</td>\n",
       "      <td>45.8</td>\n",
       "      <td>6.0622</td>\n",
       "      <td>3.0</td>\n",
       "      <td>222.0</td>\n",
       "      <td>18.7</td>\n",
       "      <td>394.63</td>\n",
       "      <td>2.94</td>\n",
       "      <td>33.4</td>\n",
       "    </tr>\n",
       "    <tr>\n",
       "      <th>4</th>\n",
       "      <td>0.06905</td>\n",
       "      <td>0.0</td>\n",
       "      <td>2.18</td>\n",
       "      <td>0.0</td>\n",
       "      <td>0.458</td>\n",
       "      <td>7.147</td>\n",
       "      <td>54.2</td>\n",
       "      <td>6.0622</td>\n",
       "      <td>3.0</td>\n",
       "      <td>222.0</td>\n",
       "      <td>18.7</td>\n",
       "      <td>396.90</td>\n",
       "      <td>5.33</td>\n",
       "      <td>36.2</td>\n",
       "    </tr>\n",
       "  </tbody>\n",
       "</table>\n",
       "</div>"
      ],
      "text/plain": [
       "      CRIM    ZN  INDUS  CHAS    NOX     RM   AGE     DIS  RAD    TAX  \\\n",
       "0  0.00632  18.0   2.31   0.0  0.538  6.575  65.2  4.0900  1.0  296.0   \n",
       "1  0.02731   0.0   7.07   0.0  0.469  6.421  78.9  4.9671  2.0  242.0   \n",
       "2  0.02729   0.0   7.07   0.0  0.469  7.185  61.1  4.9671  2.0  242.0   \n",
       "3  0.03237   0.0   2.18   0.0  0.458  6.998  45.8  6.0622  3.0  222.0   \n",
       "4  0.06905   0.0   2.18   0.0  0.458  7.147  54.2  6.0622  3.0  222.0   \n",
       "\n",
       "   PTRATIO       B  LSTAT  target  \n",
       "0     15.3  396.90   4.98    24.0  \n",
       "1     17.8  396.90   9.14    21.6  \n",
       "2     17.8  392.83   4.03    34.7  \n",
       "3     18.7  394.63   2.94    33.4  \n",
       "4     18.7  396.90   5.33    36.2  "
      ]
     },
     "execution_count": 38,
     "metadata": {},
     "output_type": "execute_result"
    }
   ],
   "source": [
    "### 데이터 셋 준비 \n",
    "boston = load_boston()  # 데이터 셋 불러오기\n",
    "print(type(boston.target), type(boston.data))\n",
    "print(boston.target.shape, boston.data.shape)\n",
    "\n",
    "df_boston = pd.DataFrame(boston.data,columns=boston.feature_names)\n",
    "df_boston['target'] = pd.Series(boston.target)\n",
    "df_boston.head()"
   ]
  },
  {
   "cell_type": "markdown",
   "metadata": {},
   "source": [
    "### target을 예측하는 모델 만들기 (feat. 과적합 개선)"
   ]
  },
  {
   "cell_type": "code",
   "execution_count": 40,
   "metadata": {},
   "outputs": [
    {
     "name": "stdout",
     "output_type": "stream",
     "text": [
      "pre-Normalization dataset :  (506, 13) (506,)\n"
     ]
    }
   ],
   "source": [
    "# Normalization 하기 전 데이터 보기\n",
    "\n",
    "# Set data X and y\n",
    "X = df_boston.loc[:,'CRIM':'LSTAT']\n",
    "y = boston['target']\n",
    "\n",
    "print(\"pre-Normalization dataset : \", X.shape, y.shape)"
   ]
  },
  {
   "cell_type": "markdown",
   "metadata": {},
   "source": [
    "### Flow\n",
    "- 데이터 확장\n",
    "- 모델 선택\n",
    "- 모델 학습\n",
    "- 모델 예측\n",
    "- 예측 결과 평가"
   ]
  },
  {
   "cell_type": "code",
   "execution_count": 42,
   "metadata": {},
   "outputs": [],
   "source": [
    "import numpy as np"
   ]
  },
  {
   "cell_type": "code",
   "execution_count": 46,
   "metadata": {},
   "outputs": [
    {
     "name": "stdout",
     "output_type": "stream",
     "text": [
      "0.0 1.0\n",
      "(506, 104) (506,)\n"
     ]
    }
   ],
   "source": [
    "# 데이터 확장\n",
    "norm_x = MinMaxScaler().fit_transform(X) # 값을 0 ~ 1사이로 만드는 메서드\n",
    "\n",
    "# norm_x\n",
    "print(np.min(norm_x), np.max(norm_x)) # norm_x 최소, 최대를 보면, 0 and 1 사이로 변경되었음을 알 수 있다.\n",
    "\n",
    "# 변수의 확장\n",
    "ex_X = PolynomialFeatures(degree=2, include_bias=False).fit_transform(norm_x)\n",
    "print(ex_X.shape, y.shape) # (506, 104) (506,)\n",
    "\n",
    "# 변수가 13개 였는데 104개가 되었음."
   ]
  },
  {
   "cell_type": "code",
   "execution_count": 47,
   "metadata": {},
   "outputs": [],
   "source": [
    "# 선형회귀\n",
    "from sklearn.linear_model import LinearRegression"
   ]
  },
  {
   "cell_type": "code",
   "execution_count": 51,
   "metadata": {},
   "outputs": [
    {
     "name": "stdout",
     "output_type": "stream",
     "text": [
      "학습용 데이터 셋의 점수 : 0.94\n",
      "테스트 데이터 셋의 점수 : 0.78\n"
     ]
    }
   ],
   "source": [
    "X_train, X_test, y_train, y_test = train_test_split(ex_X, y, random_state=42)\n",
    "\n",
    "lr = LinearRegression().fit(X_train, y_train)\n",
    "\n",
    "print(\"학습용 데이터 셋의 점수 : {:.2f}\".format(lr.score(X_train, y_train)))\n",
    "print(\"테스트 데이터 셋의 점수 : {:.2f}\".format(lr.score(X_test, y_test)))\n",
    "\n",
    "# 학습용 데이터 셋의 점수 : 0.94\n",
    "# 테스트 데이터 셋의 점수 : 0.78\n",
    "\n",
    "# train 스코어가 0.94에서 test에서 0.78로 줄었는데 --> 훈련데이터 모델이 과적합되었음을 알 수 있음."
   ]
  },
  {
   "cell_type": "markdown",
   "metadata": {},
   "source": [
    "## 과적합 개선하기 !\n",
    "\n",
    "### L2 규제 (using... Ridge Regression)"
   ]
  },
  {
   "cell_type": "code",
   "execution_count": 54,
   "metadata": {},
   "outputs": [
    {
     "name": "stdout",
     "output_type": "stream",
     "text": [
      "학습용 데이터 셋의 점수 : 0.87\n",
      "테스트 데이터 셋의 점수 : 0.81\n"
     ]
    }
   ],
   "source": [
    "lr1 = Ridge().fit(X_train, y_train)\n",
    "\n",
    "print(\"학습용 데이터 셋의 점수 : {:.2f}\".format(lr1.score(X_train, y_train)))\n",
    "print(\"테스트 데이터 셋의 점수 : {:.2f}\".format(lr1.score(X_test, y_test)))\n",
    "\n",
    "# 학습용 데이터 셋의 점수 : 0.87\n",
    "# 테스트 데이터 셋의 점수 : 0.81\n",
    "\n",
    "# train 스코어와 test 스코어의 스코어의 gap이 줄었다 --> '조금 더 일반화 되었다'라고 볼 수 있음."
   ]
  },
  {
   "cell_type": "markdown",
   "metadata": {},
   "source": [
    "### 4-3 Ridge method 알파 계수 변경하기\n",
    "* alpha: 0.0001, 0.001, 0.01, 0.1, 1, 10, 100"
   ]
  },
  {
   "cell_type": "code",
   "execution_count": 56,
   "metadata": {},
   "outputs": [
    {
     "name": "stdout",
     "output_type": "stream",
     "text": [
      "알파값 :  0.0001\n",
      "학습용 데이터 셋의 점수 : 0.94\n",
      "테스트 데이터 셋의 점수 : 0.79\n",
      "\n",
      "알파값 :  0.001\n",
      "학습용 데이터 셋의 점수 : 0.94\n",
      "테스트 데이터 셋의 점수 : 0.81\n",
      "\n",
      "알파값 :  0.01\n",
      "학습용 데이터 셋의 점수 : 0.94\n",
      "테스트 데이터 셋의 점수 : 0.81\n",
      "\n",
      "알파값 :  0.1\n",
      "학습용 데이터 셋의 점수 : 0.92\n",
      "테스트 데이터 셋의 점수 : 0.82\n",
      "\n",
      "알파값 :  1\n",
      "학습용 데이터 셋의 점수 : 0.87\n",
      "테스트 데이터 셋의 점수 : 0.81\n",
      "\n",
      "알파값 :  10\n",
      "학습용 데이터 셋의 점수 : 0.77\n",
      "테스트 데이터 셋의 점수 : 0.73\n",
      "\n",
      "알파값 :  100\n",
      "학습용 데이터 셋의 점수 : 0.56\n",
      "테스트 데이터 셋의 점수 : 0.55\n",
      "\n"
     ]
    }
   ],
   "source": [
    "# Exercise 4-1\n",
    "for i in (0.0001, 0.001, 0.01, 0.1, 1, 10, 100):\n",
    "    lr1 = Ridge(alpha=i).fit(X_train, y_train)\n",
    "    \n",
    "    print(\"알파값 : \", i)\n",
    "    print(\"학습용 데이터 셋의 점수 : {:.2f}\".format(lr1.score(X_train, y_train)))\n",
    "    print(\"테스트 데이터 셋의 점수 : {:.2f}\".format(lr1.score(X_test, y_test)))\n",
    "    print(\"\")\n",
    "    \n",
    "    # alpha 100 부터는.. 과소적합이라 볼 수 있겠다."
   ]
  },
  {
   "cell_type": "code",
   "execution_count": null,
   "metadata": {},
   "outputs": [],
   "source": [
    "# Exercise 4-1++ plot\n",
    "import matplotlib.pyplot as plt\n",
    "%matplotlib inline"
   ]
  },
  {
   "cell_type": "code",
   "execution_count": 65,
   "metadata": {},
   "outputs": [
    {
     "name": "stdout",
     "output_type": "stream",
     "text": [
      "회귀계수의 최대, 최소 :  -1820.7193438802144 1422.7485462663753\n",
      "회귀계수의 최대, 최소 :  -19.671903528732866 26.23617254240992\n"
     ]
    },
    {
     "ename": "TypeError",
     "evalue": "can only concatenate str (not \"float\") to str",
     "output_type": "error",
     "traceback": [
      "\u001b[1;31m---------------------------------------------------------------------------\u001b[0m",
      "\u001b[1;31mTypeError\u001b[0m                                 Traceback (most recent call last)",
      "\u001b[1;32m<ipython-input-65-61bc4900cc98>\u001b[0m in \u001b[0;36m<module>\u001b[1;34m\u001b[0m\n\u001b[0;32m     13\u001b[0m     \u001b[0mplt\u001b[0m\u001b[1;33m.\u001b[0m\u001b[0mhlines\u001b[0m\u001b[1;33m(\u001b[0m\u001b[1;36m0\u001b[0m\u001b[1;33m,\u001b[0m \u001b[1;36m0\u001b[0m\u001b[1;33m,\u001b[0m \u001b[0mlen\u001b[0m\u001b[1;33m(\u001b[0m\u001b[0mlr1\u001b[0m\u001b[1;33m.\u001b[0m\u001b[0mcoef_\u001b[0m\u001b[1;33m)\u001b[0m\u001b[1;33m)\u001b[0m\u001b[1;33m\u001b[0m\u001b[1;33m\u001b[0m\u001b[0m\n\u001b[0;32m     14\u001b[0m \u001b[1;33m\u001b[0m\u001b[0m\n\u001b[1;32m---> 15\u001b[1;33m     \u001b[0mlabel\u001b[0m\u001b[1;33m=\u001b[0m\u001b[1;33m[\u001b[0m\u001b[1;34m\"alpha\"\u001b[0m\u001b[1;33m+\u001b[0m\u001b[0mi\u001b[0m\u001b[1;33m]\u001b[0m\u001b[1;33m\u001b[0m\u001b[1;33m\u001b[0m\u001b[0m\n\u001b[0m\u001b[0;32m     16\u001b[0m     \u001b[0mlabel\u001b[0m\u001b[1;33m+=\u001b[0m\u001b[0mlabel\u001b[0m\u001b[1;33m\u001b[0m\u001b[1;33m\u001b[0m\u001b[0m\n\u001b[0;32m     17\u001b[0m \u001b[1;33m\u001b[0m\u001b[0m\n",
      "\u001b[1;31mTypeError\u001b[0m: can only concatenate str (not \"float\") to str"
     ]
    },
    {
     "data": {
      "image/png": "[encoded data removed]",
      "text/plain": [
       "<Figure size 720x720 with 1 Axes>"
      ]
     },
     "metadata": {
      "needs_background": "light"
     },
     "output_type": "display_data"
    },
    {
     "data": {
      "image/png": "[encoded data removed]",
      "text/plain": [
       "<Figure size 720x720 with 1 Axes>"
      ]
     },
     "metadata": {
      "needs_background": "light"
     },
     "output_type": "display_data"
    }
   ],
   "source": [
    "print(\"회귀계수의 최대, 최소 : \", np.min(lr.coef_), np.max(lr.coef_))\n",
    "lr = LinearRegression().fit(X_train, y_train)\n",
    "fig = plt.figure(figsize=(10,10))\n",
    "plt.hlines(0, 0, len(lr.coef_))\n",
    "plt.plot(lr.coef_, 's')\n",
    "plt.title('Linear Regression')\n",
    "\n",
    "for i in (0.0001, 0.001, 0.01, 0.1, 1, 10, 100):\n",
    "    lr1 = Ridge(alpha=0.1).fit(X_train, y_train)\n",
    "\n",
    "    print(\"회귀계수의 최대, 최소 : \", np.min(lr1.coef_), np.max(lr1.coef_))\n",
    "    fig = plt.figure(figsize=(10,10))\n",
    "    plt.hlines(0, 0, len(lr1.coef_))\n",
    "    \n",
    "    label=[\"alpha\"+i]\n",
    "    label+=label\n",
    "    \n",
    "    plt.plot(lr1.coef_, 's', label=label)\n",
    "    plt.title(label)"
   ]
  },
  {
   "cell_type": "code",
   "execution_count": null,
   "metadata": {},
   "outputs": [],
   "source": [
    "for i in (0.0001, 0.001, 0.01, 0.1, 1, 10, 100):\n",
    "    lr1 = Ridge(alpha=i).fit(X_train, y_train)\n",
    "    \n",
    "    print(\"알파값 : \", i)\n",
    "    print(\"학습용 데이터 셋의 점수 : {:.2f}\".format(lr1.score(X_train, y_train)))\n",
    "    print(\"테스트 데이터 셋의 점수 : {:.2f}\".format(lr1.score(X_test, y_test)))\n",
    "    print(\"\")\n",
    "    \n",
    "    # alpha 100 부터는.. 과소적합이라 볼 수 있겠다.\n",
    "\n",
    "for i in range(1, 6, 1):\n",
    "    X_train, X_test, y_train, y_test = train_test_split(X, y, test_size=(i/10), random_state=42)\n",
    "\n",
    "    model = LinearRegression()\n",
    "    model.fit(X_train, y_train)\n",
    "    pred = model.predict(X_test)\n",
    "    pred[:5]\n",
    "    \n",
    "    mae = np.abs(y_test - pred).sum() / len(pred)\n",
    "    mse = ((y_test - pred)**2).sum()/len(pred)\n",
    "    rmse = (((y_test - pred)**2).sum()/len(pred))**0.5\n",
    "    \n",
    "    print(\"test_size : \",(i/10))\n",
    "    print(\"MAE : {:.3f}\".format(mae))\n",
    "    print(\"MSE : {:.3f}\".format(mse))\n",
    "    print(\"RMSE : {:.3f}\".format(rmse))\n",
    "    print(\"\")"
   ]
  }
 ],
 "metadata": {
  "kernelspec": {
   "display_name": "Python 3",
   "language": "python",
   "name": "python3"
  },
  "language_info": {
   "codemirror_mode": {
    "name": "ipython",
    "version": 3
   },
   "file_extension": ".py",
   "mimetype": "text/x-python",
   "name": "python",
   "nbconvert_exporter": "python",
   "pygments_lexer": "ipython3",
   "version": "3.8.3"
  }
 },
 "nbformat": 4,
 "nbformat_minor": 4
}
