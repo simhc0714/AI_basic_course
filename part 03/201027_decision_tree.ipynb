{
 "cells": [
  {
   "cell_type": "markdown",
   "metadata": {},
   "source": [
    "## 의사결정트리는 회귀, 분류에 모두 이용가능"
   ]
  },
  {
   "cell_type": "code",
   "execution_count": 1,
   "metadata": {},
   "outputs": [],
   "source": [
    "from sklearn.tree import DecisionTreeClassifier\n",
    "from sklearn.model_selection import train_test_split\n",
    "from sklearn.datasets import load_breast_cancer\n",
    "import seaborn as sns"
   ]
  },
  {
   "cell_type": "markdown",
   "metadata": {},
   "source": [
    "데이터를 불러와, 입력-출력 구분"
   ]
  },
  {
   "cell_type": "code",
   "execution_count": 2,
   "metadata": {},
   "outputs": [],
   "source": [
    "cancer = load_breast_cancer()\n",
    "all_X = cancer.data\n",
    "all_Y = cancer.target"
   ]
  },
  {
   "cell_type": "markdown",
   "metadata": {},
   "source": [
    "train_test_split 메서드로 데이터 나누고 test_size 특정."
   ]
  },
  {
   "cell_type": "code",
   "execution_count": 6,
   "metadata": {},
   "outputs": [],
   "source": [
    "def testTreeModel(TestSize):\n",
    "    cancer = load_breast_cancer()\n",
    "    all_X = cancer.data\n",
    "    all_Y = cancer.target\n",
    "    X_train, X_test, y_train, y_test = train_test_split(all_X, \n",
    "                                                    all_Y, \n",
    "                                                    stratify=cancer.target, \n",
    "                                                    test_size = TestSize,\n",
    "                                                    random_state=77)\n",
    "    \n",
    "    tree = DecisionTreeClassifier(random_state=0)\n",
    "    tree.fit(X_train, y_train)\n",
    "    print(\"훈련 세트 정확도 : {:.3f}\".format(tree.score(X_train, y_train)))\n",
    "    print(\"테스트 세트 정확도 : {:.3f}\".format(tree.score(X_test, y_test)))"
   ]
  },
  {
   "cell_type": "code",
   "execution_count": 7,
   "metadata": {},
   "outputs": [
    {
     "name": "stdout",
     "output_type": "stream",
     "text": [
      "훈련 세트 정확도 : 1.000\n",
      "테스트 세트 정확도 : 0.933\n",
      "훈련 세트 정확도 : 1.000\n",
      "테스트 세트 정확도 : 0.921\n",
      "훈련 세트 정확도 : 1.000\n",
      "테스트 세트 정확도 : 0.918\n",
      "훈련 세트 정확도 : 1.000\n",
      "테스트 세트 정확도 : 0.912\n",
      "훈련 세트 정확도 : 1.000\n",
      "테스트 세트 정확도 : 0.912\n"
     ]
    }
   ],
   "source": [
    "# 7:3, 8:2, 9:1, 6:4, 5:5\n",
    "# AutoML\n",
    "testTreeModel(0.5)  # 5:5\n",
    "testTreeModel(0.4)  # 6:4\n",
    "testTreeModel(0.3)  # 7:3\n",
    "testTreeModel(0.2)  # 8:2\n",
    "testTreeModel(0.1)  # 9:1"
   ]
  },
  {
   "cell_type": "markdown",
   "metadata": {},
   "source": [
    "### 실습 1\n",
    "- max_depth를 이용하여 과적합을 해소시켜보자. DecisionTreeClassifier(maxdepth, randomstate)\n",
    "- (추가) max_leaf_nodes, min_sample_leaf를 추가해서 최적의 모델을 만들어보자."
   ]
  },
  {
   "cell_type": "code",
   "execution_count": 24,
   "metadata": {},
   "outputs": [],
   "source": [
    "def testTreeModel(TestSize, treeDepth):\n",
    "    cancer = load_breast_cancer()\n",
    "    all_X = cancer.data\n",
    "    all_Y = cancer.target\n",
    "    X_train, X_test, y_train, y_test = train_test_split(all_X, \n",
    "                                                    all_Y, \n",
    "                                                    stratify=cancer.target, \n",
    "                                                    test_size = TestSize,\n",
    "                                                    random_state=77)\n",
    "    \n",
    "    tree = DecisionTreeClassifier(max_depth=treeDepth, random_state=0)\n",
    "    tree.fit(X_train, y_train)\n",
    "    print(\"훈련 세트 정확도 : {:.3f}\".format(tree.score(X_train, y_train)))\n",
    "    print(\"테스트 세트 정확도 : {:.3f}\".format(tree.score(X_test, y_test)))\n",
    "    \n",
    "    a = tree.score(X_train, y_train)\n",
    "    b = tree.score(X_test, y_test)\n",
    "    return a, b"
   ]
  },
  {
   "cell_type": "code",
   "execution_count": 29,
   "metadata": {},
   "outputs": [
    {
     "name": "stdout",
     "output_type": "stream",
     "text": [
      "훈련 세트 정확도 : 0.982\n",
      "테스트 세트 정확도 : 0.906\n",
      "TestSize, treeDepth:  0.3 3\n",
      "\n",
      "훈련 세트 정확도 : 0.985\n",
      "테스트 세트 정확도 : 0.906\n",
      "TestSize, treeDepth:  0.3 4\n",
      "\n",
      "훈련 세트 정확도 : 0.992\n",
      "테스트 세트 정확도 : 0.889\n",
      "TestSize, treeDepth:  0.3 5\n",
      "\n",
      "훈련 세트 정확도 : 0.982\n",
      "테스트 세트 정확도 : 0.925\n",
      "TestSize, treeDepth:  0.4 3\n",
      "\n",
      "훈련 세트 정확도 : 0.994\n",
      "테스트 세트 정확도 : 0.939\n",
      "TestSize, treeDepth:  0.4 4\n",
      "\n",
      "훈련 세트 정확도 : 1.000\n",
      "테스트 세트 정확도 : 0.921\n",
      "TestSize, treeDepth:  0.4 5\n",
      "\n",
      "훈련 세트 정확도 : 0.982\n",
      "테스트 세트 정확도 : 0.923\n",
      "TestSize, treeDepth:  0.5 3\n",
      "\n",
      "훈련 세트 정확도 : 1.000\n",
      "테스트 세트 정확도 : 0.933\n",
      "TestSize, treeDepth:  0.5 4\n",
      "\n",
      "훈련 세트 정확도 : 1.000\n",
      "테스트 세트 정확도 : 0.933\n",
      "TestSize, treeDepth:  0.5 5\n",
      "\n",
      "[0.9824120603015075, 0.9849246231155779, 0.992462311557789, 0.9824046920821115, 0.9941348973607038, 1.0, 0.9823943661971831, 1.0, 1.0]\n",
      "[0.9064327485380117, 0.9064327485380117, 0.8888888888888888, 0.9254385964912281, 0.9385964912280702, 0.9210526315789473, 0.9228070175438596, 0.9333333333333333, 0.9333333333333333]\n"
     ]
    }
   ],
   "source": [
    "# 확인해보기\n",
    "TestSize = [0.3, 0.4, 0.5]\n",
    "treeDepth = [3,4,5]\n",
    "\n",
    "score_train = 0\n",
    "score_test = 0\n",
    "\n",
    "trscore=[]\n",
    "tscore=[]\n",
    "\n",
    "for size in TestSize:\n",
    "    for depth in treeDepth:\n",
    "        global trscore\n",
    "        global tscore\n",
    "        \n",
    "        s1, s2 = testTreeModel(size, depth)\n",
    "        print(\"TestSize, treeDepth: \", size, depth)\n",
    "        print(\"\")\n",
    "        \n",
    "        trscore.append(s1)\n",
    "        tscore.append(s2)\n",
    "        \n",
    "print(trscore)\n",
    "print(tscore)\n",
    "        \n",
    "        "
   ]
  },
  {
   "cell_type": "markdown",
   "metadata": {},
   "source": [
    "## Random Forest"
   ]
  },
  {
   "cell_type": "code",
   "execution_count": 30,
   "metadata": {},
   "outputs": [],
   "source": [
    "import pandas as pd\n",
    "\n",
    "train = pd.read_csv(\"data/house_train.csv\")\n",
    "test = pd.read_csv(\"data/house_test.csv\")"
   ]
  },
  {
   "cell_type": "code",
   "execution_count": 32,
   "metadata": {},
   "outputs": [
    {
     "name": "stdout",
     "output_type": "stream",
     "text": [
      "Index(['id', 'date', 'price', 'bedrooms', 'bathrooms', 'sqft_living',\n",
      "       'sqft_lot', 'floors', 'waterfront', 'view', 'condition', 'grade',\n",
      "       'sqft_above', 'sqft_basement', 'yr_built', 'yr_renovated', 'zipcode',\n",
      "       'lat', 'long', 'sqft_living15', 'sqft_lot15'],\n",
      "      dtype='object')\n",
      "Index(['id', 'date', 'bedrooms', 'bathrooms', 'sqft_living', 'sqft_lot',\n",
      "       'floors', 'waterfront', 'view', 'condition', 'grade', 'sqft_above',\n",
      "       'sqft_basement', 'yr_built', 'yr_renovated', 'zipcode', 'lat', 'long',\n",
      "       'sqft_living15', 'sqft_lot15'],\n",
      "      dtype='object')\n"
     ]
    }
   ],
   "source": [
    "print(train.columns)\n",
    "print(test.columns)"
   ]
  },
  {
   "cell_type": "code",
   "execution_count": 33,
   "metadata": {},
   "outputs": [
    {
     "name": "stdout",
     "output_type": "stream",
     "text": [
      "<class 'pandas.core.frame.DataFrame'>\n",
      "RangeIndex: 15035 entries, 0 to 15034\n",
      "Data columns (total 21 columns):\n",
      " #   Column         Non-Null Count  Dtype  \n",
      "---  ------         --------------  -----  \n",
      " 0   id             15035 non-null  int64  \n",
      " 1   date           15035 non-null  object \n",
      " 2   price          15035 non-null  float64\n",
      " 3   bedrooms       15035 non-null  int64  \n",
      " 4   bathrooms      15035 non-null  float64\n",
      " 5   sqft_living    15035 non-null  int64  \n",
      " 6   sqft_lot       15035 non-null  int64  \n",
      " 7   floors         15035 non-null  float64\n",
      " 8   waterfront     15035 non-null  int64  \n",
      " 9   view           15035 non-null  int64  \n",
      " 10  condition      15035 non-null  int64  \n",
      " 11  grade          15035 non-null  int64  \n",
      " 12  sqft_above     15035 non-null  int64  \n",
      " 13  sqft_basement  15035 non-null  int64  \n",
      " 14  yr_built       15035 non-null  int64  \n",
      " 15  yr_renovated   15035 non-null  int64  \n",
      " 16  zipcode        15035 non-null  int64  \n",
      " 17  lat            15035 non-null  float64\n",
      " 18  long           15035 non-null  float64\n",
      " 19  sqft_living15  15035 non-null  int64  \n",
      " 20  sqft_lot15     15035 non-null  int64  \n",
      "dtypes: float64(5), int64(15), object(1)\n",
      "memory usage: 2.4+ MB\n"
     ]
    }
   ],
   "source": [
    "train.info()"
   ]
  },
  {
   "cell_type": "code",
   "execution_count": 34,
   "metadata": {},
   "outputs": [
    {
     "name": "stdout",
     "output_type": "stream",
     "text": [
      "<class 'pandas.core.frame.DataFrame'>\n",
      "RangeIndex: 6555 entries, 0 to 6554\n",
      "Data columns (total 20 columns):\n",
      " #   Column         Non-Null Count  Dtype  \n",
      "---  ------         --------------  -----  \n",
      " 0   id             6555 non-null   int64  \n",
      " 1   date           6555 non-null   object \n",
      " 2   bedrooms       6555 non-null   int64  \n",
      " 3   bathrooms      6555 non-null   float64\n",
      " 4   sqft_living    6555 non-null   int64  \n",
      " 5   sqft_lot       6555 non-null   int64  \n",
      " 6   floors         6555 non-null   float64\n",
      " 7   waterfront     6555 non-null   int64  \n",
      " 8   view           6555 non-null   int64  \n",
      " 9   condition      6555 non-null   int64  \n",
      " 10  grade          6555 non-null   int64  \n",
      " 11  sqft_above     6555 non-null   int64  \n",
      " 12  sqft_basement  6555 non-null   int64  \n",
      " 13  yr_built       6555 non-null   int64  \n",
      " 14  yr_renovated   6555 non-null   int64  \n",
      " 15  zipcode        6555 non-null   int64  \n",
      " 16  lat            6555 non-null   float64\n",
      " 17  long           6555 non-null   float64\n",
      " 18  sqft_living15  6555 non-null   int64  \n",
      " 19  sqft_lot15     6555 non-null   int64  \n",
      "dtypes: float64(4), int64(15), object(1)\n",
      "memory usage: 1.0+ MB\n"
     ]
    }
   ],
   "source": [
    "test.info()"
   ]
  },
  {
   "cell_type": "code",
   "execution_count": 35,
   "metadata": {},
   "outputs": [],
   "source": [
    "# test dataset에는 price feature가 없다.\n",
    "# 아~ price를 예측해야되는구나~~\n",
    "# 결측치는 없다."
   ]
  },
  {
   "cell_type": "code",
   "execution_count": 37,
   "metadata": {},
   "outputs": [],
   "source": [
    "from sklearn.ensemble import RandomForestRegressor\n",
    "from sklearn.model_selection import train_test_split\n",
    "import matplotlib.pyplot as plt\n",
    "import numpy as np"
   ]
  },
  {
   "cell_type": "code",
   "execution_count": 38,
   "metadata": {},
   "outputs": [],
   "source": [
    "# test set에는 price가 없으니까 일단 price 열을 drop 하자.\n",
    "X_all = train.drop(['price'], axis=1)\n",
    "y=train['price']"
   ]
  },
  {
   "cell_type": "code",
   "execution_count": 40,
   "metadata": {},
   "outputs": [],
   "source": [
    "# Min_Max_Scaler 메서드로 Normalization 하기\n",
    "from sklearn.preprocessing import MinMaxScaler"
   ]
  },
  {
   "cell_type": "code",
   "execution_count": 41,
   "metadata": {},
   "outputs": [
    {
     "data": {
      "text/plain": [
       "Index(['id', 'date', 'price', 'bedrooms', 'bathrooms', 'sqft_living',\n",
       "       'sqft_lot', 'floors', 'waterfront', 'view', 'condition', 'grade',\n",
       "       'sqft_above', 'sqft_basement', 'yr_built', 'yr_renovated', 'zipcode',\n",
       "       'lat', 'long', 'sqft_living15', 'sqft_lot15'],\n",
       "      dtype='object')"
      ]
     },
     "execution_count": 41,
     "metadata": {},
     "output_type": "execute_result"
    }
   ],
   "source": [
    "train.columns"
   ]
  },
  {
   "cell_type": "code",
   "execution_count": 44,
   "metadata": {},
   "outputs": [
    {
     "data": {
      "text/plain": [
       "array([[0.06716981, 0.00310751, 0.3       ],\n",
       "       [0.03622642, 0.00574253, 0.2       ],\n",
       "       [0.10490566, 0.00457949, 0.3       ],\n",
       "       [0.10754717, 0.00381564, 0.3       ],\n",
       "       [0.05811321, 0.00556747, 0.3       ]])"
      ]
     },
     "execution_count": 44,
     "metadata": {},
     "output_type": "execute_result"
    }
   ],
   "source": [
    "# sqft_living : 주거 공간의 평방피트(ft^2)\n",
    "# sqft_lot : 부지의 평방피트\n",
    "# bedrooms : 침실의 수\n",
    "\n",
    "sel = ['sqft_living', 'sqft_lot', 'bedrooms']\n",
    "\n",
    "X = X_all[sel]\n",
    "y = train['price']\n",
    "\n",
    "nor_X = MinMaxScaler().fit_transform(X)\n",
    "nor_X[0:5]"
   ]
  },
  {
   "cell_type": "code",
   "execution_count": 45,
   "metadata": {},
   "outputs": [],
   "source": [
    "X_train, X_test, y_train, y_test = train_test_split(nor_X, y, random_state=42)"
   ]
  },
  {
   "cell_type": "code",
   "execution_count": 46,
   "metadata": {},
   "outputs": [
    {
     "name": "stdout",
     "output_type": "stream",
     "text": [
      "RandomForestRegressor(n_estimators=5, random_state=2)\n",
      "0.8922137121180739\n",
      "0.37937640288308927\n"
     ]
    }
   ],
   "source": [
    "model = RandomForestRegressor(n_estimators=5, random_state=2) # 5개의 트리\n",
    "print(model.fit(X_train, y_train))\n",
    "\n",
    "# 결과 확인\n",
    "print(model.score(X_train, y_train))\n",
    "print(model.score(X_test, y_test))"
   ]
  },
  {
   "cell_type": "code",
   "execution_count": 47,
   "metadata": {},
   "outputs": [
    {
     "data": {
      "text/plain": [
       "RandomForestRegressor(n_estimators=5, random_state=2)"
      ]
     },
     "execution_count": 47,
     "metadata": {},
     "output_type": "execute_result"
    }
   ],
   "source": [
    "model"
   ]
  },
  {
   "cell_type": "code",
   "execution_count": 48,
   "metadata": {},
   "outputs": [
    {
     "name": "stdout",
     "output_type": "stream",
     "text": [
      "[DecisionTreeRegressor(max_features='auto', random_state=1872583848), DecisionTreeRegressor(max_features='auto', random_state=794921487), DecisionTreeRegressor(max_features='auto', random_state=111352301), DecisionTreeRegressor(max_features='auto', random_state=1853453896), DecisionTreeRegressor(max_features='auto', random_state=213298710)]\n"
     ]
    }
   ],
   "source": [
    "print(model.estimators_)"
   ]
  },
  {
   "cell_type": "code",
   "execution_count": 49,
   "metadata": {},
   "outputs": [
    {
     "data": {
      "text/plain": [
       "3"
      ]
     },
     "execution_count": 49,
     "metadata": {},
     "output_type": "execute_result"
    }
   ],
   "source": [
    "model.n_features_"
   ]
  },
  {
   "cell_type": "code",
   "execution_count": 51,
   "metadata": {},
   "outputs": [
    {
     "data": {
      "text/plain": [
       "(15035, 3)"
      ]
     },
     "execution_count": 51,
     "metadata": {},
     "output_type": "execute_result"
    }
   ],
   "source": [
    "X.shape"
   ]
  },
  {
   "cell_type": "code",
   "execution_count": 52,
   "metadata": {},
   "outputs": [
    {
     "data": {
      "text/plain": [
       "3"
      ]
     },
     "execution_count": 52,
     "metadata": {},
     "output_type": "execute_result"
    }
   ],
   "source": [
    "n_features = X.shape[1]\n",
    "n_features"
   ]
  },
  {
   "cell_type": "code",
   "execution_count": 53,
   "metadata": {},
   "outputs": [],
   "source": [
    "# model : 모델\n",
    "# n_features : feature(변수의 개수)\n",
    "# feature_names : 특성의 이름\n",
    "def plot_feature_important_up(model, n_features, feature_names):\n",
    "  imp = model.feature_importances_     # feature의 중요도 \n",
    "  plt.barh(range(n_features) , imp, align='center')  # 그래프(가로 막대 그래프)\n",
    "  plt.yticks(np.arange(n_features), feature_names)  #y축의 축의 값\n",
    "  plt.xlabel(\"feature importance\")   # x축 레이블(제목)\n",
    "  plt.ylabel(\"feature\")              # y축 제목\n",
    "  plt.ylim(-1, n_features)           # y축의 범위 지정 "
   ]
  },
  {
   "cell_type": "code",
   "execution_count": 55,
   "metadata": {},
   "outputs": [
    {
     "data": {
      "image/png": "[encoded data removed]",
      "text/plain": [
       "<Figure size 432x288 with 1 Axes>"
      ]
     },
     "metadata": {
      "needs_background": "light"
     },
     "output_type": "display_data"
    }
   ],
   "source": [
    "feature_names = sel # 선택한 특성 이름\n",
    "\n",
    "plot_feature_important_up(model, n_features, feature_names)"
   ]
  },
  {
   "cell_type": "markdown",
   "metadata": {},
   "source": [
    "### 실습 3-3\n",
    "- 모델을 10개, 모델을 100개, 모델을 1000개 만들어서 score를 확인해 보기\n",
    "- 학습용 및 테스트용의  score 결정계수이다."
   ]
  },
  {
   "cell_type": "code",
   "execution_count": 59,
   "metadata": {},
   "outputs": [
    {
     "name": "stdout",
     "output_type": "stream",
     "text": [
      "RandomForestRegressor(n_estimators=10, random_state=2)\n",
      "훈련 세트 정확도 : 0.912\n",
      "훈련 세트 정확도 : 0.408\n",
      "\n",
      "RandomForestRegressor(random_state=2)\n",
      "훈련 세트 정확도 : 0.934\n",
      "훈련 세트 정확도 : 0.451\n",
      "\n",
      "RandomForestRegressor(n_estimators=1000, random_state=2)\n",
      "훈련 세트 정확도 : 0.936\n",
      "훈련 세트 정확도 : 0.456\n",
      "\n"
     ]
    }
   ],
   "source": [
    "n_model=[10,100,1000]\n",
    "\n",
    "for n in n_model:\n",
    "    start=time()\n",
    "    model = RandomForestRegressor(n_estimators=n, random_state=2) # 5개의 트리\n",
    "    print(model.fit(X_train, y_train))\n",
    "\n",
    "    # 결과 확인\n",
    "    print(\"훈련 세트 정확도 : {:.3f}\".format(model.score(X_train, y_train)))\n",
    "    print(\"훈련 세트 정확도 : {:.3f}\".format(model.score(X_test, y_test)))\n",
    "    print(time()-start)\n",
    "    print(\"\")"
   ]
  },
  {
   "cell_type": "markdown",
   "metadata": {},
   "source": [
    "### 제출"
   ]
  },
  {
   "cell_type": "code",
   "execution_count": 90,
   "metadata": {},
   "outputs": [
    {
     "name": "stdout",
     "output_type": "stream",
     "text": [
      "RandomForestRegressor(random_state=2)\n",
      "훈련 세트 정확도 : 0.934\n",
      "훈련 세트 정확도 : 0.451\n",
      "\n"
     ]
    }
   ],
   "source": [
    "model = RandomForestRegressor(n_estimators=100, random_state=2) # 5개의 트리\n",
    "print(model.fit(X_train, y_train))\n",
    "\n",
    "# 결과 확인\n",
    "print(\"훈련 세트 정확도 : {:.3f}\".format(model.score(X_train, y_train)))\n",
    "print(\"훈련 세트 정확도 : {:.3f}\".format(model.score(X_test, y_test)))\n",
    "print(\"\")"
   ]
  },
  {
   "cell_type": "code",
   "execution_count": 91,
   "metadata": {},
   "outputs": [
    {
     "data": {
      "text/plain": [
       "3759"
      ]
     },
     "execution_count": 91,
     "metadata": {},
     "output_type": "execute_result"
    }
   ],
   "source": [
    "pred = model.predict(X_test)\n",
    "len(pred)"
   ]
  },
  {
   "cell_type": "code",
   "execution_count": 93,
   "metadata": {},
   "outputs": [
    {
     "data": {
      "text/plain": [
       "array([394136. , 370761.5, 339024.5, 225658.5, 427717.5])"
      ]
     },
     "execution_count": 93,
     "metadata": {},
     "output_type": "execute_result"
    }
   ],
   "source": [
    "pred[0:5]"
   ]
  },
  {
   "cell_type": "code",
   "execution_count": 92,
   "metadata": {},
   "outputs": [
    {
     "data": {
      "text/plain": [
       "6468"
      ]
     },
     "execution_count": 92,
     "metadata": {},
     "output_type": "execute_result"
    }
   ],
   "source": [
    "# Submission\n",
    "sub = pd.read_csv(\"data/sample_submission.csv\")\n",
    "len(sub)"
   ]
  },
  {
   "cell_type": "code",
   "execution_count": 94,
   "metadata": {},
   "outputs": [
    {
     "ename": "ValueError",
     "evalue": "Length of values does not match length of index",
     "output_type": "error",
     "traceback": [
      "\u001b[1;31m---------------------------------------------------------------------------\u001b[0m",
      "\u001b[1;31mValueError\u001b[0m                                Traceback (most recent call last)",
      "\u001b[1;32m<ipython-input-94-eed8031d7877>\u001b[0m in \u001b[0;36m<module>\u001b[1;34m\u001b[0m\n\u001b[1;32m----> 1\u001b[1;33m \u001b[0msub\u001b[0m\u001b[1;33m[\u001b[0m\u001b[1;34m'price'\u001b[0m\u001b[1;33m]\u001b[0m \u001b[1;33m=\u001b[0m \u001b[0mpred\u001b[0m\u001b[1;33m\u001b[0m\u001b[1;33m\u001b[0m\u001b[0m\n\u001b[0m\u001b[0;32m      2\u001b[0m \u001b[0msub\u001b[0m\u001b[1;33m.\u001b[0m\u001b[0mto_csv\u001b[0m\u001b[1;33m(\u001b[0m\u001b[1;34m\"firstsub.csv\"\u001b[0m\u001b[1;33m,\u001b[0m \u001b[0mindex\u001b[0m\u001b[1;33m=\u001b[0m\u001b[1;32mFalse\u001b[0m\u001b[1;33m)\u001b[0m\u001b[1;33m\u001b[0m\u001b[1;33m\u001b[0m\u001b[0m\n",
      "\u001b[1;32m~\\anaconda3\\lib\\site-packages\\pandas\\core\\frame.py\u001b[0m in \u001b[0;36m__setitem__\u001b[1;34m(self, key, value)\u001b[0m\n\u001b[0;32m   2936\u001b[0m         \u001b[1;32melse\u001b[0m\u001b[1;33m:\u001b[0m\u001b[1;33m\u001b[0m\u001b[1;33m\u001b[0m\u001b[0m\n\u001b[0;32m   2937\u001b[0m             \u001b[1;31m# set column\u001b[0m\u001b[1;33m\u001b[0m\u001b[1;33m\u001b[0m\u001b[1;33m\u001b[0m\u001b[0m\n\u001b[1;32m-> 2938\u001b[1;33m             \u001b[0mself\u001b[0m\u001b[1;33m.\u001b[0m\u001b[0m_set_item\u001b[0m\u001b[1;33m(\u001b[0m\u001b[0mkey\u001b[0m\u001b[1;33m,\u001b[0m \u001b[0mvalue\u001b[0m\u001b[1;33m)\u001b[0m\u001b[1;33m\u001b[0m\u001b[1;33m\u001b[0m\u001b[0m\n\u001b[0m\u001b[0;32m   2939\u001b[0m \u001b[1;33m\u001b[0m\u001b[0m\n\u001b[0;32m   2940\u001b[0m     \u001b[1;32mdef\u001b[0m \u001b[0m_setitem_slice\u001b[0m\u001b[1;33m(\u001b[0m\u001b[0mself\u001b[0m\u001b[1;33m,\u001b[0m \u001b[0mkey\u001b[0m\u001b[1;33m,\u001b[0m \u001b[0mvalue\u001b[0m\u001b[1;33m)\u001b[0m\u001b[1;33m:\u001b[0m\u001b[1;33m\u001b[0m\u001b[1;33m\u001b[0m\u001b[0m\n",
      "\u001b[1;32m~\\anaconda3\\lib\\site-packages\\pandas\\core\\frame.py\u001b[0m in \u001b[0;36m_set_item\u001b[1;34m(self, key, value)\u001b[0m\n\u001b[0;32m   2998\u001b[0m \u001b[1;33m\u001b[0m\u001b[0m\n\u001b[0;32m   2999\u001b[0m         \u001b[0mself\u001b[0m\u001b[1;33m.\u001b[0m\u001b[0m_ensure_valid_index\u001b[0m\u001b[1;33m(\u001b[0m\u001b[0mvalue\u001b[0m\u001b[1;33m)\u001b[0m\u001b[1;33m\u001b[0m\u001b[1;33m\u001b[0m\u001b[0m\n\u001b[1;32m-> 3000\u001b[1;33m         \u001b[0mvalue\u001b[0m \u001b[1;33m=\u001b[0m \u001b[0mself\u001b[0m\u001b[1;33m.\u001b[0m\u001b[0m_sanitize_column\u001b[0m\u001b[1;33m(\u001b[0m\u001b[0mkey\u001b[0m\u001b[1;33m,\u001b[0m \u001b[0mvalue\u001b[0m\u001b[1;33m)\u001b[0m\u001b[1;33m\u001b[0m\u001b[1;33m\u001b[0m\u001b[0m\n\u001b[0m\u001b[0;32m   3001\u001b[0m         \u001b[0mNDFrame\u001b[0m\u001b[1;33m.\u001b[0m\u001b[0m_set_item\u001b[0m\u001b[1;33m(\u001b[0m\u001b[0mself\u001b[0m\u001b[1;33m,\u001b[0m \u001b[0mkey\u001b[0m\u001b[1;33m,\u001b[0m \u001b[0mvalue\u001b[0m\u001b[1;33m)\u001b[0m\u001b[1;33m\u001b[0m\u001b[1;33m\u001b[0m\u001b[0m\n\u001b[0;32m   3002\u001b[0m \u001b[1;33m\u001b[0m\u001b[0m\n",
      "\u001b[1;32m~\\anaconda3\\lib\\site-packages\\pandas\\core\\frame.py\u001b[0m in \u001b[0;36m_sanitize_column\u001b[1;34m(self, key, value, broadcast)\u001b[0m\n\u001b[0;32m   3634\u001b[0m \u001b[1;33m\u001b[0m\u001b[0m\n\u001b[0;32m   3635\u001b[0m             \u001b[1;31m# turn me into an ndarray\u001b[0m\u001b[1;33m\u001b[0m\u001b[1;33m\u001b[0m\u001b[1;33m\u001b[0m\u001b[0m\n\u001b[1;32m-> 3636\u001b[1;33m             \u001b[0mvalue\u001b[0m \u001b[1;33m=\u001b[0m \u001b[0msanitize_index\u001b[0m\u001b[1;33m(\u001b[0m\u001b[0mvalue\u001b[0m\u001b[1;33m,\u001b[0m \u001b[0mself\u001b[0m\u001b[1;33m.\u001b[0m\u001b[0mindex\u001b[0m\u001b[1;33m,\u001b[0m \u001b[0mcopy\u001b[0m\u001b[1;33m=\u001b[0m\u001b[1;32mFalse\u001b[0m\u001b[1;33m)\u001b[0m\u001b[1;33m\u001b[0m\u001b[1;33m\u001b[0m\u001b[0m\n\u001b[0m\u001b[0;32m   3637\u001b[0m             \u001b[1;32mif\u001b[0m \u001b[1;32mnot\u001b[0m \u001b[0misinstance\u001b[0m\u001b[1;33m(\u001b[0m\u001b[0mvalue\u001b[0m\u001b[1;33m,\u001b[0m \u001b[1;33m(\u001b[0m\u001b[0mnp\u001b[0m\u001b[1;33m.\u001b[0m\u001b[0mndarray\u001b[0m\u001b[1;33m,\u001b[0m \u001b[0mIndex\u001b[0m\u001b[1;33m)\u001b[0m\u001b[1;33m)\u001b[0m\u001b[1;33m:\u001b[0m\u001b[1;33m\u001b[0m\u001b[1;33m\u001b[0m\u001b[0m\n\u001b[0;32m   3638\u001b[0m                 \u001b[1;32mif\u001b[0m \u001b[0misinstance\u001b[0m\u001b[1;33m(\u001b[0m\u001b[0mvalue\u001b[0m\u001b[1;33m,\u001b[0m \u001b[0mlist\u001b[0m\u001b[1;33m)\u001b[0m \u001b[1;32mand\u001b[0m \u001b[0mlen\u001b[0m\u001b[1;33m(\u001b[0m\u001b[0mvalue\u001b[0m\u001b[1;33m)\u001b[0m \u001b[1;33m>\u001b[0m \u001b[1;36m0\u001b[0m\u001b[1;33m:\u001b[0m\u001b[1;33m\u001b[0m\u001b[1;33m\u001b[0m\u001b[0m\n",
      "\u001b[1;32m~\\anaconda3\\lib\\site-packages\\pandas\\core\\internals\\construction.py\u001b[0m in \u001b[0;36msanitize_index\u001b[1;34m(data, index, copy)\u001b[0m\n\u001b[0;32m    609\u001b[0m \u001b[1;33m\u001b[0m\u001b[0m\n\u001b[0;32m    610\u001b[0m     \u001b[1;32mif\u001b[0m \u001b[0mlen\u001b[0m\u001b[1;33m(\u001b[0m\u001b[0mdata\u001b[0m\u001b[1;33m)\u001b[0m \u001b[1;33m!=\u001b[0m \u001b[0mlen\u001b[0m\u001b[1;33m(\u001b[0m\u001b[0mindex\u001b[0m\u001b[1;33m)\u001b[0m\u001b[1;33m:\u001b[0m\u001b[1;33m\u001b[0m\u001b[1;33m\u001b[0m\u001b[0m\n\u001b[1;32m--> 611\u001b[1;33m         \u001b[1;32mraise\u001b[0m \u001b[0mValueError\u001b[0m\u001b[1;33m(\u001b[0m\u001b[1;34m\"Length of values does not match length of index\"\u001b[0m\u001b[1;33m)\u001b[0m\u001b[1;33m\u001b[0m\u001b[1;33m\u001b[0m\u001b[0m\n\u001b[0m\u001b[0;32m    612\u001b[0m \u001b[1;33m\u001b[0m\u001b[0m\n\u001b[0;32m    613\u001b[0m     \u001b[1;32mif\u001b[0m \u001b[0misinstance\u001b[0m\u001b[1;33m(\u001b[0m\u001b[0mdata\u001b[0m\u001b[1;33m,\u001b[0m \u001b[0mABCIndexClass\u001b[0m\u001b[1;33m)\u001b[0m \u001b[1;32mand\u001b[0m \u001b[1;32mnot\u001b[0m \u001b[0mcopy\u001b[0m\u001b[1;33m:\u001b[0m\u001b[1;33m\u001b[0m\u001b[1;33m\u001b[0m\u001b[0m\n",
      "\u001b[1;31mValueError\u001b[0m: Length of values does not match length of index"
     ]
    }
   ],
   "source": [
    "sub['price'] = pred\n",
    "sub.to_csv(\"firstsub.csv\", index=False)"
   ]
  },
  {
   "cell_type": "markdown",
   "metadata": {},
   "source": [
    "### 실습 3-4 score 개선하기"
   ]
  },
  {
   "cell_type": "code",
   "execution_count": 95,
   "metadata": {},
   "outputs": [],
   "source": [
    "from sklearn.ensemble import RandomForestRegressor\n",
    "from sklearn.model_selection import train_test_split\n",
    "import matplotlib.pyplot as plt\n",
    "import numpy as np"
   ]
  },
  {
   "cell_type": "code",
   "execution_count": 109,
   "metadata": {},
   "outputs": [
    {
     "name": "stdout",
     "output_type": "stream",
     "text": [
      "RandomForestRegressor(n_estimators=1000, random_state=2)\n",
      "0.9621056909621075\n",
      "0.6884841187051769\n"
     ]
    }
   ],
   "source": [
    "# test set에는 price가 없으니까 일단 price 열을 drop 하자.\n",
    "X_all = train.drop(['price'], axis=1)\n",
    "y=train['price']\n",
    "\n",
    "# Min_Max_Scaler 메서드로 Normalization 하기\n",
    "from sklearn.preprocessing import MinMaxScaler\n",
    "\n",
    "# sqft_living : 주거 공간의 평방피트(ft^2)\n",
    "# sqft_lot : 부지의 평방피트\n",
    "# bedrooms : 침실의 수\n",
    "\n",
    "sel = ['sqft_living', 'sqft_lot', 'waterfront', 'view', 'grade', 'sqft_above',\n",
    "       'sqft_basement', 'yr_built']\n",
    "\n",
    "X = X_all[sel]\n",
    "y = train['price']\n",
    "\n",
    "# MinMaxScaler 메서드로 data 정규화\n",
    "nor_X = MinMaxScaler().fit_transform(X)\n",
    "\n",
    "X_train, X_test, y_train, y_test = train_test_split(nor_X, y, random_state=42)\n",
    "\n",
    "model = RandomForestRegressor(n_estimators=1000, random_state=2) # 5개의 트리\n",
    "print(model.fit(X_train, y_train))\n",
    "\n",
    "# 결과 확인\n",
    "print(model.score(X_train, y_train))\n",
    "print(model.score(X_test, y_test))"
   ]
  },
  {
   "cell_type": "markdown",
   "metadata": {},
   "source": [
    "### Feature의 중요도"
   ]
  },
  {
   "cell_type": "code",
   "execution_count": 110,
   "metadata": {},
   "outputs": [
    {
     "data": {
      "image/png": "[encoded data removed]",
      "text/plain": [
       "<Figure size 432x288 with 1 Axes>"
      ]
     },
     "metadata": {
      "needs_background": "light"
     },
     "output_type": "display_data"
    }
   ],
   "source": [
    "n_features = X.shape[1]\n",
    "\n",
    "# model : 모델\n",
    "# n_features : feature(변수의 개수)\n",
    "# feature_names : 특성의 이름\n",
    "def plot_feature_important_up(model, n_features, feature_names):\n",
    "  imp = model.feature_importances_     # feature의 중요도 \n",
    "  plt.barh(range(n_features) , imp, align='center')  # 그래프(가로 막대 그래프)\n",
    "  plt.yticks(np.arange(n_features), feature_names)  #y축의 축의 값\n",
    "  plt.xlabel(\"feature importance\")   # x축 레이블(제목)\n",
    "  plt.ylabel(\"feature\")              # y축 제목\n",
    "  plt.ylim(-1, n_features)           # y축의 범위 지정 \n",
    "    \n",
    "feature_names = sel # 선택한 특성 이름\n",
    "\n",
    "plot_feature_important_up(model, n_features, feature_names)"
   ]
  },
  {
   "cell_type": "code",
   "execution_count": null,
   "metadata": {},
   "outputs": [],
   "source": [
    "'''\n",
    "sel = ['bedrooms', 'bathrooms', 'sqft_living', 'sqft_lot', 'floors', 'waterfront', 'view', 'condition', 'grade', 'sqft_above',\n",
    "       'sqft_basement', 'yr_built', 'yr_renovated']\n",
    "    RandomForestRegressor(n_estimators=500, random_state=2)\n",
    "    0.9630963962401365\n",
    "    0.697858726255958\n",
    "    \n",
    "    \n",
    "sel = ['bedrooms', 'bathrooms', 'sqft_living', 'sqft_lot', 'floors', 'waterfront', 'view', 'grade', 'sqft_above',\n",
    "       'sqft_basement', 'yr_built']\n",
    "    RandomForestRegressor(n_estimators=1000, random_state=2)\n",
    "    0.9629373024868187\n",
    "    0.6953513390170254\n",
    "    \n",
    "\n",
    "\n",
    "'''"
   ]
  },
  {
   "cell_type": "markdown",
   "metadata": {},
   "source": [
    "- 의사결정트리는 MinMaxScaler에 영향을 받지 않는다.\n",
    "- n_estimators는 클수록 좋다.\n",
    "- feature_importance가 작은 것은 빼주는게 좋다."
   ]
  },
  {
   "cell_type": "markdown",
   "metadata": {},
   "source": [
    "### 그래디언트 부스팅 기법"
   ]
  },
  {
   "cell_type": "code",
   "execution_count": 111,
   "metadata": {},
   "outputs": [],
   "source": [
    "from sklearn.model_selection import train_test_split\n",
    "from sklearn.datasets import load_breast_cancer\n",
    "import matplotlib.pyplot as plt\n",
    "import numpy as np"
   ]
  },
  {
   "cell_type": "code",
   "execution_count": 119,
   "metadata": {},
   "outputs": [],
   "source": [
    "### 한글\n",
    "import matplotlib\n",
    "from matplotlib import font_manager, rc\n",
    "font_loc = \"C:/Windows/Fonts/malgunbd.ttf\"\n",
    "font_name = font_manager.FontProperties(fname=font_loc).get_name()\n",
    "matplotlib.rc('font', family=font_name)\n",
    "# ============\n",
    "# n_features : 변수의 개수\n",
    "# feature_names : 변수의 이름 \n",
    "# model : 모델 \n",
    "def plot_feature_importances_cancer(model, n_features, feature_names):\n",
    "  imp = model.feature_importances_     # feature의 중요도 \n",
    "  plt.barh(range(n_features) , imp, align='center')  # 그래프(가로 막대 그래프)\n",
    "  plt.yticks(np.arange(n_features), feature_names)  #y축의 축의 값\n",
    "  plt.xlabel(\"feature importance\")   # x축 레이블(제목)\n",
    "  plt.ylabel(\"feature\")              # y축 제목\n",
    "  plt.ylim(-1, n_features)           # y축의 범위 지정 "
   ]
  },
  {
   "cell_type": "code",
   "execution_count": 113,
   "metadata": {},
   "outputs": [
    {
     "name": "stdout",
     "output_type": "stream",
     "text": [
      "dict_keys(['data', 'target', 'frame', 'target_names', 'DESCR', 'feature_names', 'filename'])\n",
      "['malignant' 'benign']\n",
      "[0 0 0 0 0 0 0 0 0 0 0 0 0 0 0 0 0 0 0 1 1 1 0 0 0 0 0 0 0 0 0 0 0 0 0 0 0\n",
      " 1 0 0 0 0 0 0 0 0 1 0 1 1 1 1 1 0 0 1 0 0 1 1 1 1 0 1 0 0 1 1 1 1 0 1 0 0\n",
      " 1 0 1 0 0 1 1 1 0 0 1 0 0 0 1 1 1 0 1 1 0 0 1 1 1 0 0 1 1 1 1 0 1 1 0 1 1\n",
      " 1 1 1 1 1 1 0 0 0 1 0 0 1 1 1 0 0 1 0 1 0 0 1 0 0 1 1 0 1 1 0 1 1 1 1 0 1\n",
      " 1 1 1 1 1 1 1 1 0 1 1 1 1 0 0 1 0 1 1 0 0 1 1 0 0 1 1 1 1 0 1 1 0 0 0 1 0\n",
      " 1 0 1 1 1 0 1 1 0 0 1 0 0 0 0 1 0 0 0 1 0 1 0 1 1 0 1 0 0 0 0 1 1 0 0 1 1\n",
      " 1 0 1 1 1 1 1 0 0 1 1 0 1 1 0 0 1 0 1 1 1 1 0 1 1 1 1 1 0 1 0 0 0 0 0 0 0\n",
      " 0 0 0 0 0 0 0 1 1 1 1 1 1 0 1 0 1 1 0 1 1 0 1 0 0 1 1 1 1 1 1 1 1 1 1 1 1\n",
      " 1 0 1 1 0 1 0 1 1 1 1 1 1 1 1 1 1 1 1 1 1 0 1 1 1 0 1 0 1 1 1 1 0 0 0 1 1\n",
      " 1 1 0 1 0 1 0 1 1 1 0 1 1 1 1 1 1 1 0 0 0 1 1 1 1 1 1 1 1 1 1 1 0 0 1 0 0\n",
      " 0 1 0 0 1 1 1 1 1 0 1 1 1 1 1 0 1 1 1 0 1 1 0 0 1 1 1 1 1 1 0 1 1 1 1 1 1\n",
      " 1 0 1 1 1 1 1 0 1 1 0 1 1 1 1 1 1 1 1 1 1 1 1 0 1 0 0 1 0 1 1 1 1 1 0 1 1\n",
      " 0 1 0 1 1 0 1 0 1 1 1 1 1 1 1 1 0 0 1 1 1 1 1 1 0 1 1 1 1 1 1 1 1 1 1 0 1\n",
      " 1 1 1 1 1 1 0 1 0 1 1 0 1 1 1 1 1 0 0 1 0 1 0 1 1 1 1 1 0 1 1 0 1 0 1 0 0\n",
      " 1 1 1 0 1 1 1 1 1 1 1 1 1 1 1 0 1 0 0 1 1 1 1 1 1 1 1 1 1 1 1 1 1 1 1 1 1\n",
      " 1 1 1 1 1 1 1 0 0 0 0 0 0 1]\n",
      "['mean radius' 'mean texture' 'mean perimeter' 'mean area'\n",
      " 'mean smoothness' 'mean compactness' 'mean concavity'\n",
      " 'mean concave points' 'mean symmetry' 'mean fractal dimension'\n",
      " 'radius error' 'texture error' 'perimeter error' 'area error'\n",
      " 'smoothness error' 'compactness error' 'concavity error'\n",
      " 'concave points error' 'symmetry error' 'fractal dimension error'\n",
      " 'worst radius' 'worst texture' 'worst perimeter' 'worst area'\n",
      " 'worst smoothness' 'worst compactness' 'worst concavity'\n",
      " 'worst concave points' 'worst symmetry' 'worst fractal dimension']\n",
      "(569, 30)\n",
      "[[1.799e+01 1.038e+01 1.228e+02 ... 2.654e-01 4.601e-01 1.189e-01]\n",
      " [2.057e+01 1.777e+01 1.329e+02 ... 1.860e-01 2.750e-01 8.902e-02]\n",
      " [1.969e+01 2.125e+01 1.300e+02 ... 2.430e-01 3.613e-01 8.758e-02]\n",
      " ...\n",
      " [1.660e+01 2.808e+01 1.083e+02 ... 1.418e-01 2.218e-01 7.820e-02]\n",
      " [2.060e+01 2.933e+01 1.401e+02 ... 2.650e-01 4.087e-01 1.240e-01]\n",
      " [7.760e+00 2.454e+01 4.792e+01 ... 0.000e+00 2.871e-01 7.039e-02]]\n"
     ]
    }
   ],
   "source": [
    "from sklearn.ensemble import GradientBoostingClassifier\n",
    "\n",
    "cancer = load_breast_cancer()\n",
    "\n",
    "# 데이터 확인\n",
    "print(cancer.keys())\n",
    "print(cancer.target_names)      # 목적변수(종속변수)      \n",
    "print(cancer.target) \n",
    "print(cancer.feature_names)\n",
    "print(cancer.data.shape)        # 569행 , 30열\n",
    "print(cancer.data)              # 설명변수(독립변수)"
   ]
  },
  {
   "cell_type": "code",
   "execution_count": 131,
   "metadata": {},
   "outputs": [
    {
     "name": "stdout",
     "output_type": "stream",
     "text": [
      "훈련 세트 정확도: 1.000\n",
      "테스트 세트 정확도: 0.965\n"
     ]
    }
   ],
   "source": [
    "X = cancer.data\n",
    "y = cancer.target\n",
    "\n",
    "X_train, X_test, y_train, y_test = train_test_split(X, y, random_state=0)\n",
    "\n",
    "# 모델 생성, 학습, 예측 및 평가(model.score)\n",
    "gbrt = GradientBoostingClassifier(random_state=0)\n",
    "gbrt.fit(X_train, y_train)\n",
    "\n",
    "print(\"훈련 세트 정확도: {:.3f}\".format(gbrt.score(X_train, y_train)))\n",
    "print(\"테스트 세트 정확도: {:.3f}\".format(gbrt.score(X_test, y_test)))"
   ]
  },
  {
   "cell_type": "markdown",
   "metadata": {},
   "source": [
    "### (Exercise 4-1) 트리의 학습률(learning_rate) modulate\n",
    "- modulate 0.1 to 0.01"
   ]
  },
  {
   "cell_type": "code",
   "execution_count": 132,
   "metadata": {},
   "outputs": [
    {
     "name": "stdout",
     "output_type": "stream",
     "text": [
      "학습률 : 2, 트리 깊이: 0.09\n",
      "학습 데이터 세트 정확도: 0.627\n",
      "테스트 세트 정확도: 0.629\n",
      "\n"
     ]
    }
   ],
   "source": [
    "'''\n",
    "lr_late = [0.01, 0.05, 0.07, 0.09, 0.001, 0.005, 0.007]\n",
    "max_depth = range(2, 7, 1) # 2, 3,4,5,6,\n",
    "\n",
    "for i in lr_late:\n",
    "    for depth in max_depth:\n",
    "        gbrt = GradientBoostingClassifier(random_state=0, \n",
    "                                          learning_rate=i, \n",
    "                                          max_depth = depth)\n",
    "        gbrt.fit(X_train, y_train)\n",
    "\n",
    "        print(\"학습률 : {}, 트리 깊이: {}\".format(i, depth))\n",
    "        print(\"학습 데이터 세트 정확도: {:.3f}\".format(gbrt.score(X_train, y_train)))\n",
    "        print(\"테스트 세트 정확도: {:.3f}\".format(gbrt.score(X_test, y_test)))\n",
    "        print()\n",
    "'''        \n",
    "gbrt = GradientBoostingClassifier(random_state=0, \n",
    "                                          learning_rate=2, \n",
    "                                          max_depth =0.09)\n",
    "gbrt.fit(X_train, y_train)\n",
    "\n",
    "print(\"학습률 : {}, 트리 깊이: {}\".format(2, 0.09))\n",
    "print(\"학습 데이터 세트 정확도: {:.3f}\".format(gbrt.score(X_train, y_train)))\n",
    "print(\"테스트 세트 정확도: {:.3f}\".format(gbrt.score(X_test, y_test)))\n",
    "print()  "
   ]
  },
  {
   "cell_type": "code",
   "execution_count": 133,
   "metadata": {},
   "outputs": [],
   "source": [
    "# =======================\n",
    "# n_features : 변수의 개수\n",
    "# feature_names : 변수의 이름 \n",
    "# model : 모델 \n",
    "def plot_feature_important_up(model, n_features, feature_names):\n",
    "  imp = model.feature_importances_     # feature의 중요도 \n",
    "  plt.barh(range(n_features) , imp, align='center')  # 그래프(가로 막대 그래프)\n",
    "  plt.yticks(np.arange(n_features), feature_names)  #y축의 축의 값\n",
    "  plt.xlabel(\"feature importance\")   # x축 레이블(제목)\n",
    "  plt.ylabel(\"feature\")              # y축 제목\n",
    "  plt.ylim(-1, n_features)           # y축의 범위 지정 \n"
   ]
  },
  {
   "cell_type": "code",
   "execution_count": 134,
   "metadata": {},
   "outputs": [
    {
     "name": "stdout",
     "output_type": "stream",
     "text": [
      "30\n"
     ]
    },
    {
     "name": "stderr",
     "output_type": "stream",
     "text": [
      "C:\\Users\\BCBL\\anaconda3\\lib\\site-packages\\matplotlib\\backends\\backend_agg.py:214: RuntimeWarning: Glyph 8722 missing from current font.\n",
      "  font.set_text(s, 0.0, flags=flags)\n",
      "C:\\Users\\BCBL\\anaconda3\\lib\\site-packages\\matplotlib\\backends\\backend_agg.py:183: RuntimeWarning: Glyph 8722 missing from current font.\n",
      "  font.set_text(s, 0, flags=flags)\n"
     ]
    },
    {
     "data": {
      "image/png": "[encoded data removed]",
      "text/plain": [
       "<Figure size 432x288 with 1 Axes>"
      ]
     },
     "metadata": {
      "needs_background": "light"
     },
     "output_type": "display_data"
    }
   ],
   "source": [
    "# ================\n",
    "print(X_train.shape[1])\n",
    "num = X_train.shape[1]\n",
    "name = cancer.feature_names\n",
    "# ============================\n",
    "plot_feature_important_up(gbrt, num, name)"
   ]
  },
  {
   "cell_type": "markdown",
   "metadata": {},
   "source": [
    "### 상관계수 확인하기"
   ]
  },
  {
   "cell_type": "code",
   "execution_count": 135,
   "metadata": {},
   "outputs": [
    {
     "data": {
      "text/html": [
       "<div>\n",
       "<style scoped>\n",
       "    .dataframe tbody tr th:only-of-type {\n",
       "        vertical-align: middle;\n",
       "    }\n",
       "\n",
       "    .dataframe tbody tr th {\n",
       "        vertical-align: top;\n",
       "    }\n",
       "\n",
       "    .dataframe thead th {\n",
       "        text-align: right;\n",
       "    }\n",
       "</style>\n",
       "<table border=\"1\" class=\"dataframe\">\n",
       "  <thead>\n",
       "    <tr style=\"text-align: right;\">\n",
       "      <th></th>\n",
       "      <th>id</th>\n",
       "      <th>price</th>\n",
       "      <th>bedrooms</th>\n",
       "      <th>bathrooms</th>\n",
       "      <th>sqft_living</th>\n",
       "      <th>sqft_lot</th>\n",
       "      <th>floors</th>\n",
       "      <th>waterfront</th>\n",
       "      <th>view</th>\n",
       "      <th>condition</th>\n",
       "      <th>grade</th>\n",
       "      <th>sqft_above</th>\n",
       "      <th>sqft_basement</th>\n",
       "      <th>yr_built</th>\n",
       "      <th>yr_renovated</th>\n",
       "      <th>zipcode</th>\n",
       "      <th>lat</th>\n",
       "      <th>long</th>\n",
       "      <th>sqft_living15</th>\n",
       "      <th>sqft_lot15</th>\n",
       "    </tr>\n",
       "  </thead>\n",
       "  <tbody>\n",
       "    <tr>\n",
       "      <th>id</th>\n",
       "      <td>1.000000</td>\n",
       "      <td>0.020899</td>\n",
       "      <td>0.010520</td>\n",
       "      <td>0.104030</td>\n",
       "      <td>0.041725</td>\n",
       "      <td>-0.034077</td>\n",
       "      <td>0.182848</td>\n",
       "      <td>-0.011775</td>\n",
       "      <td>-0.024360</td>\n",
       "      <td>-0.101618</td>\n",
       "      <td>0.078622</td>\n",
       "      <td>0.073086</td>\n",
       "      <td>-0.050634</td>\n",
       "      <td>0.202477</td>\n",
       "      <td>-0.029810</td>\n",
       "      <td>-0.005761</td>\n",
       "      <td>0.002588</td>\n",
       "      <td>0.014757</td>\n",
       "      <td>0.029248</td>\n",
       "      <td>-0.032269</td>\n",
       "    </tr>\n",
       "    <tr>\n",
       "      <th>price</th>\n",
       "      <td>0.020899</td>\n",
       "      <td>1.000000</td>\n",
       "      <td>0.323672</td>\n",
       "      <td>0.525479</td>\n",
       "      <td>0.702899</td>\n",
       "      <td>0.096793</td>\n",
       "      <td>0.262588</td>\n",
       "      <td>0.265738</td>\n",
       "      <td>0.400806</td>\n",
       "      <td>0.039740</td>\n",
       "      <td>0.667211</td>\n",
       "      <td>0.608577</td>\n",
       "      <td>0.322218</td>\n",
       "      <td>0.047290</td>\n",
       "      <td>0.140808</td>\n",
       "      <td>-0.051498</td>\n",
       "      <td>0.301604</td>\n",
       "      <td>0.023547</td>\n",
       "      <td>0.586419</td>\n",
       "      <td>0.086384</td>\n",
       "    </tr>\n",
       "    <tr>\n",
       "      <th>bedrooms</th>\n",
       "      <td>0.010520</td>\n",
       "      <td>0.323672</td>\n",
       "      <td>1.000000</td>\n",
       "      <td>0.530548</td>\n",
       "      <td>0.596974</td>\n",
       "      <td>0.033475</td>\n",
       "      <td>0.189532</td>\n",
       "      <td>-0.004819</td>\n",
       "      <td>0.085703</td>\n",
       "      <td>0.034885</td>\n",
       "      <td>0.375286</td>\n",
       "      <td>0.494867</td>\n",
       "      <td>0.315183</td>\n",
       "      <td>0.158799</td>\n",
       "      <td>0.022729</td>\n",
       "      <td>-0.162081</td>\n",
       "      <td>-0.011190</td>\n",
       "      <td>0.135802</td>\n",
       "      <td>0.407394</td>\n",
       "      <td>0.027242</td>\n",
       "    </tr>\n",
       "    <tr>\n",
       "      <th>bathrooms</th>\n",
       "      <td>0.104030</td>\n",
       "      <td>0.525479</td>\n",
       "      <td>0.530548</td>\n",
       "      <td>1.000000</td>\n",
       "      <td>0.755853</td>\n",
       "      <td>0.089308</td>\n",
       "      <td>0.508649</td>\n",
       "      <td>0.075452</td>\n",
       "      <td>0.187488</td>\n",
       "      <td>-0.125907</td>\n",
       "      <td>0.666278</td>\n",
       "      <td>0.688255</td>\n",
       "      <td>0.282642</td>\n",
       "      <td>0.503964</td>\n",
       "      <td>0.065423</td>\n",
       "      <td>-0.207500</td>\n",
       "      <td>0.018110</td>\n",
       "      <td>0.227669</td>\n",
       "      <td>0.573541</td>\n",
       "      <td>0.088120</td>\n",
       "    </tr>\n",
       "    <tr>\n",
       "      <th>sqft_living</th>\n",
       "      <td>0.041725</td>\n",
       "      <td>0.702899</td>\n",
       "      <td>0.596974</td>\n",
       "      <td>0.755853</td>\n",
       "      <td>1.000000</td>\n",
       "      <td>0.176500</td>\n",
       "      <td>0.363193</td>\n",
       "      <td>0.108137</td>\n",
       "      <td>0.282821</td>\n",
       "      <td>-0.054213</td>\n",
       "      <td>0.762543</td>\n",
       "      <td>0.878736</td>\n",
       "      <td>0.434017</td>\n",
       "      <td>0.315927</td>\n",
       "      <td>0.064893</td>\n",
       "      <td>-0.200745</td>\n",
       "      <td>0.051609</td>\n",
       "      <td>0.245429</td>\n",
       "      <td>0.760271</td>\n",
       "      <td>0.184176</td>\n",
       "    </tr>\n",
       "    <tr>\n",
       "      <th>sqft_lot</th>\n",
       "      <td>-0.034077</td>\n",
       "      <td>0.096793</td>\n",
       "      <td>0.033475</td>\n",
       "      <td>0.089308</td>\n",
       "      <td>0.176500</td>\n",
       "      <td>1.000000</td>\n",
       "      <td>0.001535</td>\n",
       "      <td>0.025584</td>\n",
       "      <td>0.080441</td>\n",
       "      <td>-0.002099</td>\n",
       "      <td>0.119906</td>\n",
       "      <td>0.186242</td>\n",
       "      <td>0.017818</td>\n",
       "      <td>0.058686</td>\n",
       "      <td>-0.001451</td>\n",
       "      <td>-0.127709</td>\n",
       "      <td>-0.082234</td>\n",
       "      <td>0.227451</td>\n",
       "      <td>0.147562</td>\n",
       "      <td>0.728458</td>\n",
       "    </tr>\n",
       "    <tr>\n",
       "      <th>floors</th>\n",
       "      <td>0.182848</td>\n",
       "      <td>0.262588</td>\n",
       "      <td>0.189532</td>\n",
       "      <td>0.508649</td>\n",
       "      <td>0.363193</td>\n",
       "      <td>0.001535</td>\n",
       "      <td>1.000000</td>\n",
       "      <td>0.031159</td>\n",
       "      <td>0.034511</td>\n",
       "      <td>-0.261016</td>\n",
       "      <td>0.462598</td>\n",
       "      <td>0.529476</td>\n",
       "      <td>-0.239350</td>\n",
       "      <td>0.490436</td>\n",
       "      <td>0.009752</td>\n",
       "      <td>-0.059107</td>\n",
       "      <td>0.049004</td>\n",
       "      <td>0.126983</td>\n",
       "      <td>0.287125</td>\n",
       "      <td>-0.010287</td>\n",
       "    </tr>\n",
       "    <tr>\n",
       "      <th>waterfront</th>\n",
       "      <td>-0.011775</td>\n",
       "      <td>0.265738</td>\n",
       "      <td>-0.004819</td>\n",
       "      <td>0.075452</td>\n",
       "      <td>0.108137</td>\n",
       "      <td>0.025584</td>\n",
       "      <td>0.031159</td>\n",
       "      <td>1.000000</td>\n",
       "      <td>0.389669</td>\n",
       "      <td>0.011613</td>\n",
       "      <td>0.088061</td>\n",
       "      <td>0.081968</td>\n",
       "      <td>0.071576</td>\n",
       "      <td>-0.026523</td>\n",
       "      <td>0.104168</td>\n",
       "      <td>0.028632</td>\n",
       "      <td>-0.014772</td>\n",
       "      <td>-0.037922</td>\n",
       "      <td>0.091810</td>\n",
       "      <td>0.028255</td>\n",
       "    </tr>\n",
       "    <tr>\n",
       "      <th>view</th>\n",
       "      <td>-0.024360</td>\n",
       "      <td>0.400806</td>\n",
       "      <td>0.085703</td>\n",
       "      <td>0.187488</td>\n",
       "      <td>0.282821</td>\n",
       "      <td>0.080441</td>\n",
       "      <td>0.034511</td>\n",
       "      <td>0.389669</td>\n",
       "      <td>1.000000</td>\n",
       "      <td>0.045255</td>\n",
       "      <td>0.247924</td>\n",
       "      <td>0.172693</td>\n",
       "      <td>0.265880</td>\n",
       "      <td>-0.061670</td>\n",
       "      <td>0.107605</td>\n",
       "      <td>0.089247</td>\n",
       "      <td>0.005285</td>\n",
       "      <td>-0.073151</td>\n",
       "      <td>0.278267</td>\n",
       "      <td>0.076501</td>\n",
       "    </tr>\n",
       "    <tr>\n",
       "      <th>condition</th>\n",
       "      <td>-0.101618</td>\n",
       "      <td>0.039740</td>\n",
       "      <td>0.034885</td>\n",
       "      <td>-0.125907</td>\n",
       "      <td>-0.054213</td>\n",
       "      <td>-0.002099</td>\n",
       "      <td>-0.261016</td>\n",
       "      <td>0.011613</td>\n",
       "      <td>0.045255</td>\n",
       "      <td>1.000000</td>\n",
       "      <td>-0.143599</td>\n",
       "      <td>-0.152856</td>\n",
       "      <td>0.175064</td>\n",
       "      <td>-0.366590</td>\n",
       "      <td>-0.062342</td>\n",
       "      <td>0.001106</td>\n",
       "      <td>-0.015974</td>\n",
       "      <td>-0.110742</td>\n",
       "      <td>-0.091407</td>\n",
       "      <td>-0.003873</td>\n",
       "    </tr>\n",
       "    <tr>\n",
       "      <th>grade</th>\n",
       "      <td>0.078622</td>\n",
       "      <td>0.667211</td>\n",
       "      <td>0.375286</td>\n",
       "      <td>0.666278</td>\n",
       "      <td>0.762543</td>\n",
       "      <td>0.119906</td>\n",
       "      <td>0.462598</td>\n",
       "      <td>0.088061</td>\n",
       "      <td>0.247924</td>\n",
       "      <td>-0.143599</td>\n",
       "      <td>1.000000</td>\n",
       "      <td>0.759240</td>\n",
       "      <td>0.162657</td>\n",
       "      <td>0.440608</td>\n",
       "      <td>0.030155</td>\n",
       "      <td>-0.186541</td>\n",
       "      <td>0.112319</td>\n",
       "      <td>0.202130</td>\n",
       "      <td>0.715321</td>\n",
       "      <td>0.119734</td>\n",
       "    </tr>\n",
       "    <tr>\n",
       "      <th>sqft_above</th>\n",
       "      <td>0.073086</td>\n",
       "      <td>0.608577</td>\n",
       "      <td>0.494867</td>\n",
       "      <td>0.688255</td>\n",
       "      <td>0.878736</td>\n",
       "      <td>0.186242</td>\n",
       "      <td>0.529476</td>\n",
       "      <td>0.081968</td>\n",
       "      <td>0.172693</td>\n",
       "      <td>-0.152856</td>\n",
       "      <td>0.759240</td>\n",
       "      <td>1.000000</td>\n",
       "      <td>-0.048623</td>\n",
       "      <td>0.422431</td>\n",
       "      <td>0.031441</td>\n",
       "      <td>-0.258474</td>\n",
       "      <td>0.001074</td>\n",
       "      <td>0.347226</td>\n",
       "      <td>0.737795</td>\n",
       "      <td>0.194226</td>\n",
       "    </tr>\n",
       "    <tr>\n",
       "      <th>sqft_basement</th>\n",
       "      <td>-0.050634</td>\n",
       "      <td>0.322218</td>\n",
       "      <td>0.315183</td>\n",
       "      <td>0.282642</td>\n",
       "      <td>0.434017</td>\n",
       "      <td>0.017818</td>\n",
       "      <td>-0.239350</td>\n",
       "      <td>0.071576</td>\n",
       "      <td>0.265880</td>\n",
       "      <td>0.175064</td>\n",
       "      <td>0.162657</td>\n",
       "      <td>-0.048623</td>\n",
       "      <td>1.000000</td>\n",
       "      <td>-0.136214</td>\n",
       "      <td>0.076452</td>\n",
       "      <td>0.067782</td>\n",
       "      <td>0.105969</td>\n",
       "      <td>-0.141792</td>\n",
       "      <td>0.198380</td>\n",
       "      <td>0.018813</td>\n",
       "    </tr>\n",
       "    <tr>\n",
       "      <th>yr_built</th>\n",
       "      <td>0.202477</td>\n",
       "      <td>0.047290</td>\n",
       "      <td>0.158799</td>\n",
       "      <td>0.503964</td>\n",
       "      <td>0.315927</td>\n",
       "      <td>0.058686</td>\n",
       "      <td>0.490436</td>\n",
       "      <td>-0.026523</td>\n",
       "      <td>-0.061670</td>\n",
       "      <td>-0.366590</td>\n",
       "      <td>0.440608</td>\n",
       "      <td>0.422431</td>\n",
       "      <td>-0.136214</td>\n",
       "      <td>1.000000</td>\n",
       "      <td>-0.215760</td>\n",
       "      <td>-0.354280</td>\n",
       "      <td>-0.156563</td>\n",
       "      <td>0.414565</td>\n",
       "      <td>0.324221</td>\n",
       "      <td>0.076009</td>\n",
       "    </tr>\n",
       "    <tr>\n",
       "      <th>yr_renovated</th>\n",
       "      <td>-0.029810</td>\n",
       "      <td>0.140808</td>\n",
       "      <td>0.022729</td>\n",
       "      <td>0.065423</td>\n",
       "      <td>0.064893</td>\n",
       "      <td>-0.001451</td>\n",
       "      <td>0.009752</td>\n",
       "      <td>0.104168</td>\n",
       "      <td>0.107605</td>\n",
       "      <td>-0.062342</td>\n",
       "      <td>0.030155</td>\n",
       "      <td>0.031441</td>\n",
       "      <td>0.076452</td>\n",
       "      <td>-0.215760</td>\n",
       "      <td>1.000000</td>\n",
       "      <td>0.068307</td>\n",
       "      <td>0.034844</td>\n",
       "      <td>-0.070134</td>\n",
       "      <td>0.007995</td>\n",
       "      <td>-0.000348</td>\n",
       "    </tr>\n",
       "    <tr>\n",
       "      <th>zipcode</th>\n",
       "      <td>-0.005761</td>\n",
       "      <td>-0.051498</td>\n",
       "      <td>-0.162081</td>\n",
       "      <td>-0.207500</td>\n",
       "      <td>-0.200745</td>\n",
       "      <td>-0.127709</td>\n",
       "      <td>-0.059107</td>\n",
       "      <td>0.028632</td>\n",
       "      <td>0.089247</td>\n",
       "      <td>0.001106</td>\n",
       "      <td>-0.186541</td>\n",
       "      <td>-0.258474</td>\n",
       "      <td>0.067782</td>\n",
       "      <td>-0.354280</td>\n",
       "      <td>0.068307</td>\n",
       "      <td>1.000000</td>\n",
       "      <td>0.261312</td>\n",
       "      <td>-0.563455</td>\n",
       "      <td>-0.274176</td>\n",
       "      <td>-0.145710</td>\n",
       "    </tr>\n",
       "    <tr>\n",
       "      <th>lat</th>\n",
       "      <td>0.002588</td>\n",
       "      <td>0.301604</td>\n",
       "      <td>-0.011190</td>\n",
       "      <td>0.018110</td>\n",
       "      <td>0.051609</td>\n",
       "      <td>-0.082234</td>\n",
       "      <td>0.049004</td>\n",
       "      <td>-0.014772</td>\n",
       "      <td>0.005285</td>\n",
       "      <td>-0.015974</td>\n",
       "      <td>0.112319</td>\n",
       "      <td>0.001074</td>\n",
       "      <td>0.105969</td>\n",
       "      <td>-0.156563</td>\n",
       "      <td>0.034844</td>\n",
       "      <td>0.261312</td>\n",
       "      <td>1.000000</td>\n",
       "      <td>-0.133460</td>\n",
       "      <td>0.048924</td>\n",
       "      <td>-0.081725</td>\n",
       "    </tr>\n",
       "    <tr>\n",
       "      <th>long</th>\n",
       "      <td>0.014757</td>\n",
       "      <td>0.023547</td>\n",
       "      <td>0.135802</td>\n",
       "      <td>0.227669</td>\n",
       "      <td>0.245429</td>\n",
       "      <td>0.227451</td>\n",
       "      <td>0.126983</td>\n",
       "      <td>-0.037922</td>\n",
       "      <td>-0.073151</td>\n",
       "      <td>-0.110742</td>\n",
       "      <td>0.202130</td>\n",
       "      <td>0.347226</td>\n",
       "      <td>-0.141792</td>\n",
       "      <td>0.414565</td>\n",
       "      <td>-0.070134</td>\n",
       "      <td>-0.563455</td>\n",
       "      <td>-0.133460</td>\n",
       "      <td>1.000000</td>\n",
       "      <td>0.333673</td>\n",
       "      <td>0.256201</td>\n",
       "    </tr>\n",
       "    <tr>\n",
       "      <th>sqft_living15</th>\n",
       "      <td>0.029248</td>\n",
       "      <td>0.586419</td>\n",
       "      <td>0.407394</td>\n",
       "      <td>0.573541</td>\n",
       "      <td>0.760271</td>\n",
       "      <td>0.147562</td>\n",
       "      <td>0.287125</td>\n",
       "      <td>0.091810</td>\n",
       "      <td>0.278267</td>\n",
       "      <td>-0.091407</td>\n",
       "      <td>0.715321</td>\n",
       "      <td>0.737795</td>\n",
       "      <td>0.198380</td>\n",
       "      <td>0.324221</td>\n",
       "      <td>0.007995</td>\n",
       "      <td>-0.274176</td>\n",
       "      <td>0.048924</td>\n",
       "      <td>0.333673</td>\n",
       "      <td>1.000000</td>\n",
       "      <td>0.183599</td>\n",
       "    </tr>\n",
       "    <tr>\n",
       "      <th>sqft_lot15</th>\n",
       "      <td>-0.032269</td>\n",
       "      <td>0.086384</td>\n",
       "      <td>0.027242</td>\n",
       "      <td>0.088120</td>\n",
       "      <td>0.184176</td>\n",
       "      <td>0.728458</td>\n",
       "      <td>-0.010287</td>\n",
       "      <td>0.028255</td>\n",
       "      <td>0.076501</td>\n",
       "      <td>-0.003873</td>\n",
       "      <td>0.119734</td>\n",
       "      <td>0.194226</td>\n",
       "      <td>0.018813</td>\n",
       "      <td>0.076009</td>\n",
       "      <td>-0.000348</td>\n",
       "      <td>-0.145710</td>\n",
       "      <td>-0.081725</td>\n",
       "      <td>0.256201</td>\n",
       "      <td>0.183599</td>\n",
       "      <td>1.000000</td>\n",
       "    </tr>\n",
       "  </tbody>\n",
       "</table>\n",
       "</div>"
      ],
      "text/plain": [
       "                     id     price  bedrooms  bathrooms  sqft_living  sqft_lot  \\\n",
       "id             1.000000  0.020899  0.010520   0.104030     0.041725 -0.034077   \n",
       "price          0.020899  1.000000  0.323672   0.525479     0.702899  0.096793   \n",
       "bedrooms       0.010520  0.323672  1.000000   0.530548     0.596974  0.033475   \n",
       "bathrooms      0.104030  0.525479  0.530548   1.000000     0.755853  0.089308   \n",
       "sqft_living    0.041725  0.702899  0.596974   0.755853     1.000000  0.176500   \n",
       "sqft_lot      -0.034077  0.096793  0.033475   0.089308     0.176500  1.000000   \n",
       "floors         0.182848  0.262588  0.189532   0.508649     0.363193  0.001535   \n",
       "waterfront    -0.011775  0.265738 -0.004819   0.075452     0.108137  0.025584   \n",
       "view          -0.024360  0.400806  0.085703   0.187488     0.282821  0.080441   \n",
       "condition     -0.101618  0.039740  0.034885  -0.125907    -0.054213 -0.002099   \n",
       "grade          0.078622  0.667211  0.375286   0.666278     0.762543  0.119906   \n",
       "sqft_above     0.073086  0.608577  0.494867   0.688255     0.878736  0.186242   \n",
       "sqft_basement -0.050634  0.322218  0.315183   0.282642     0.434017  0.017818   \n",
       "yr_built       0.202477  0.047290  0.158799   0.503964     0.315927  0.058686   \n",
       "yr_renovated  -0.029810  0.140808  0.022729   0.065423     0.064893 -0.001451   \n",
       "zipcode       -0.005761 -0.051498 -0.162081  -0.207500    -0.200745 -0.127709   \n",
       "lat            0.002588  0.301604 -0.011190   0.018110     0.051609 -0.082234   \n",
       "long           0.014757  0.023547  0.135802   0.227669     0.245429  0.227451   \n",
       "sqft_living15  0.029248  0.586419  0.407394   0.573541     0.760271  0.147562   \n",
       "sqft_lot15    -0.032269  0.086384  0.027242   0.088120     0.184176  0.728458   \n",
       "\n",
       "                 floors  waterfront      view  condition     grade  \\\n",
       "id             0.182848   -0.011775 -0.024360  -0.101618  0.078622   \n",
       "price          0.262588    0.265738  0.400806   0.039740  0.667211   \n",
       "bedrooms       0.189532   -0.004819  0.085703   0.034885  0.375286   \n",
       "bathrooms      0.508649    0.075452  0.187488  -0.125907  0.666278   \n",
       "sqft_living    0.363193    0.108137  0.282821  -0.054213  0.762543   \n",
       "sqft_lot       0.001535    0.025584  0.080441  -0.002099  0.119906   \n",
       "floors         1.000000    0.031159  0.034511  -0.261016  0.462598   \n",
       "waterfront     0.031159    1.000000  0.389669   0.011613  0.088061   \n",
       "view           0.034511    0.389669  1.000000   0.045255  0.247924   \n",
       "condition     -0.261016    0.011613  0.045255   1.000000 -0.143599   \n",
       "grade          0.462598    0.088061  0.247924  -0.143599  1.000000   \n",
       "sqft_above     0.529476    0.081968  0.172693  -0.152856  0.759240   \n",
       "sqft_basement -0.239350    0.071576  0.265880   0.175064  0.162657   \n",
       "yr_built       0.490436   -0.026523 -0.061670  -0.366590  0.440608   \n",
       "yr_renovated   0.009752    0.104168  0.107605  -0.062342  0.030155   \n",
       "zipcode       -0.059107    0.028632  0.089247   0.001106 -0.186541   \n",
       "lat            0.049004   -0.014772  0.005285  -0.015974  0.112319   \n",
       "long           0.126983   -0.037922 -0.073151  -0.110742  0.202130   \n",
       "sqft_living15  0.287125    0.091810  0.278267  -0.091407  0.715321   \n",
       "sqft_lot15    -0.010287    0.028255  0.076501  -0.003873  0.119734   \n",
       "\n",
       "               sqft_above  sqft_basement  yr_built  yr_renovated   zipcode  \\\n",
       "id               0.073086      -0.050634  0.202477     -0.029810 -0.005761   \n",
       "price            0.608577       0.322218  0.047290      0.140808 -0.051498   \n",
       "bedrooms         0.494867       0.315183  0.158799      0.022729 -0.162081   \n",
       "bathrooms        0.688255       0.282642  0.503964      0.065423 -0.207500   \n",
       "sqft_living      0.878736       0.434017  0.315927      0.064893 -0.200745   \n",
       "sqft_lot         0.186242       0.017818  0.058686     -0.001451 -0.127709   \n",
       "floors           0.529476      -0.239350  0.490436      0.009752 -0.059107   \n",
       "waterfront       0.081968       0.071576 -0.026523      0.104168  0.028632   \n",
       "view             0.172693       0.265880 -0.061670      0.107605  0.089247   \n",
       "condition       -0.152856       0.175064 -0.366590     -0.062342  0.001106   \n",
       "grade            0.759240       0.162657  0.440608      0.030155 -0.186541   \n",
       "sqft_above       1.000000      -0.048623  0.422431      0.031441 -0.258474   \n",
       "sqft_basement   -0.048623       1.000000 -0.136214      0.076452  0.067782   \n",
       "yr_built         0.422431      -0.136214  1.000000     -0.215760 -0.354280   \n",
       "yr_renovated     0.031441       0.076452 -0.215760      1.000000  0.068307   \n",
       "zipcode         -0.258474       0.067782 -0.354280      0.068307  1.000000   \n",
       "lat              0.001074       0.105969 -0.156563      0.034844  0.261312   \n",
       "long             0.347226      -0.141792  0.414565     -0.070134 -0.563455   \n",
       "sqft_living15    0.737795       0.198380  0.324221      0.007995 -0.274176   \n",
       "sqft_lot15       0.194226       0.018813  0.076009     -0.000348 -0.145710   \n",
       "\n",
       "                    lat      long  sqft_living15  sqft_lot15  \n",
       "id             0.002588  0.014757       0.029248   -0.032269  \n",
       "price          0.301604  0.023547       0.586419    0.086384  \n",
       "bedrooms      -0.011190  0.135802       0.407394    0.027242  \n",
       "bathrooms      0.018110  0.227669       0.573541    0.088120  \n",
       "sqft_living    0.051609  0.245429       0.760271    0.184176  \n",
       "sqft_lot      -0.082234  0.227451       0.147562    0.728458  \n",
       "floors         0.049004  0.126983       0.287125   -0.010287  \n",
       "waterfront    -0.014772 -0.037922       0.091810    0.028255  \n",
       "view           0.005285 -0.073151       0.278267    0.076501  \n",
       "condition     -0.015974 -0.110742      -0.091407   -0.003873  \n",
       "grade          0.112319  0.202130       0.715321    0.119734  \n",
       "sqft_above     0.001074  0.347226       0.737795    0.194226  \n",
       "sqft_basement  0.105969 -0.141792       0.198380    0.018813  \n",
       "yr_built      -0.156563  0.414565       0.324221    0.076009  \n",
       "yr_renovated   0.034844 -0.070134       0.007995   -0.000348  \n",
       "zipcode        0.261312 -0.563455      -0.274176   -0.145710  \n",
       "lat            1.000000 -0.133460       0.048924   -0.081725  \n",
       "long          -0.133460  1.000000       0.333673    0.256201  \n",
       "sqft_living15  0.048924  0.333673       1.000000    0.183599  \n",
       "sqft_lot15    -0.081725  0.256201       0.183599    1.000000  "
      ]
     },
     "execution_count": 135,
     "metadata": {},
     "output_type": "execute_result"
    }
   ],
   "source": [
    "train=pd.read_csv(\"data/house_train.csv\")\n",
    "train.corr()"
   ]
  },
  {
   "cell_type": "code",
   "execution_count": null,
   "metadata": {},
   "outputs": [],
   "source": []
  },
  {
   "cell_type": "code",
   "execution_count": null,
   "metadata": {},
   "outputs": [],
   "source": []
  },
  {
   "cell_type": "code",
   "execution_count": null,
   "metadata": {},
   "outputs": [],
   "source": []
  }
 ],
 "metadata": {
  "kernelspec": {
   "display_name": "Python 3",
   "language": "python",
   "name": "python3"
  },
  "language_info": {
   "codemirror_mode": {
    "name": "ipython",
    "version": 3
   },
   "file_extension": ".py",
   "mimetype": "text/x-python",
   "name": "python",
   "nbconvert_exporter": "python",
   "pygments_lexer": "ipython3",
   "version": "3.8.3"
  }
 },
 "nbformat": 4,
 "nbformat_minor": 4
}
